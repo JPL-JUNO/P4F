{
 "cells": [
  {
   "cell_type": "code",
   "execution_count": 1,
   "id": "a6383b3b",
   "metadata": {
    "ExecuteTime": {
     "end_time": "2022-09-26T12:49:50.579441Z",
     "start_time": "2022-09-26T12:49:50.551453Z"
    }
   },
   "outputs": [
    {
     "data": {
      "text/plain": [
       "[0.5, 0.75, 1.0, 1.5, 2.0]"
      ]
     },
     "execution_count": 1,
     "metadata": {},
     "output_type": "execute_result"
    }
   ],
   "source": [
    "v = [.5, .75, 1., 1.5, 2.0]\n",
    "v"
   ]
  },
  {
   "cell_type": "code",
   "execution_count": 2,
   "id": "92c25d85",
   "metadata": {
    "ExecuteTime": {
     "end_time": "2022-09-26T12:49:50.728664Z",
     "start_time": "2022-09-26T12:49:50.707661Z"
    }
   },
   "outputs": [
    {
     "data": {
      "text/plain": [
       "[[0.5, 0.75, 1.0, 1.5, 2.0],\n",
       " [0.5, 0.75, 1.0, 1.5, 2.0],\n",
       " [0.5, 0.75, 1.0, 1.5, 2.0]]"
      ]
     },
     "execution_count": 2,
     "metadata": {},
     "output_type": "execute_result"
    }
   ],
   "source": [
    "m = [v, v, v]\n",
    "m"
   ]
  },
  {
   "cell_type": "code",
   "execution_count": 3,
   "id": "f648f277",
   "metadata": {
    "ExecuteTime": {
     "end_time": "2022-09-26T12:49:50.891314Z",
     "start_time": "2022-09-26T12:49:50.880316Z"
    }
   },
   "outputs": [
    {
     "data": {
      "text/plain": [
       "[0.5, 0.75, 1.0, 1.5, 2.0]"
      ]
     },
     "execution_count": 3,
     "metadata": {},
     "output_type": "execute_result"
    }
   ],
   "source": [
    "m[1]"
   ]
  },
  {
   "cell_type": "code",
   "execution_count": 4,
   "id": "ce69d0a7",
   "metadata": {
    "ExecuteTime": {
     "end_time": "2022-09-26T12:49:51.063048Z",
     "start_time": "2022-09-26T12:49:51.044052Z"
    }
   },
   "outputs": [
    {
     "data": {
      "text/plain": [
       "0.5"
      ]
     },
     "execution_count": 4,
     "metadata": {},
     "output_type": "execute_result"
    }
   ],
   "source": [
    "m[1][0]"
   ]
  },
  {
   "cell_type": "code",
   "execution_count": 5,
   "id": "0498e4d2",
   "metadata": {
    "ExecuteTime": {
     "end_time": "2022-09-26T12:49:51.210308Z",
     "start_time": "2022-09-26T12:49:51.194312Z"
    }
   },
   "outputs": [],
   "source": [
    "v1 = [.5, 1.5]\n",
    "v2 = [1, 2]"
   ]
  },
  {
   "cell_type": "code",
   "execution_count": 6,
   "id": "7f8b9aad",
   "metadata": {
    "ExecuteTime": {
     "end_time": "2022-09-26T12:49:51.372390Z",
     "start_time": "2022-09-26T12:49:51.355391Z"
    }
   },
   "outputs": [
    {
     "data": {
      "text/plain": [
       "[[[0.5, 1.5], [1, 2]], [[0.5, 1.5], [1, 2]]]"
      ]
     },
     "execution_count": 6,
     "metadata": {},
     "output_type": "execute_result"
    }
   ],
   "source": [
    "m = [v1, v2]\n",
    "c = [m, m]\n",
    "c"
   ]
  },
  {
   "cell_type": "code",
   "execution_count": 7,
   "id": "433e960d",
   "metadata": {
    "ExecuteTime": {
     "end_time": "2022-09-26T12:49:51.525816Z",
     "start_time": "2022-09-26T12:49:51.516815Z"
    }
   },
   "outputs": [
    {
     "data": {
      "text/plain": [
       "[[0.5, 1.5], [1, 2]]"
      ]
     },
     "execution_count": 7,
     "metadata": {},
     "output_type": "execute_result"
    }
   ],
   "source": [
    "c[1]"
   ]
  },
  {
   "cell_type": "code",
   "execution_count": 8,
   "id": "80176285",
   "metadata": {
    "ExecuteTime": {
     "end_time": "2022-09-26T12:49:51.710101Z",
     "start_time": "2022-09-26T12:49:51.688904Z"
    }
   },
   "outputs": [
    {
     "data": {
      "text/plain": [
       "[1, 2]"
      ]
     },
     "execution_count": 8,
     "metadata": {},
     "output_type": "execute_result"
    }
   ],
   "source": [
    "c[1][1]"
   ]
  },
  {
   "cell_type": "code",
   "execution_count": 9,
   "id": "633f4d05",
   "metadata": {
    "ExecuteTime": {
     "end_time": "2022-09-26T12:49:51.909613Z",
     "start_time": "2022-09-26T12:49:51.887773Z"
    }
   },
   "outputs": [
    {
     "data": {
      "text/plain": [
       "1"
      ]
     },
     "execution_count": 9,
     "metadata": {},
     "output_type": "execute_result"
    }
   ],
   "source": [
    "c[1][1][0]"
   ]
  },
  {
   "cell_type": "markdown",
   "id": "7d902539",
   "metadata": {},
   "source": [
    "Note that combining objects in the way just presented generally works with reference\n",
    "pointers to the original objects. What does that mean in practice? Have a look at the\n",
    "following operations:"
   ]
  },
  {
   "cell_type": "code",
   "execution_count": 10,
   "id": "204860b7",
   "metadata": {
    "ExecuteTime": {
     "end_time": "2022-09-26T12:49:52.226792Z",
     "start_time": "2022-09-26T12:49:52.214001Z"
    }
   },
   "outputs": [
    {
     "data": {
      "text/plain": [
       "[[0.5, 0.75, 1.0, 1.5, 2.0],\n",
       " [0.5, 0.75, 1.0, 1.5, 2.0],\n",
       " [0.5, 0.75, 1.0, 1.5, 2.0]]"
      ]
     },
     "execution_count": 10,
     "metadata": {},
     "output_type": "execute_result"
    }
   ],
   "source": [
    "m = [v, v, v]\n",
    "m"
   ]
  },
  {
   "cell_type": "code",
   "execution_count": 11,
   "id": "8ea23d15",
   "metadata": {
    "ExecuteTime": {
     "end_time": "2022-09-26T12:49:52.402042Z",
     "start_time": "2022-09-26T12:49:52.394043Z"
    }
   },
   "outputs": [
    {
     "data": {
      "text/plain": [
       "[['Python', 0.75, 1.0, 1.5, 2.0],\n",
       " ['Python', 0.75, 1.0, 1.5, 2.0],\n",
       " ['Python', 0.75, 1.0, 1.5, 2.0]]"
      ]
     },
     "execution_count": 11,
     "metadata": {},
     "output_type": "execute_result"
    }
   ],
   "source": [
    "v[0] = 'Python'\n",
    "m"
   ]
  },
  {
   "cell_type": "markdown",
   "id": "1c8b984a",
   "metadata": {},
   "source": [
    "This can be avoided by using the deepcopy() function of the copy module:"
   ]
  },
  {
   "cell_type": "code",
   "execution_count": 12,
   "id": "873a8e36",
   "metadata": {
    "ExecuteTime": {
     "end_time": "2022-09-26T12:49:52.775498Z",
     "start_time": "2022-09-26T12:49:52.771497Z"
    }
   },
   "outputs": [],
   "source": [
    "from copy import deepcopy"
   ]
  },
  {
   "cell_type": "code",
   "execution_count": 13,
   "id": "d6bc08d0",
   "metadata": {
    "ExecuteTime": {
     "end_time": "2022-09-26T12:49:52.942775Z",
     "start_time": "2022-09-26T12:49:52.922775Z"
    }
   },
   "outputs": [
    {
     "data": {
      "text/plain": [
       "[[0.5, 0.75, 1.0, 1.5, 2.0],\n",
       " [0.5, 0.75, 1.0, 1.5, 2.0],\n",
       " [0.5, 0.75, 1.0, 1.5, 2.0]]"
      ]
     },
     "execution_count": 13,
     "metadata": {},
     "output_type": "execute_result"
    }
   ],
   "source": [
    "v = [.5, .75, 1., 1.5, 2.0]\n",
    "m = 3 * [deepcopy(v), ]\n",
    "m\n",
    "# Instead of reference pointer, physical copies are used."
   ]
  },
  {
   "cell_type": "code",
   "execution_count": 14,
   "id": "ddb989a7",
   "metadata": {
    "ExecuteTime": {
     "end_time": "2022-09-26T12:49:53.095297Z",
     "start_time": "2022-09-26T12:49:53.076524Z"
    }
   },
   "outputs": [
    {
     "data": {
      "text/plain": [
       "[[0.5, 0.75, 1.0, 1.5, 2.0],\n",
       " [0.5, 0.75, 1.0, 1.5, 2.0],\n",
       " [0.5, 0.75, 1.0, 1.5, 2.0]]"
      ]
     },
     "execution_count": 14,
     "metadata": {},
     "output_type": "execute_result"
    }
   ],
   "source": [
    "v[0] = 'Python'\n",
    "m"
   ]
  },
  {
   "cell_type": "code",
   "execution_count": 15,
   "id": "30fa6841",
   "metadata": {
    "ExecuteTime": {
     "end_time": "2022-09-26T12:49:53.259042Z",
     "start_time": "2022-09-26T12:49:53.248953Z"
    }
   },
   "outputs": [],
   "source": [
    "v = [.5, .75, 1., 1.5, 2.0]"
   ]
  },
  {
   "cell_type": "code",
   "execution_count": 16,
   "id": "27a46c4e",
   "metadata": {
    "ExecuteTime": {
     "end_time": "2022-09-26T12:49:53.428654Z",
     "start_time": "2022-09-26T12:49:53.421651Z"
    }
   },
   "outputs": [],
   "source": [
    "import array"
   ]
  },
  {
   "cell_type": "code",
   "execution_count": 17,
   "id": "de5e6ade",
   "metadata": {
    "ExecuteTime": {
     "end_time": "2022-09-26T12:49:53.594941Z",
     "start_time": "2022-09-26T12:49:53.579159Z"
    }
   },
   "outputs": [
    {
     "data": {
      "text/plain": [
       "array('f', [0.5, 0.75, 1.0, 1.5, 2.0])"
      ]
     },
     "execution_count": 17,
     "metadata": {},
     "output_type": "execute_result"
    }
   ],
   "source": [
    "a = array.array('f', v)\n",
    "a"
   ]
  },
  {
   "cell_type": "code",
   "execution_count": 18,
   "id": "01d76031",
   "metadata": {
    "ExecuteTime": {
     "end_time": "2022-09-26T12:49:53.758959Z",
     "start_time": "2022-09-26T12:49:53.741959Z"
    }
   },
   "outputs": [
    {
     "data": {
      "text/plain": [
       "array('f', [0.5, 0.75, 1.0, 1.5, 2.0, 0.5])"
      ]
     },
     "execution_count": 18,
     "metadata": {},
     "output_type": "execute_result"
    }
   ],
   "source": [
    "a.append(.5)\n",
    "a"
   ]
  },
  {
   "cell_type": "code",
   "execution_count": 19,
   "id": "54dec3f1",
   "metadata": {
    "ExecuteTime": {
     "end_time": "2022-09-26T12:49:54.075083Z",
     "start_time": "2022-09-26T12:49:54.067080Z"
    }
   },
   "outputs": [
    {
     "data": {
      "text/plain": [
       "array('f', [0.5, 0.75, 1.0, 1.5, 2.0, 0.5, 5.0, 6.75])"
      ]
     },
     "execution_count": 19,
     "metadata": {},
     "output_type": "execute_result"
    }
   ],
   "source": [
    "a.extend([5.0, 6.75])\n",
    "a"
   ]
  },
  {
   "cell_type": "code",
   "execution_count": 20,
   "id": "82aff092",
   "metadata": {
    "ExecuteTime": {
     "end_time": "2022-09-26T12:49:54.256489Z",
     "start_time": "2022-09-26T12:49:54.246489Z"
    }
   },
   "outputs": [
    {
     "data": {
      "text/plain": [
       "array('f', [0.5, 0.75, 1.0, 1.5, 2.0, 0.5, 5.0, 6.75, 0.5, 0.75, 1.0, 1.5, 2.0, 0.5, 5.0, 6.75])"
      ]
     },
     "execution_count": 20,
     "metadata": {},
     "output_type": "execute_result"
    }
   ],
   "source": [
    "2 * a"
   ]
  },
  {
   "cell_type": "code",
   "execution_count": 21,
   "id": "594c7085",
   "metadata": {
    "ExecuteTime": {
     "end_time": "2022-09-26T12:49:55.574574Z",
     "start_time": "2022-09-26T12:49:54.412282Z"
    },
    "scrolled": true
   },
   "outputs": [
    {
     "ename": "TypeError",
     "evalue": "must be real number, not str",
     "output_type": "error",
     "traceback": [
      "\u001b[1;31m---------------------------------------------------------------------------\u001b[0m",
      "\u001b[1;31mTypeError\u001b[0m                                 Traceback (most recent call last)",
      "Input \u001b[1;32mIn [21]\u001b[0m, in \u001b[0;36m<cell line: 1>\u001b[1;34m()\u001b[0m\n\u001b[1;32m----> 1\u001b[0m \u001b[43ma\u001b[49m\u001b[38;5;241;43m.\u001b[39;49m\u001b[43mappend\u001b[49m\u001b[43m(\u001b[49m\u001b[38;5;124;43m'\u001b[39;49m\u001b[38;5;124;43mstring\u001b[39;49m\u001b[38;5;124;43m'\u001b[39;49m\u001b[43m)\u001b[49m\n",
      "\u001b[1;31mTypeError\u001b[0m: must be real number, not str"
     ]
    }
   ],
   "source": [
    "a.append('string')"
   ]
  },
  {
   "cell_type": "code",
   "execution_count": null,
   "id": "911aad2b",
   "metadata": {
    "ExecuteTime": {
     "end_time": "2022-09-26T12:49:55.583575Z",
     "start_time": "2022-09-26T12:49:55.583575Z"
    }
   },
   "outputs": [],
   "source": [
    "a.tolist()"
   ]
  },
  {
   "cell_type": "code",
   "execution_count": null,
   "id": "768aec01",
   "metadata": {
    "ExecuteTime": {
     "end_time": "2022-09-26T12:49:55.589572Z",
     "start_time": "2022-09-26T12:49:55.589572Z"
    }
   },
   "outputs": [],
   "source": [
    "f = open('array.apy', 'wb')\n",
    "a.tofile(f)\n",
    "f.close()"
   ]
  },
  {
   "cell_type": "code",
   "execution_count": null,
   "id": "ced5d787",
   "metadata": {
    "ExecuteTime": {
     "end_time": "2022-09-26T12:49:55.596572Z",
     "start_time": "2022-09-26T12:49:55.596572Z"
    }
   },
   "outputs": [],
   "source": [
    "with open('array.apy', 'wb') as f:\n",
    "    a.tofile(f)"
   ]
  },
  {
   "cell_type": "code",
   "execution_count": null,
   "id": "0bf138a9",
   "metadata": {
    "ExecuteTime": {
     "end_time": "2022-09-26T12:49:55.602573Z",
     "start_time": "2022-09-26T12:49:55.602573Z"
    }
   },
   "outputs": [],
   "source": [
    "%ls -n arr*"
   ]
  },
  {
   "cell_type": "code",
   "execution_count": null,
   "id": "5ccc31fb",
   "metadata": {
    "ExecuteTime": {
     "end_time": "2022-09-26T12:49:55.608572Z",
     "start_time": "2022-09-26T12:49:55.608572Z"
    }
   },
   "outputs": [],
   "source": [
    "b = array.array('f')\n",
    "with open('array.apy', 'rb') as f:\n",
    "    b.fromfile(f, 5)\n",
    "b"
   ]
  },
  {
   "cell_type": "code",
   "execution_count": null,
   "id": "9176759c",
   "metadata": {
    "ExecuteTime": {
     "end_time": "2022-09-26T12:49:55.615574Z",
     "start_time": "2022-09-26T12:49:55.615574Z"
    }
   },
   "outputs": [],
   "source": [
    "b = array.array('d')\n",
    "with open('array.apy', 'rb') as f:\n",
    "    b.fromfile(f, 2)\n",
    "b\n",
    "# The difference in type codes leads to “wrong” numbers."
   ]
  },
  {
   "cell_type": "code",
   "execution_count": 22,
   "id": "bc5b2346",
   "metadata": {
    "ExecuteTime": {
     "end_time": "2022-09-26T12:49:56.113677Z",
     "start_time": "2022-09-26T12:49:56.095629Z"
    }
   },
   "outputs": [],
   "source": [
    "import numpy as np"
   ]
  },
  {
   "cell_type": "code",
   "execution_count": 23,
   "id": "5161cbe1",
   "metadata": {
    "ExecuteTime": {
     "end_time": "2022-09-26T12:49:56.161676Z",
     "start_time": "2022-09-26T12:49:56.146677Z"
    }
   },
   "outputs": [
    {
     "data": {
      "text/plain": [
       "array(['a', 'b', 'c'], dtype='<U1')"
      ]
     },
     "execution_count": 23,
     "metadata": {},
     "output_type": "execute_result"
    }
   ],
   "source": [
    "a = np.array(['a', 'b', 'c'])\n",
    "a"
   ]
  },
  {
   "cell_type": "code",
   "execution_count": 24,
   "id": "6a48d29e",
   "metadata": {
    "ExecuteTime": {
     "end_time": "2022-09-26T12:49:56.209675Z",
     "start_time": "2022-09-26T12:49:56.192677Z"
    }
   },
   "outputs": [
    {
     "data": {
      "text/plain": [
       "array([0. , 0.5, 1. , 1.5, 2. ])"
      ]
     },
     "execution_count": 24,
     "metadata": {},
     "output_type": "execute_result"
    }
   ],
   "source": [
    "a = np.array([0, .5, 1.0, 1.5, 2.0])\n",
    "a"
   ]
  },
  {
   "cell_type": "code",
   "execution_count": 25,
   "id": "8ffd5997",
   "metadata": {
    "ExecuteTime": {
     "end_time": "2022-09-26T12:49:56.256675Z",
     "start_time": "2022-09-26T12:49:56.240676Z"
    }
   },
   "outputs": [
    {
     "data": {
      "text/plain": [
       "numpy.ndarray"
      ]
     },
     "execution_count": 25,
     "metadata": {},
     "output_type": "execute_result"
    }
   ],
   "source": [
    "type(a)"
   ]
  },
  {
   "cell_type": "code",
   "execution_count": 26,
   "id": "68f894e7",
   "metadata": {
    "ExecuteTime": {
     "end_time": "2022-09-26T12:49:57.140590Z",
     "start_time": "2022-09-26T12:49:57.126591Z"
    }
   },
   "outputs": [
    {
     "data": {
      "text/plain": [
       "array([ 2,  4,  6,  8, 10, 12, 14, 16, 18])"
      ]
     },
     "execution_count": 26,
     "metadata": {},
     "output_type": "execute_result"
    }
   ],
   "source": [
    "a = np.arange(2, 20, 2)\n",
    "a"
   ]
  },
  {
   "cell_type": "code",
   "execution_count": 27,
   "id": "2fa7b4ac",
   "metadata": {
    "ExecuteTime": {
     "end_time": "2022-09-26T12:49:57.325609Z",
     "start_time": "2022-09-26T12:49:57.305609Z"
    }
   },
   "outputs": [
    {
     "data": {
      "text/plain": [
       "array([0., 1., 2., 3., 4., 5., 6., 7.])"
      ]
     },
     "execution_count": 27,
     "metadata": {},
     "output_type": "execute_result"
    }
   ],
   "source": [
    "a = np.arange(8, dtype=np.float64)\n",
    "a"
   ]
  },
  {
   "cell_type": "code",
   "execution_count": 28,
   "id": "335285c2",
   "metadata": {
    "ExecuteTime": {
     "end_time": "2022-09-26T12:49:57.529176Z",
     "start_time": "2022-09-26T12:49:57.507012Z"
    }
   },
   "outputs": [
    {
     "data": {
      "text/plain": [
       "array([5., 6., 7.])"
      ]
     },
     "execution_count": 28,
     "metadata": {},
     "output_type": "execute_result"
    }
   ],
   "source": [
    "a[5: ]"
   ]
  },
  {
   "cell_type": "code",
   "execution_count": 29,
   "id": "7a6d8c21",
   "metadata": {
    "ExecuteTime": {
     "end_time": "2022-09-26T12:49:57.695830Z",
     "start_time": "2022-09-26T12:49:57.672086Z"
    }
   },
   "outputs": [
    {
     "data": {
      "text/plain": [
       "array([0., 1.])"
      ]
     },
     "execution_count": 29,
     "metadata": {},
     "output_type": "execute_result"
    }
   ],
   "source": [
    "a[: 2]"
   ]
  },
  {
   "cell_type": "code",
   "execution_count": 30,
   "id": "421b2766",
   "metadata": {
    "ExecuteTime": {
     "end_time": "2022-09-26T12:49:57.894101Z",
     "start_time": "2022-09-26T12:49:57.883010Z"
    }
   },
   "outputs": [
    {
     "data": {
      "text/plain": [
       "28.0"
      ]
     },
     "execution_count": 30,
     "metadata": {},
     "output_type": "execute_result"
    }
   ],
   "source": [
    "a.sum()"
   ]
  },
  {
   "cell_type": "code",
   "execution_count": 31,
   "id": "c0557e93",
   "metadata": {
    "ExecuteTime": {
     "end_time": "2022-09-26T12:49:58.062971Z",
     "start_time": "2022-09-26T12:49:58.048971Z"
    }
   },
   "outputs": [
    {
     "data": {
      "text/plain": [
       "2.29128784747792"
      ]
     },
     "execution_count": 31,
     "metadata": {},
     "output_type": "execute_result"
    }
   ],
   "source": [
    "a.std()"
   ]
  },
  {
   "cell_type": "code",
   "execution_count": 32,
   "id": "524e268a",
   "metadata": {
    "ExecuteTime": {
     "end_time": "2022-09-26T12:49:58.278081Z",
     "start_time": "2022-09-26T12:49:58.266435Z"
    }
   },
   "outputs": [
    {
     "data": {
      "text/plain": [
       "array([ 0.,  1.,  3.,  6., 10., 15., 21., 28.])"
      ]
     },
     "execution_count": 32,
     "metadata": {},
     "output_type": "execute_result"
    }
   ],
   "source": [
    "a.cumsum()"
   ]
  },
  {
   "cell_type": "code",
   "execution_count": 33,
   "id": "2a982d63",
   "metadata": {
    "ExecuteTime": {
     "end_time": "2022-09-26T12:49:58.544744Z",
     "start_time": "2022-09-26T12:49:58.539745Z"
    }
   },
   "outputs": [],
   "source": [
    "l = [0, .5, 1.5, 3, 5]"
   ]
  },
  {
   "cell_type": "code",
   "execution_count": 34,
   "id": "b09f3547",
   "metadata": {
    "ExecuteTime": {
     "end_time": "2022-09-26T12:49:58.762438Z",
     "start_time": "2022-09-26T12:49:58.746619Z"
    }
   },
   "outputs": [
    {
     "data": {
      "text/plain": [
       "[0, 0.5, 1.5, 3, 5, 0, 0.5, 1.5, 3, 5]"
      ]
     },
     "execution_count": 34,
     "metadata": {},
     "output_type": "execute_result"
    }
   ],
   "source": [
    "l * 2"
   ]
  },
  {
   "cell_type": "code",
   "execution_count": 35,
   "id": "c9fabd09",
   "metadata": {
    "ExecuteTime": {
     "end_time": "2022-09-26T12:49:58.945795Z",
     "start_time": "2022-09-26T12:49:58.924434Z"
    }
   },
   "outputs": [
    {
     "data": {
      "text/plain": [
       "array([0., 1., 2., 3., 4., 5., 6., 7.])"
      ]
     },
     "execution_count": 35,
     "metadata": {},
     "output_type": "execute_result"
    }
   ],
   "source": [
    "a"
   ]
  },
  {
   "cell_type": "code",
   "execution_count": 36,
   "id": "1ec10f5e",
   "metadata": {
    "ExecuteTime": {
     "end_time": "2022-09-26T12:49:59.303690Z",
     "start_time": "2022-09-26T12:49:59.288086Z"
    }
   },
   "outputs": [
    {
     "data": {
      "text/plain": [
       "array([ 0.,  2.,  4.,  6.,  8., 10., 12., 14.])"
      ]
     },
     "execution_count": 36,
     "metadata": {},
     "output_type": "execute_result"
    }
   ],
   "source": [
    "a * 2"
   ]
  },
  {
   "cell_type": "code",
   "execution_count": 37,
   "id": "cf34c984",
   "metadata": {
    "ExecuteTime": {
     "end_time": "2022-09-26T12:49:59.896641Z",
     "start_time": "2022-09-26T12:49:59.889630Z"
    }
   },
   "outputs": [
    {
     "data": {
      "text/plain": [
       "array([ 0.,  1.,  4.,  9., 16., 25., 36., 49.])"
      ]
     },
     "execution_count": 37,
     "metadata": {},
     "output_type": "execute_result"
    }
   ],
   "source": [
    "a ** 2"
   ]
  },
  {
   "cell_type": "code",
   "execution_count": 38,
   "id": "570fcd80",
   "metadata": {
    "ExecuteTime": {
     "end_time": "2022-09-26T12:49:59.928640Z",
     "start_time": "2022-09-26T12:49:59.921638Z"
    }
   },
   "outputs": [
    {
     "data": {
      "text/plain": [
       "array([ 0.,  1.,  4.,  9., 16., 25., 36., 49.])"
      ]
     },
     "execution_count": 38,
     "metadata": {},
     "output_type": "execute_result"
    }
   ],
   "source": [
    "a * a"
   ]
  },
  {
   "cell_type": "code",
   "execution_count": 39,
   "id": "ff6621e6",
   "metadata": {
    "ExecuteTime": {
     "end_time": "2022-09-26T12:49:59.975637Z",
     "start_time": "2022-09-26T12:49:59.955639Z"
    }
   },
   "outputs": [
    {
     "data": {
      "text/plain": [
       "array([1.00000000e+00, 2.71828183e+00, 7.38905610e+00, 2.00855369e+01,\n",
       "       5.45981500e+01, 1.48413159e+02, 4.03428793e+02, 1.09663316e+03])"
      ]
     },
     "execution_count": 39,
     "metadata": {},
     "output_type": "execute_result"
    }
   ],
   "source": [
    "np.exp(a)"
   ]
  },
  {
   "cell_type": "code",
   "execution_count": 40,
   "id": "10810cfc",
   "metadata": {
    "ExecuteTime": {
     "end_time": "2022-09-26T12:50:00.144434Z",
     "start_time": "2022-09-26T12:50:00.124436Z"
    }
   },
   "outputs": [
    {
     "data": {
      "text/plain": [
       "array([0.        , 1.        , 1.41421356, 1.73205081, 2.        ,\n",
       "       2.23606798, 2.44948974, 2.64575131])"
      ]
     },
     "execution_count": 40,
     "metadata": {},
     "output_type": "execute_result"
    }
   ],
   "source": [
    "np.sqrt(a)"
   ]
  },
  {
   "cell_type": "code",
   "execution_count": 41,
   "id": "9ebe3ef2",
   "metadata": {
    "ExecuteTime": {
     "end_time": "2022-09-26T12:50:00.793563Z",
     "start_time": "2022-09-26T12:50:00.786558Z"
    }
   },
   "outputs": [
    {
     "data": {
      "text/plain": [
       "1.5811388300841898"
      ]
     },
     "execution_count": 41,
     "metadata": {},
     "output_type": "execute_result"
    }
   ],
   "source": [
    "np.sqrt(2.5)"
   ]
  },
  {
   "cell_type": "code",
   "execution_count": 42,
   "id": "4051c29b",
   "metadata": {
    "ExecuteTime": {
     "end_time": "2022-09-26T12:50:00.996567Z",
     "start_time": "2022-09-26T12:50:00.979472Z"
    }
   },
   "outputs": [],
   "source": [
    "import math"
   ]
  },
  {
   "cell_type": "code",
   "execution_count": 43,
   "id": "f4585925",
   "metadata": {
    "ExecuteTime": {
     "end_time": "2022-09-26T12:50:01.179862Z",
     "start_time": "2022-09-26T12:50:01.159553Z"
    }
   },
   "outputs": [
    {
     "data": {
      "text/plain": [
       "1.5811388300841898"
      ]
     },
     "execution_count": 43,
     "metadata": {},
     "output_type": "execute_result"
    }
   ],
   "source": [
    "math.sqrt(2.5)"
   ]
  },
  {
   "cell_type": "code",
   "execution_count": 44,
   "id": "164385e1",
   "metadata": {
    "ExecuteTime": {
     "end_time": "2022-09-26T12:50:01.362577Z",
     "start_time": "2022-09-26T12:50:01.326942Z"
    }
   },
   "outputs": [
    {
     "ename": "TypeError",
     "evalue": "only size-1 arrays can be converted to Python scalars",
     "output_type": "error",
     "traceback": [
      "\u001b[1;31m---------------------------------------------------------------------------\u001b[0m",
      "\u001b[1;31mTypeError\u001b[0m                                 Traceback (most recent call last)",
      "Input \u001b[1;32mIn [44]\u001b[0m, in \u001b[0;36m<cell line: 1>\u001b[1;34m()\u001b[0m\n\u001b[1;32m----> 1\u001b[0m \u001b[43mmath\u001b[49m\u001b[38;5;241;43m.\u001b[39;49m\u001b[43msqrt\u001b[49m\u001b[43m(\u001b[49m\u001b[43ma\u001b[49m\u001b[43m)\u001b[49m\n",
      "\u001b[1;31mTypeError\u001b[0m: only size-1 arrays can be converted to Python scalars"
     ]
    }
   ],
   "source": [
    "math.sqrt(a)"
   ]
  },
  {
   "cell_type": "code",
   "execution_count": 45,
   "id": "b1c471d7",
   "metadata": {
    "ExecuteTime": {
     "end_time": "2022-09-26T12:50:08.330457Z",
     "start_time": "2022-09-26T12:50:01.529064Z"
    }
   },
   "outputs": [
    {
     "name": "stdout",
     "output_type": "stream",
     "text": [
      "802 ns ± 45.6 ns per loop (mean ± std. dev. of 7 runs, 1,000,000 loops each)\n"
     ]
    }
   ],
   "source": [
    "%timeit np.sqrt(2.5)"
   ]
  },
  {
   "cell_type": "code",
   "execution_count": 46,
   "id": "3dc87f2e",
   "metadata": {
    "ExecuteTime": {
     "end_time": "2022-09-26T12:50:18.220410Z",
     "start_time": "2022-09-26T12:50:08.365941Z"
    }
   },
   "outputs": [
    {
     "name": "stdout",
     "output_type": "stream",
     "text": [
      "119 ns ± 7.42 ns per loop (mean ± std. dev. of 7 runs, 10,000,000 loops each)\n"
     ]
    }
   ],
   "source": [
    "%timeit math.sqrt(2.5)"
   ]
  },
  {
   "cell_type": "code",
   "execution_count": 47,
   "id": "c0188c5c",
   "metadata": {
    "ExecuteTime": {
     "end_time": "2022-09-26T12:50:18.265641Z",
     "start_time": "2022-09-26T12:50:18.250122Z"
    }
   },
   "outputs": [
    {
     "data": {
      "text/plain": [
       "array([[ 0.,  1.,  2.,  3.,  4.,  5.,  6.,  7.],\n",
       "       [ 0.,  2.,  4.,  6.,  8., 10., 12., 14.]])"
      ]
     },
     "execution_count": 47,
     "metadata": {},
     "output_type": "execute_result"
    }
   ],
   "source": [
    "b = np.array([a, a * 2])\n",
    "b"
   ]
  },
  {
   "cell_type": "code",
   "execution_count": 48,
   "id": "83e2396d",
   "metadata": {
    "ExecuteTime": {
     "end_time": "2022-09-26T12:50:18.317347Z",
     "start_time": "2022-09-26T12:50:18.305345Z"
    }
   },
   "outputs": [
    {
     "data": {
      "text/plain": [
       "array([0., 1., 2., 3., 4., 5., 6., 7.])"
      ]
     },
     "execution_count": 48,
     "metadata": {},
     "output_type": "execute_result"
    }
   ],
   "source": [
    "b[0]"
   ]
  },
  {
   "cell_type": "code",
   "execution_count": 49,
   "id": "2cd3b674",
   "metadata": {
    "ExecuteTime": {
     "end_time": "2022-09-26T12:50:18.365346Z",
     "start_time": "2022-09-26T12:50:18.352344Z"
    }
   },
   "outputs": [
    {
     "data": {
      "text/plain": [
       "2.0"
      ]
     },
     "execution_count": 49,
     "metadata": {},
     "output_type": "execute_result"
    }
   ],
   "source": [
    "b[0, 2]"
   ]
  },
  {
   "cell_type": "code",
   "execution_count": 50,
   "id": "bc65867d",
   "metadata": {
    "ExecuteTime": {
     "end_time": "2022-09-26T12:50:18.402459Z",
     "start_time": "2022-09-26T12:50:18.387000Z"
    }
   },
   "outputs": [
    {
     "data": {
      "text/plain": [
       "array([1., 2.])"
      ]
     },
     "execution_count": 50,
     "metadata": {},
     "output_type": "execute_result"
    }
   ],
   "source": [
    "b[:, 1]"
   ]
  },
  {
   "cell_type": "code",
   "execution_count": 51,
   "id": "9dae6539",
   "metadata": {
    "ExecuteTime": {
     "end_time": "2022-09-26T12:50:18.444192Z",
     "start_time": "2022-09-26T12:50:18.436097Z"
    }
   },
   "outputs": [
    {
     "data": {
      "text/plain": [
       "84.0"
      ]
     },
     "execution_count": 51,
     "metadata": {},
     "output_type": "execute_result"
    }
   ],
   "source": [
    "b.sum()"
   ]
  },
  {
   "cell_type": "code",
   "execution_count": 52,
   "id": "5078c61f",
   "metadata": {
    "ExecuteTime": {
     "end_time": "2022-09-26T12:50:18.484806Z",
     "start_time": "2022-09-26T12:50:18.469427Z"
    }
   },
   "outputs": [
    {
     "data": {
      "text/plain": [
       "array([ 0.,  3.,  6.,  9., 12., 15., 18., 21.])"
      ]
     },
     "execution_count": 52,
     "metadata": {},
     "output_type": "execute_result"
    }
   ],
   "source": [
    "b.sum(axis=0)"
   ]
  },
  {
   "cell_type": "code",
   "execution_count": 53,
   "id": "9feb3da8",
   "metadata": {
    "ExecuteTime": {
     "end_time": "2022-09-26T12:50:18.535492Z",
     "start_time": "2022-09-26T12:50:18.523569Z"
    }
   },
   "outputs": [
    {
     "data": {
      "text/plain": [
       "array([28., 56.])"
      ]
     },
     "execution_count": 53,
     "metadata": {},
     "output_type": "execute_result"
    }
   ],
   "source": [
    "b.sum(axis=1)"
   ]
  },
  {
   "cell_type": "code",
   "execution_count": 54,
   "id": "0c1f04a9",
   "metadata": {
    "ExecuteTime": {
     "end_time": "2022-09-26T12:50:18.582292Z",
     "start_time": "2022-09-26T12:50:18.573020Z"
    }
   },
   "outputs": [
    {
     "data": {
      "text/plain": [
       "array([[0, 0, 0],\n",
       "       [0, 0, 0]], dtype=int32)"
      ]
     },
     "execution_count": 54,
     "metadata": {},
     "output_type": "execute_result"
    }
   ],
   "source": [
    "c = np.zeros((2, 3), dtype='i', order='C')\n",
    "c"
   ]
  },
  {
   "cell_type": "code",
   "execution_count": 55,
   "id": "918ffabd",
   "metadata": {
    "ExecuteTime": {
     "end_time": "2022-09-26T12:50:18.619886Z",
     "start_time": "2022-09-26T12:50:18.604680Z"
    }
   },
   "outputs": [
    {
     "data": {
      "text/plain": [
       "array([[[1, 1, 1, 1],\n",
       "        [1, 1, 1, 1],\n",
       "        [1, 1, 1, 1]],\n",
       "\n",
       "       [[1, 1, 1, 1],\n",
       "        [1, 1, 1, 1],\n",
       "        [1, 1, 1, 1]]], dtype=int32)"
      ]
     },
     "execution_count": 55,
     "metadata": {},
     "output_type": "execute_result"
    }
   ],
   "source": [
    "c = np.ones((2, 3, 4), dtype='i', order='C')\n",
    "c"
   ]
  },
  {
   "cell_type": "code",
   "execution_count": 56,
   "id": "f83be1a2",
   "metadata": {
    "ExecuteTime": {
     "end_time": "2022-09-26T12:50:18.660882Z",
     "start_time": "2022-09-26T12:50:18.653155Z"
    }
   },
   "outputs": [
    {
     "data": {
      "text/plain": [
       "array([[[0., 0., 0., 0.],\n",
       "        [0., 0., 0., 0.],\n",
       "        [0., 0., 0., 0.]],\n",
       "\n",
       "       [[0., 0., 0., 0.],\n",
       "        [0., 0., 0., 0.],\n",
       "        [0., 0., 0., 0.]]], dtype=float32)"
      ]
     },
     "execution_count": 56,
     "metadata": {},
     "output_type": "execute_result"
    }
   ],
   "source": [
    "d = np.zeros_like(c, dtype='f', order='C')\n",
    "d"
   ]
  },
  {
   "cell_type": "code",
   "execution_count": 59,
   "id": "d7cb2283",
   "metadata": {
    "ExecuteTime": {
     "end_time": "2022-09-26T12:52:15.848330Z",
     "start_time": "2022-09-26T12:52:15.832359Z"
    }
   },
   "outputs": [
    {
     "data": {
      "text/plain": [
       "array([[[1., 1., 1., 1.],\n",
       "        [1., 1., 1., 1.],\n",
       "        [1., 1., 1., 1.]],\n",
       "\n",
       "       [[1., 1., 1., 1.],\n",
       "        [1., 1., 1., 1.],\n",
       "        [1., 1., 1., 1.]]], dtype=float32)"
      ]
     },
     "execution_count": 59,
     "metadata": {},
     "output_type": "execute_result"
    }
   ],
   "source": [
    "d = np.ones_like(c, dtype='f', order='C')\n",
    "d"
   ]
  },
  {
   "cell_type": "code",
   "execution_count": 71,
   "id": "9d7aa830",
   "metadata": {
    "ExecuteTime": {
     "end_time": "2022-09-26T13:00:38.678581Z",
     "start_time": "2022-09-26T13:00:38.663903Z"
    }
   },
   "outputs": [
    {
     "data": {
      "text/plain": [
       "array([[[0.0078125, 0.0078125],\n",
       "        [0.0078125, 0.0078125],\n",
       "        [0.0078125, 0.0078125]],\n",
       "\n",
       "       [[0.0078125, 0.0078125],\n",
       "        [0.0078125, 0.0078125],\n",
       "        [0.0078125, 0.0078125]]])"
      ]
     },
     "execution_count": 71,
     "metadata": {},
     "output_type": "execute_result"
    }
   ],
   "source": [
    "# Creates an ndarray object not prepopulated with anything (numbers depend on\n",
    "# the bits present in the memory).\n",
    "e = np.empty((2, 3, 2))\n",
    "e"
   ]
  },
  {
   "cell_type": "code",
   "execution_count": 72,
   "id": "ad5b839e",
   "metadata": {
    "ExecuteTime": {
     "end_time": "2022-09-26T13:00:39.571401Z",
     "start_time": "2022-09-26T13:00:39.558276Z"
    }
   },
   "outputs": [
    {
     "data": {
      "text/plain": [
       "array([[[1065353216, 1065353216, 1065353216, 1065353216],\n",
       "        [1065353216, 1065353216, 1065353216, 1065353216],\n",
       "        [1065353216, 1065353216, 1065353216, 1065353216]],\n",
       "\n",
       "       [[1065353216, 1065353216, 1065353216, 1065353216],\n",
       "        [1065353216, 1065353216, 1065353216, 1065353216],\n",
       "        [1065353216, 1065353216, 1065353216, 1065353216]]], dtype=int32)"
      ]
     },
     "execution_count": 72,
     "metadata": {},
     "output_type": "execute_result"
    }
   ],
   "source": [
    "f = np.empty_like(c)\n",
    "f"
   ]
  },
  {
   "cell_type": "code",
   "execution_count": 73,
   "id": "70f9a764",
   "metadata": {
    "ExecuteTime": {
     "end_time": "2022-09-26T13:00:53.061448Z",
     "start_time": "2022-09-26T13:00:53.041758Z"
    }
   },
   "outputs": [
    {
     "data": {
      "text/plain": [
       "array([[1., 0., 0., 0., 0.],\n",
       "       [0., 1., 0., 0., 0.],\n",
       "       [0., 0., 1., 0., 0.],\n",
       "       [0., 0., 0., 1., 0.],\n",
       "       [0., 0., 0., 0., 1.]])"
      ]
     },
     "execution_count": 73,
     "metadata": {},
     "output_type": "execute_result"
    }
   ],
   "source": [
    "np.eye(5)"
   ]
  },
  {
   "cell_type": "code",
   "execution_count": 79,
   "id": "86b23601",
   "metadata": {
    "ExecuteTime": {
     "end_time": "2022-09-26T13:10:09.690226Z",
     "start_time": "2022-09-26T13:10:09.677716Z"
    }
   },
   "outputs": [
    {
     "data": {
      "text/plain": [
       "array([ 5.        ,  5.90909091,  6.81818182,  7.72727273,  8.63636364,\n",
       "        9.54545455, 10.45454545, 11.36363636, 12.27272727, 13.18181818,\n",
       "       14.09090909, 15.        ])"
      ]
     },
     "execution_count": 79,
     "metadata": {},
     "output_type": "execute_result"
    }
   ],
   "source": [
    "g = np.linspace(5, 15, 12)\n",
    "g"
   ]
  },
  {
   "cell_type": "markdown",
   "id": "a52e241b",
   "metadata": {},
   "source": [
    "## Metainformation"
   ]
  },
  {
   "cell_type": "code",
   "execution_count": 81,
   "id": "e9b1dbdf",
   "metadata": {
    "ExecuteTime": {
     "end_time": "2022-09-26T13:10:27.882785Z",
     "start_time": "2022-09-26T13:10:27.875211Z"
    }
   },
   "outputs": [
    {
     "data": {
      "text/plain": [
       "(12, 8, 1, (12,), dtype('float64'), 96)"
      ]
     },
     "execution_count": 81,
     "metadata": {},
     "output_type": "execute_result"
    }
   ],
   "source": [
    "g.size, g.itemsize, g.ndim, g.shape, g.dtype, g.nbytes\n",
    "# The number of bytes used to represent one element.(itemsize)\n",
    "# The total number of bytes used in memory.(nbytes)"
   ]
  },
  {
   "cell_type": "code",
   "execution_count": 82,
   "id": "88636232",
   "metadata": {
    "ExecuteTime": {
     "end_time": "2022-09-26T13:12:33.204937Z",
     "start_time": "2022-09-26T13:12:33.195561Z"
    }
   },
   "outputs": [
    {
     "data": {
      "text/plain": [
       "array([ 0,  1,  2,  3,  4,  5,  6,  7,  8,  9, 10, 11, 12, 13, 14])"
      ]
     },
     "execution_count": 82,
     "metadata": {},
     "output_type": "execute_result"
    }
   ],
   "source": [
    "g = np.arange(15)\n",
    "g"
   ]
  },
  {
   "cell_type": "code",
   "execution_count": 83,
   "id": "c08a5a53",
   "metadata": {
    "ExecuteTime": {
     "end_time": "2022-09-26T13:12:37.697870Z",
     "start_time": "2022-09-26T13:12:37.683424Z"
    }
   },
   "outputs": [
    {
     "data": {
      "text/plain": [
       "(15,)"
      ]
     },
     "execution_count": 83,
     "metadata": {},
     "output_type": "execute_result"
    }
   ],
   "source": [
    "g.shape"
   ]
  },
  {
   "cell_type": "code",
   "execution_count": 84,
   "id": "c2a21772",
   "metadata": {
    "ExecuteTime": {
     "end_time": "2022-09-26T13:12:46.900527Z",
     "start_time": "2022-09-26T13:12:46.888859Z"
    }
   },
   "outputs": [
    {
     "data": {
      "text/plain": [
       "(15,)"
      ]
     },
     "execution_count": 84,
     "metadata": {},
     "output_type": "execute_result"
    }
   ],
   "source": [
    "np.shape(g)"
   ]
  },
  {
   "cell_type": "markdown",
   "id": "24b3003a",
   "metadata": {},
   "source": [
    "While reshaping in general just provides another view on the same data, resizing in general creates a new (temporary) object."
   ]
  },
  {
   "cell_type": "code",
   "execution_count": 86,
   "id": "33173172",
   "metadata": {
    "ExecuteTime": {
     "end_time": "2022-09-26T13:13:04.315039Z",
     "start_time": "2022-09-26T13:13:04.295313Z"
    }
   },
   "outputs": [
    {
     "data": {
      "text/plain": [
       "array([[ 0,  1,  2,  3,  4],\n",
       "       [ 5,  6,  7,  8,  9],\n",
       "       [10, 11, 12, 13, 14]])"
      ]
     },
     "execution_count": 86,
     "metadata": {},
     "output_type": "execute_result"
    }
   ],
   "source": [
    "# While reshaping in general just provides another view on the same data, \n",
    "# resizing in general creates a new (temporary) object.\n",
    "g.reshape((3, 5))"
   ]
  },
  {
   "cell_type": "code",
   "execution_count": 90,
   "id": "9c27cbab",
   "metadata": {
    "ExecuteTime": {
     "end_time": "2022-09-26T13:14:12.172496Z",
     "start_time": "2022-09-26T13:14:12.166494Z"
    }
   },
   "outputs": [
    {
     "data": {
      "text/plain": [
       "array([[ 0,  1,  2],\n",
       "       [ 3,  4,  5],\n",
       "       [ 6,  7,  8],\n",
       "       [ 9, 10, 11],\n",
       "       [12, 13, 14]])"
      ]
     },
     "execution_count": 90,
     "metadata": {},
     "output_type": "execute_result"
    }
   ],
   "source": [
    "h = g.reshape((5, 3))\n",
    "h"
   ]
  },
  {
   "cell_type": "code",
   "execution_count": 88,
   "id": "e2155325",
   "metadata": {
    "ExecuteTime": {
     "end_time": "2022-09-26T13:13:48.758250Z",
     "start_time": "2022-09-26T13:13:48.728290Z"
    }
   },
   "outputs": [
    {
     "data": {
      "text/plain": [
       "array([[ 0,  3,  6,  9, 12],\n",
       "       [ 1,  4,  7, 10, 13],\n",
       "       [ 2,  5,  8, 11, 14]])"
      ]
     },
     "execution_count": 88,
     "metadata": {},
     "output_type": "execute_result"
    }
   ],
   "source": [
    "h.T"
   ]
  },
  {
   "cell_type": "code",
   "execution_count": 89,
   "id": "a8e40f93",
   "metadata": {
    "ExecuteTime": {
     "end_time": "2022-09-26T13:14:01.073704Z",
     "start_time": "2022-09-26T13:14:01.059683Z"
    }
   },
   "outputs": [
    {
     "data": {
      "text/plain": [
       "array([[ 0,  3,  6,  9, 12],\n",
       "       [ 1,  4,  7, 10, 13],\n",
       "       [ 2,  5,  8, 11, 14]])"
      ]
     },
     "execution_count": 89,
     "metadata": {},
     "output_type": "execute_result"
    }
   ],
   "source": [
    "h.transpose()"
   ]
  },
  {
   "cell_type": "code",
   "execution_count": 91,
   "id": "c9f7674d",
   "metadata": {
    "ExecuteTime": {
     "end_time": "2022-09-26T13:15:44.236829Z",
     "start_time": "2022-09-26T13:15:44.229770Z"
    }
   },
   "outputs": [
    {
     "data": {
      "text/plain": [
       "array([ 0,  1,  2,  3,  4,  5,  6,  7,  8,  9, 10, 11, 12, 13, 14])"
      ]
     },
     "execution_count": 91,
     "metadata": {},
     "output_type": "execute_result"
    }
   ],
   "source": [
    "g"
   ]
  },
  {
   "cell_type": "code",
   "execution_count": 92,
   "id": "9a685e8c",
   "metadata": {
    "ExecuteTime": {
     "end_time": "2022-09-26T13:15:57.749573Z",
     "start_time": "2022-09-26T13:15:57.732545Z"
    }
   },
   "outputs": [
    {
     "data": {
      "text/plain": [
       "array([[0],\n",
       "       [1],\n",
       "       [2]])"
      ]
     },
     "execution_count": 92,
     "metadata": {},
     "output_type": "execute_result"
    }
   ],
   "source": [
    "np.resize(g, (3, 1))"
   ]
  },
  {
   "cell_type": "code",
   "execution_count": 94,
   "id": "2cfec948",
   "metadata": {
    "ExecuteTime": {
     "end_time": "2022-09-26T13:16:20.839000Z",
     "start_time": "2022-09-26T13:16:20.824157Z"
    }
   },
   "outputs": [
    {
     "data": {
      "text/plain": [
       "array([[0, 1, 2, 3, 4]])"
      ]
     },
     "execution_count": 94,
     "metadata": {},
     "output_type": "execute_result"
    }
   ],
   "source": [
    "np.resize(g, (1, 5))"
   ]
  },
  {
   "cell_type": "code",
   "execution_count": 95,
   "id": "d6b23619",
   "metadata": {
    "ExecuteTime": {
     "end_time": "2022-09-26T13:16:33.700618Z",
     "start_time": "2022-09-26T13:16:33.685590Z"
    }
   },
   "outputs": [
    {
     "data": {
      "text/plain": [
       "array([[0, 1, 2, 3, 4],\n",
       "       [5, 6, 7, 8, 9]])"
      ]
     },
     "execution_count": 95,
     "metadata": {},
     "output_type": "execute_result"
    }
   ],
   "source": [
    "np.resize(g, (2, 5))"
   ]
  },
  {
   "cell_type": "code",
   "execution_count": 96,
   "id": "55867c8b",
   "metadata": {
    "ExecuteTime": {
     "end_time": "2022-09-26T13:16:55.753870Z",
     "start_time": "2022-09-26T13:16:55.735629Z"
    }
   },
   "outputs": [
    {
     "data": {
      "text/plain": [
       "array([[ 0,  1,  2,  3],\n",
       "       [ 4,  5,  6,  7],\n",
       "       [ 8,  9, 10, 11],\n",
       "       [12, 13, 14,  0],\n",
       "       [ 1,  2,  3,  4]])"
      ]
     },
     "execution_count": 96,
     "metadata": {},
     "output_type": "execute_result"
    }
   ],
   "source": [
    "n = np.resize(g, (5, 4))\n",
    "n"
   ]
  },
  {
   "cell_type": "code",
   "execution_count": 97,
   "id": "5b1a1801",
   "metadata": {
    "ExecuteTime": {
     "end_time": "2022-09-26T13:17:27.544201Z",
     "start_time": "2022-09-26T13:17:27.527949Z"
    }
   },
   "outputs": [
    {
     "data": {
      "text/plain": [
       "array([[ 0,  1,  2],\n",
       "       [ 3,  4,  5],\n",
       "       [ 6,  7,  8],\n",
       "       [ 9, 10, 11],\n",
       "       [12, 13, 14]])"
      ]
     },
     "execution_count": 97,
     "metadata": {},
     "output_type": "execute_result"
    }
   ],
   "source": [
    "h"
   ]
  },
  {
   "cell_type": "code",
   "execution_count": 102,
   "id": "31bf0294",
   "metadata": {
    "ExecuteTime": {
     "end_time": "2022-09-26T13:19:02.723143Z",
     "start_time": "2022-09-26T13:19:02.715103Z"
    }
   },
   "outputs": [
    {
     "data": {
      "text/plain": [
       "array([[[ 0,  1,  2],\n",
       "        [ 3,  4,  5],\n",
       "        [ 6,  7,  8],\n",
       "        [ 9, 10, 11],\n",
       "        [12, 13, 14]],\n",
       "\n",
       "       [[ 0,  2,  4],\n",
       "        [ 6,  8, 10],\n",
       "        [12, 14, 16],\n",
       "        [18, 20, 22],\n",
       "        [24, 26, 28]]])"
      ]
     },
     "execution_count": 102,
     "metadata": {},
     "output_type": "execute_result"
    }
   ],
   "source": [
    "np.stack((h, 2 * h))"
   ]
  },
  {
   "cell_type": "code",
   "execution_count": 100,
   "id": "95aea793",
   "metadata": {
    "ExecuteTime": {
     "end_time": "2022-09-26T13:18:27.120590Z",
     "start_time": "2022-09-26T13:18:27.110453Z"
    }
   },
   "outputs": [
    {
     "data": {
      "text/plain": [
       "array([[ 0,  1,  2,  0,  2,  4],\n",
       "       [ 3,  4,  5,  6,  8, 10],\n",
       "       [ 6,  7,  8, 12, 14, 16],\n",
       "       [ 9, 10, 11, 18, 20, 22],\n",
       "       [12, 13, 14, 24, 26, 28]])"
      ]
     },
     "execution_count": 100,
     "metadata": {},
     "output_type": "execute_result"
    }
   ],
   "source": [
    "np.hstack((h, 2 * h))"
   ]
  },
  {
   "cell_type": "code",
   "execution_count": 101,
   "id": "617216b6",
   "metadata": {
    "ExecuteTime": {
     "end_time": "2022-09-26T13:18:36.519892Z",
     "start_time": "2022-09-26T13:18:36.489773Z"
    }
   },
   "outputs": [
    {
     "data": {
      "text/plain": [
       "array([[ 0,  1,  2],\n",
       "       [ 3,  4,  5],\n",
       "       [ 6,  7,  8],\n",
       "       [ 9, 10, 11],\n",
       "       [12, 13, 14],\n",
       "       [ 0,  2,  4],\n",
       "       [ 6,  8, 10],\n",
       "       [12, 14, 16],\n",
       "       [18, 20, 22],\n",
       "       [24, 26, 28]])"
      ]
     },
     "execution_count": 101,
     "metadata": {},
     "output_type": "execute_result"
    }
   ],
   "source": [
    "np.vstack((h, 2 * h))"
   ]
  },
  {
   "cell_type": "code",
   "execution_count": 103,
   "id": "9018fcc7",
   "metadata": {
    "ExecuteTime": {
     "end_time": "2022-09-26T13:19:23.801978Z",
     "start_time": "2022-09-26T13:19:23.785977Z"
    }
   },
   "outputs": [
    {
     "data": {
      "text/plain": [
       "array([[ 0,  1,  2],\n",
       "       [ 3,  4,  5],\n",
       "       [ 6,  7,  8],\n",
       "       [ 9, 10, 11],\n",
       "       [12, 13, 14]])"
      ]
     },
     "execution_count": 103,
     "metadata": {},
     "output_type": "execute_result"
    }
   ],
   "source": [
    "h"
   ]
  },
  {
   "cell_type": "code",
   "execution_count": 104,
   "id": "d0e38d19",
   "metadata": {
    "ExecuteTime": {
     "end_time": "2022-09-26T13:19:29.359848Z",
     "start_time": "2022-09-26T13:19:29.342091Z"
    }
   },
   "outputs": [
    {
     "data": {
      "text/plain": [
       "array([ 0,  1,  2,  3,  4,  5,  6,  7,  8,  9, 10, 11, 12, 13, 14])"
      ]
     },
     "execution_count": 104,
     "metadata": {},
     "output_type": "execute_result"
    }
   ],
   "source": [
    "h.flatten()"
   ]
  },
  {
   "cell_type": "code",
   "execution_count": 105,
   "id": "39d41cab",
   "metadata": {
    "ExecuteTime": {
     "end_time": "2022-09-26T13:19:51.844326Z",
     "start_time": "2022-09-26T13:19:51.829200Z"
    }
   },
   "outputs": [
    {
     "data": {
      "text/plain": [
       "array([ 0,  1,  2,  3,  4,  5,  6,  7,  8,  9, 10, 11, 12, 13, 14])"
      ]
     },
     "execution_count": 105,
     "metadata": {},
     "output_type": "execute_result"
    }
   ],
   "source": [
    "h.flatten(order='C')"
   ]
  },
  {
   "cell_type": "code",
   "execution_count": 106,
   "id": "cf5ba041",
   "metadata": {
    "ExecuteTime": {
     "end_time": "2022-09-26T13:20:07.101870Z",
     "start_time": "2022-09-26T13:20:07.079668Z"
    }
   },
   "outputs": [
    {
     "data": {
      "text/plain": [
       "array([ 0,  3,  6,  9, 12,  1,  4,  7, 10, 13,  2,  5,  8, 11, 14])"
      ]
     },
     "execution_count": 106,
     "metadata": {},
     "output_type": "execute_result"
    }
   ],
   "source": [
    "h.flatten(order='F')"
   ]
  },
  {
   "cell_type": "code",
   "execution_count": 107,
   "id": "01e4b379",
   "metadata": {
    "ExecuteTime": {
     "end_time": "2022-09-26T13:21:00.171299Z",
     "start_time": "2022-09-26T13:21:00.158154Z"
    }
   },
   "outputs": [
    {
     "name": "stdout",
     "output_type": "stream",
     "text": [
      "0,1,2,3,4,5,6,7,8,9,10,11,12,13,14,"
     ]
    }
   ],
   "source": [
    "for i in h.flat:\n",
    "    print(i, end=',')"
   ]
  },
  {
   "cell_type": "code",
   "execution_count": 108,
   "id": "ee0ef416",
   "metadata": {
    "ExecuteTime": {
     "end_time": "2022-09-26T13:21:31.908392Z",
     "start_time": "2022-09-26T13:21:31.893154Z"
    }
   },
   "outputs": [
    {
     "name": "stdout",
     "output_type": "stream",
     "text": [
      "0,1,2,3,4,5,6,7,8,9,10,11,12,13,14,"
     ]
    }
   ],
   "source": [
    "# The ravel() method is an alternative to flatten().\n",
    "for i in h.ravel(order='C'):\n",
    "    print(i, end=',')"
   ]
  },
  {
   "cell_type": "code",
   "execution_count": 109,
   "id": "06cbf015",
   "metadata": {
    "ExecuteTime": {
     "end_time": "2022-09-26T13:22:00.225300Z",
     "start_time": "2022-09-26T13:22:00.213263Z"
    }
   },
   "outputs": [
    {
     "name": "stdout",
     "output_type": "stream",
     "text": [
      "0,3,6,9,12,1,4,7,10,13,2,5,8,11,14,"
     ]
    }
   ],
   "source": [
    "for i in h.ravel(order='F'):\n",
    "    print(i, end=',')"
   ]
  },
  {
   "cell_type": "markdown",
   "id": "5e5b3d8c",
   "metadata": {},
   "source": [
    "## Boolean Arrays"
   ]
  },
  {
   "cell_type": "code",
   "execution_count": 113,
   "id": "b6831881",
   "metadata": {
    "ExecuteTime": {
     "end_time": "2022-09-26T13:28:16.676513Z",
     "start_time": "2022-09-26T13:28:16.659505Z"
    }
   },
   "outputs": [
    {
     "data": {
      "text/plain": [
       "array([[ 0,  1,  2],\n",
       "       [ 3,  4,  5],\n",
       "       [ 6,  7,  8],\n",
       "       [ 9, 10, 11],\n",
       "       [12, 13, 14]])"
      ]
     },
     "execution_count": 113,
     "metadata": {},
     "output_type": "execute_result"
    }
   ],
   "source": [
    "h"
   ]
  },
  {
   "cell_type": "code",
   "execution_count": 114,
   "id": "0e08a1ca",
   "metadata": {
    "ExecuteTime": {
     "end_time": "2022-09-26T13:28:21.784833Z",
     "start_time": "2022-09-26T13:28:21.767998Z"
    }
   },
   "outputs": [
    {
     "data": {
      "text/plain": [
       "array([[False, False, False],\n",
       "       [False, False, False],\n",
       "       [False, False, False],\n",
       "       [ True,  True,  True],\n",
       "       [ True,  True,  True]])"
      ]
     },
     "execution_count": 114,
     "metadata": {},
     "output_type": "execute_result"
    }
   ],
   "source": [
    "h > 8"
   ]
  },
  {
   "cell_type": "code",
   "execution_count": 115,
   "id": "84b3ed34",
   "metadata": {
    "ExecuteTime": {
     "end_time": "2022-09-26T13:28:27.964597Z",
     "start_time": "2022-09-26T13:28:27.953499Z"
    }
   },
   "outputs": [
    {
     "data": {
      "text/plain": [
       "array([[ True,  True,  True],\n",
       "       [ True,  True,  True],\n",
       "       [ True,  True, False],\n",
       "       [False, False, False],\n",
       "       [False, False, False]])"
      ]
     },
     "execution_count": 115,
     "metadata": {},
     "output_type": "execute_result"
    }
   ],
   "source": [
    "h <= 7"
   ]
  },
  {
   "cell_type": "code",
   "execution_count": 116,
   "id": "117ef23a",
   "metadata": {
    "ExecuteTime": {
     "end_time": "2022-09-26T13:28:36.832562Z",
     "start_time": "2022-09-26T13:28:36.821398Z"
    }
   },
   "outputs": [
    {
     "data": {
      "text/plain": [
       "array([[False, False, False],\n",
       "       [False, False,  True],\n",
       "       [False, False, False],\n",
       "       [False, False, False],\n",
       "       [False, False, False]])"
      ]
     },
     "execution_count": 116,
     "metadata": {},
     "output_type": "execute_result"
    }
   ],
   "source": [
    "h == 5"
   ]
  },
  {
   "cell_type": "code",
   "execution_count": 117,
   "id": "502d5e14",
   "metadata": {
    "ExecuteTime": {
     "end_time": "2022-09-26T13:28:51.417020Z",
     "start_time": "2022-09-26T13:28:51.411926Z"
    }
   },
   "outputs": [
    {
     "data": {
      "text/plain": [
       "array([[0, 0, 0],\n",
       "       [0, 0, 1],\n",
       "       [0, 0, 0],\n",
       "       [0, 0, 0],\n",
       "       [0, 0, 0]])"
      ]
     },
     "execution_count": 117,
     "metadata": {},
     "output_type": "execute_result"
    }
   ],
   "source": [
    "(h == 5).astype(int)"
   ]
  },
  {
   "cell_type": "code",
   "execution_count": 118,
   "id": "6f80be38",
   "metadata": {
    "ExecuteTime": {
     "end_time": "2022-09-26T13:29:12.514126Z",
     "start_time": "2022-09-26T13:29:12.483070Z"
    }
   },
   "outputs": [
    {
     "data": {
      "text/plain": [
       "array([[False, False, False],\n",
       "       [False, False,  True],\n",
       "       [ True,  True,  True],\n",
       "       [ True,  True,  True],\n",
       "       [ True, False, False]])"
      ]
     },
     "execution_count": 118,
     "metadata": {},
     "output_type": "execute_result"
    }
   ],
   "source": [
    "(h > 4) & (h <= 12)"
   ]
  },
  {
   "cell_type": "code",
   "execution_count": 119,
   "id": "9015b667",
   "metadata": {
    "ExecuteTime": {
     "end_time": "2022-09-26T13:29:45.789798Z",
     "start_time": "2022-09-26T13:29:45.770743Z"
    }
   },
   "outputs": [
    {
     "data": {
      "text/plain": [
       "array([ 9, 10, 11, 12, 13, 14])"
      ]
     },
     "execution_count": 119,
     "metadata": {},
     "output_type": "execute_result"
    }
   ],
   "source": [
    "h[h > 8]"
   ]
  },
  {
   "cell_type": "code",
   "execution_count": 120,
   "id": "20dc6b36",
   "metadata": {
    "ExecuteTime": {
     "end_time": "2022-09-26T13:30:01.365460Z",
     "start_time": "2022-09-26T13:30:01.350314Z"
    }
   },
   "outputs": [
    {
     "data": {
      "text/plain": [
       "array([ 5,  6,  7,  8,  9, 10, 11, 12])"
      ]
     },
     "execution_count": 120,
     "metadata": {},
     "output_type": "execute_result"
    }
   ],
   "source": [
    "h[(h > 4) & (h <= 12)]"
   ]
  },
  {
   "cell_type": "code",
   "execution_count": 123,
   "id": "51e242c1",
   "metadata": {
    "ExecuteTime": {
     "end_time": "2022-09-26T13:30:39.513300Z",
     "start_time": "2022-09-26T13:30:39.505241Z"
    }
   },
   "outputs": [
    {
     "data": {
      "text/plain": [
       "array([ 0,  1,  2,  3, 12, 13, 14])"
      ]
     },
     "execution_count": 123,
     "metadata": {},
     "output_type": "execute_result"
    }
   ],
   "source": [
    "h[(h < 4) | (h >= 12)]"
   ]
  },
  {
   "cell_type": "markdown",
   "id": "228846fe",
   "metadata": {},
   "source": [
    "A powerful tool in this regard is the np.where() function, which allows the definition of actions/operations depending on whether a condition is True or False. The result of applying np.where() is a new ndarray object of the same shape as the original one:"
   ]
  },
  {
   "cell_type": "code",
   "execution_count": 126,
   "id": "36d2ca9e",
   "metadata": {
    "ExecuteTime": {
     "end_time": "2022-09-26T13:31:26.948769Z",
     "start_time": "2022-09-26T13:31:26.930879Z"
    }
   },
   "outputs": [
    {
     "data": {
      "text/plain": [
       "array([[0, 0, 0],\n",
       "       [0, 0, 0],\n",
       "       [0, 0, 1],\n",
       "       [1, 1, 1],\n",
       "       [1, 1, 1]])"
      ]
     },
     "execution_count": 126,
     "metadata": {},
     "output_type": "execute_result"
    }
   ],
   "source": [
    "np.where(h > 7, 1, 0)"
   ]
  },
  {
   "cell_type": "code",
   "execution_count": 127,
   "id": "d0506332",
   "metadata": {
    "ExecuteTime": {
     "end_time": "2022-09-26T13:33:22.607924Z",
     "start_time": "2022-09-26T13:33:22.582512Z"
    }
   },
   "outputs": [
    {
     "data": {
      "text/plain": [
       "array([['even', 'odd', 'even'],\n",
       "       ['odd', 'even', 'odd'],\n",
       "       ['even', 'odd', 'even'],\n",
       "       ['odd', 'even', 'odd'],\n",
       "       ['even', 'odd', 'even']], dtype='<U4')"
      ]
     },
     "execution_count": 127,
     "metadata": {},
     "output_type": "execute_result"
    }
   ],
   "source": [
    "np.where(h % 2 == 0, 'even', 'odd')"
   ]
  },
  {
   "cell_type": "code",
   "execution_count": 129,
   "id": "45a9e2d9",
   "metadata": {
    "ExecuteTime": {
     "end_time": "2022-09-26T13:33:51.617343Z",
     "start_time": "2022-09-26T13:33:51.602580Z"
    }
   },
   "outputs": [
    {
     "data": {
      "text/plain": [
       "array([[ 0. ,  2. ,  4. ],\n",
       "       [ 6. ,  8. , 10. ],\n",
       "       [12. , 14. ,  4. ],\n",
       "       [ 4.5,  5. ,  5.5],\n",
       "       [ 6. ,  6.5,  7. ]])"
      ]
     },
     "execution_count": 129,
     "metadata": {},
     "output_type": "execute_result"
    }
   ],
   "source": [
    "np.where(h <= 7, h * 2, h / 2)"
   ]
  },
  {
   "cell_type": "markdown",
   "id": "aa5c41d0",
   "metadata": {},
   "source": [
    "## Speed Comparison"
   ]
  },
  {
   "cell_type": "code",
   "execution_count": 130,
   "id": "2b803b1f",
   "metadata": {
    "ExecuteTime": {
     "end_time": "2022-09-26T13:35:28.241662Z",
     "start_time": "2022-09-26T13:35:28.226343Z"
    }
   },
   "outputs": [],
   "source": [
    "import random\n",
    "I = 5000"
   ]
  },
  {
   "cell_type": "code",
   "execution_count": 131,
   "id": "bcd74a11",
   "metadata": {
    "ExecuteTime": {
     "end_time": "2022-09-26T13:36:27.122645Z",
     "start_time": "2022-09-26T13:36:13.464435Z"
    }
   },
   "outputs": [
    {
     "name": "stdout",
     "output_type": "stream",
     "text": [
      "CPU times: total: 13.6 s\n",
      "Wall time: 13.6 s\n"
     ]
    }
   ],
   "source": [
    "%time mat = [[random.gauss(0, 1) for j in range(I)] for i in range(I)]"
   ]
  },
  {
   "cell_type": "code",
   "execution_count": 133,
   "id": "1730fa8c",
   "metadata": {
    "ExecuteTime": {
     "end_time": "2022-09-26T13:38:38.401282Z",
     "start_time": "2022-09-26T13:38:38.392976Z"
    }
   },
   "outputs": [
    {
     "data": {
      "text/plain": [
       "[-0.03192545935952081,\n",
       " 0.25585002011720787,\n",
       " -0.9946192956138111,\n",
       " -1.678106408420488,\n",
       " 1.063769867691863]"
      ]
     },
     "execution_count": 133,
     "metadata": {},
     "output_type": "execute_result"
    }
   ],
   "source": [
    "mat[0][: 5]"
   ]
  },
  {
   "cell_type": "code",
   "execution_count": 135,
   "id": "0118d2fc",
   "metadata": {
    "ExecuteTime": {
     "end_time": "2022-09-26T13:39:35.070951Z",
     "start_time": "2022-09-26T13:39:34.820385Z"
    }
   },
   "outputs": [
    {
     "name": "stdout",
     "output_type": "stream",
     "text": [
      "CPU times: total: 219 ms\n",
      "Wall time: 236 ms\n"
     ]
    },
    {
     "data": {
      "text/plain": [
       "-4699.621014436749"
      ]
     },
     "execution_count": 135,
     "metadata": {},
     "output_type": "execute_result"
    }
   ],
   "source": [
    "%time sum([sum(l) for l in mat])"
   ]
  },
  {
   "cell_type": "code",
   "execution_count": 136,
   "id": "866293f7",
   "metadata": {
    "ExecuteTime": {
     "end_time": "2022-09-26T13:40:04.057640Z",
     "start_time": "2022-09-26T13:40:04.042355Z"
    }
   },
   "outputs": [],
   "source": [
    "import sys"
   ]
  },
  {
   "cell_type": "code",
   "execution_count": 137,
   "id": "fac8d024",
   "metadata": {
    "ExecuteTime": {
     "end_time": "2022-09-26T13:40:33.895472Z",
     "start_time": "2022-09-26T13:40:33.881266Z"
    }
   },
   "outputs": [
    {
     "data": {
      "text/plain": [
       "209400000"
      ]
     },
     "execution_count": 137,
     "metadata": {},
     "output_type": "execute_result"
    }
   ],
   "source": [
    "sum([sys.getsizeof(l) for l in mat])"
   ]
  },
  {
   "cell_type": "code",
   "execution_count": 142,
   "id": "21adb352",
   "metadata": {
    "ExecuteTime": {
     "end_time": "2022-09-26T13:41:32.359457Z",
     "start_time": "2022-09-26T13:41:31.879072Z"
    },
    "scrolled": false
   },
   "outputs": [
    {
     "name": "stdout",
     "output_type": "stream",
     "text": [
      "CPU times: total: 453 ms\n",
      "Wall time: 463 ms\n"
     ]
    }
   ],
   "source": [
    "%time mat = np.random.standard_normal((I, I))"
   ]
  },
  {
   "cell_type": "code",
   "execution_count": 143,
   "id": "050fb1f0",
   "metadata": {
    "ExecuteTime": {
     "end_time": "2022-09-26T13:41:32.539792Z",
     "start_time": "2022-09-26T13:41:32.493746Z"
    }
   },
   "outputs": [
    {
     "name": "stdout",
     "output_type": "stream",
     "text": [
      "CPU times: total: 31.2 ms\n",
      "Wall time: 40 ms\n"
     ]
    },
    {
     "data": {
      "text/plain": [
       "-5141.296974701469"
      ]
     },
     "execution_count": 143,
     "metadata": {},
     "output_type": "execute_result"
    }
   ],
   "source": [
    "%time mat.sum()"
   ]
  },
  {
   "cell_type": "code",
   "execution_count": 144,
   "id": "969f15c2",
   "metadata": {
    "ExecuteTime": {
     "end_time": "2022-09-26T13:41:43.838826Z",
     "start_time": "2022-09-26T13:41:43.833826Z"
    }
   },
   "outputs": [
    {
     "data": {
      "text/plain": [
       "200000000"
      ]
     },
     "execution_count": 144,
     "metadata": {},
     "output_type": "execute_result"
    }
   ],
   "source": [
    "mat.nbytes"
   ]
  },
  {
   "cell_type": "code",
   "execution_count": 145,
   "id": "31598639",
   "metadata": {
    "ExecuteTime": {
     "end_time": "2022-09-26T13:41:56.111425Z",
     "start_time": "2022-09-26T13:41:56.102786Z"
    }
   },
   "outputs": [
    {
     "data": {
      "text/plain": [
       "200000128"
      ]
     },
     "execution_count": 145,
     "metadata": {},
     "output_type": "execute_result"
    }
   ],
   "source": [
    "sys.getsizeof(mat)"
   ]
  },
  {
   "cell_type": "markdown",
   "id": "f03fa035",
   "metadata": {},
   "source": [
    "## Structured NumPy Arrays"
   ]
  },
  {
   "cell_type": "markdown",
   "id": "03f09d88",
   "metadata": {},
   "source": [
    "The specialization of the ndarray class obviously brings a number of valuable benefits with it. However, a too narrow specialization might turn out to be too large a burden to carry for the majority of array-based algorithms and applications. Therefore,nNumPy provides structured ndarray and record recarray objects that allow you to have a different dtype per column. "
   ]
  },
  {
   "cell_type": "markdown",
   "id": "67fd12bb",
   "metadata": {},
   "source": [
    "In a sense, this construction comes quite close to the operation for initializing tables in a SQL database: one has column names and column data types, with maybe some additional information (e.g., maximum number of characters per str object)."
   ]
  },
  {
   "cell_type": "code",
   "execution_count": 146,
   "id": "93f69e1c",
   "metadata": {
    "ExecuteTime": {
     "end_time": "2022-09-26T13:46:50.470426Z",
     "start_time": "2022-09-26T13:46:50.442334Z"
    }
   },
   "outputs": [
    {
     "data": {
      "text/plain": [
       "dtype([('Name', 'S10'), ('Age', '<i4'), ('Height', '<f4'), ('Children/Pets', '<i4', (2,))])"
      ]
     },
     "execution_count": 146,
     "metadata": {},
     "output_type": "execute_result"
    }
   ],
   "source": [
    "dt = np.dtype([('Name', 'S10'), ('Age', 'i4'), ('Height', 'f'), ('Children/Pets', 'i4', 2)])\n",
    "dt"
   ]
  },
  {
   "cell_type": "code",
   "execution_count": 152,
   "id": "d19d11c2",
   "metadata": {
    "ExecuteTime": {
     "end_time": "2022-09-26T13:49:41.467814Z",
     "start_time": "2022-09-26T13:49:41.460783Z"
    }
   },
   "outputs": [
    {
     "data": {
      "text/plain": [
       "dtype([('Name', 'O'), ('Age', '<i4'), ('Height', '<f8'), ('Children/Pets', [('f0', '<i4'), ('f1', '<i4')])])"
      ]
     },
     "execution_count": 152,
     "metadata": {},
     "output_type": "execute_result"
    }
   ],
   "source": [
    "dt = np.dtype({\n",
    "    'names': ['Name', 'Age', 'Height', 'Children/Pets'],\n",
    "    'formats': 'O int float int,int'.split()\n",
    "})\n",
    "dt"
   ]
  },
  {
   "cell_type": "code",
   "execution_count": 154,
   "id": "bb6a8c32",
   "metadata": {
    "ExecuteTime": {
     "end_time": "2022-09-26T13:52:44.114827Z",
     "start_time": "2022-09-26T13:52:44.094793Z"
    }
   },
   "outputs": [
    {
     "data": {
      "text/plain": [
       "array([('Smith', 45, 1.83, (0, 1)), ('Jones', 53, 1.72, (2, 2))],\n",
       "      dtype=[('Name', 'O'), ('Age', '<i4'), ('Height', '<f8'), ('Children/Pets', [('f0', '<i4'), ('f1', '<i4')])])"
      ]
     },
     "execution_count": 154,
     "metadata": {},
     "output_type": "execute_result"
    }
   ],
   "source": [
    "s = np.array([('Smith', 45, 1.83, (0,1 )), \n",
    "              ('Jones', 53, 1.72, (2, 2))], \n",
    "             dtype=dt)\n",
    "s"
   ]
  },
  {
   "cell_type": "markdown",
   "id": "ca66d919",
   "metadata": {},
   "source": [
    "The single columns can now be easily accessed by their names and the rows by their index values:"
   ]
  },
  {
   "cell_type": "code",
   "execution_count": 155,
   "id": "3069a18e",
   "metadata": {
    "ExecuteTime": {
     "end_time": "2022-09-26T14:03:13.400804Z",
     "start_time": "2022-09-26T14:03:13.384964Z"
    }
   },
   "outputs": [
    {
     "data": {
      "text/plain": [
       "array(['Smith', 'Jones'], dtype=object)"
      ]
     },
     "execution_count": 155,
     "metadata": {},
     "output_type": "execute_result"
    }
   ],
   "source": [
    "s['Name']"
   ]
  },
  {
   "cell_type": "code",
   "execution_count": 156,
   "id": "0944b6f0",
   "metadata": {
    "ExecuteTime": {
     "end_time": "2022-09-26T14:08:15.396657Z",
     "start_time": "2022-09-26T14:08:15.368741Z"
    }
   },
   "outputs": [
    {
     "data": {
      "text/plain": [
       "1.775"
      ]
     },
     "execution_count": 156,
     "metadata": {},
     "output_type": "execute_result"
    }
   ],
   "source": [
    "s['Height'].mean()"
   ]
  },
  {
   "cell_type": "code",
   "execution_count": 157,
   "id": "8d392fb3",
   "metadata": {
    "ExecuteTime": {
     "end_time": "2022-09-26T14:08:21.956419Z",
     "start_time": "2022-09-26T14:08:21.942011Z"
    }
   },
   "outputs": [
    {
     "data": {
      "text/plain": [
       "('Smith', 45, 1.83, (0, 1))"
      ]
     },
     "execution_count": 157,
     "metadata": {},
     "output_type": "execute_result"
    }
   ],
   "source": [
    "s[0]"
   ]
  },
  {
   "cell_type": "code",
   "execution_count": 158,
   "id": "c23e9823",
   "metadata": {
    "ExecuteTime": {
     "end_time": "2022-09-26T14:08:32.717061Z",
     "start_time": "2022-09-26T14:08:32.697536Z"
    }
   },
   "outputs": [
    {
     "data": {
      "text/plain": [
       "53"
      ]
     },
     "execution_count": 158,
     "metadata": {},
     "output_type": "execute_result"
    }
   ],
   "source": [
    "s[1]['Age']"
   ]
  },
  {
   "cell_type": "markdown",
   "id": "b1459170",
   "metadata": {},
   "source": [
    "In summary, structured arrays are a generalization of the regular ndarray object type in that the data type only has to be the same per column, like in tables in SQL databases. One advantage of structured arrays is that a single element of a column can be another multidimensional object and does not have to conform to the basic NumPy data types."
   ]
  },
  {
   "cell_type": "markdown",
   "id": "562eb002",
   "metadata": {},
   "source": [
    "They bring SQL table–like data structures to Python, with most of the benefits of regular ndarray objects (syntax, methods, performance)."
   ]
  },
  {
   "cell_type": "markdown",
   "id": "ec32324c",
   "metadata": {},
   "source": [
    "# Vectorization of Code\n",
    "Vectorization is a strategy to get more compact code that is possibly executed faster. The fundamental idea is to conduct an operation on or to apply a function to a complex object “at once” and not by looping over the single elements of the object. In Python, functional programming tools such as map() and filter() provide some basic means for vectorization. However, NumPy has vectorization built in deep down in its core."
   ]
  },
  {
   "cell_type": "markdown",
   "id": "ff71498d",
   "metadata": {},
   "source": [
    "## Basic Vectorization"
   ]
  },
  {
   "cell_type": "code",
   "execution_count": 159,
   "id": "4b7177bc",
   "metadata": {
    "ExecuteTime": {
     "end_time": "2022-09-26T14:11:31.106826Z",
     "start_time": "2022-09-26T14:11:31.101789Z"
    }
   },
   "outputs": [],
   "source": [
    "np.random.seed(39)"
   ]
  },
  {
   "cell_type": "code",
   "execution_count": 161,
   "id": "962cf784",
   "metadata": {
    "ExecuteTime": {
     "end_time": "2022-09-26T14:12:08.300808Z",
     "start_time": "2022-09-26T14:12:08.289942Z"
    }
   },
   "outputs": [],
   "source": [
    "r = np.arange(12).reshape((4, 3))\n",
    "s = np.arange(12).reshape((4, 3)) * .5"
   ]
  },
  {
   "cell_type": "code",
   "execution_count": 162,
   "id": "c3c8e7b7",
   "metadata": {
    "ExecuteTime": {
     "end_time": "2022-09-26T14:12:14.033264Z",
     "start_time": "2022-09-26T14:12:14.028084Z"
    }
   },
   "outputs": [
    {
     "data": {
      "text/plain": [
       "array([[ 0,  1,  2],\n",
       "       [ 3,  4,  5],\n",
       "       [ 6,  7,  8],\n",
       "       [ 9, 10, 11]])"
      ]
     },
     "execution_count": 162,
     "metadata": {},
     "output_type": "execute_result"
    }
   ],
   "source": [
    "r"
   ]
  },
  {
   "cell_type": "code",
   "execution_count": 163,
   "id": "d3abdcc9",
   "metadata": {
    "ExecuteTime": {
     "end_time": "2022-09-26T14:12:16.595073Z",
     "start_time": "2022-09-26T14:12:16.579876Z"
    }
   },
   "outputs": [
    {
     "data": {
      "text/plain": [
       "array([[0. , 0.5, 1. ],\n",
       "       [1.5, 2. , 2.5],\n",
       "       [3. , 3.5, 4. ],\n",
       "       [4.5, 5. , 5.5]])"
      ]
     },
     "execution_count": 163,
     "metadata": {},
     "output_type": "execute_result"
    }
   ],
   "source": [
    "s"
   ]
  },
  {
   "cell_type": "code",
   "execution_count": 164,
   "id": "fa487acb",
   "metadata": {
    "ExecuteTime": {
     "end_time": "2022-09-26T14:12:27.621685Z",
     "start_time": "2022-09-26T14:12:27.609637Z"
    }
   },
   "outputs": [
    {
     "data": {
      "text/plain": [
       "array([[ 0. ,  1.5,  3. ],\n",
       "       [ 4.5,  6. ,  7.5],\n",
       "       [ 9. , 10.5, 12. ],\n",
       "       [13.5, 15. , 16.5]])"
      ]
     },
     "execution_count": 164,
     "metadata": {},
     "output_type": "execute_result"
    }
   ],
   "source": [
    "r + s"
   ]
  },
  {
   "cell_type": "code",
   "execution_count": 165,
   "id": "a3ba0c16",
   "metadata": {
    "ExecuteTime": {
     "end_time": "2022-09-26T14:15:25.104347Z",
     "start_time": "2022-09-26T14:15:25.080775Z"
    }
   },
   "outputs": [
    {
     "data": {
      "text/plain": [
       "array([[ 3,  4,  5],\n",
       "       [ 6,  7,  8],\n",
       "       [ 9, 10, 11],\n",
       "       [12, 13, 14]])"
      ]
     },
     "execution_count": 165,
     "metadata": {},
     "output_type": "execute_result"
    }
   ],
   "source": [
    "r + 3"
   ]
  },
  {
   "cell_type": "code",
   "execution_count": 166,
   "id": "7e1a1d26",
   "metadata": {
    "ExecuteTime": {
     "end_time": "2022-09-26T14:15:32.888884Z",
     "start_time": "2022-09-26T14:15:32.884871Z"
    }
   },
   "outputs": [
    {
     "data": {
      "text/plain": [
       "array([[ 0,  2,  4],\n",
       "       [ 6,  8, 10],\n",
       "       [12, 14, 16],\n",
       "       [18, 20, 22]])"
      ]
     },
     "execution_count": 166,
     "metadata": {},
     "output_type": "execute_result"
    }
   ],
   "source": [
    "2 * r"
   ]
  },
  {
   "cell_type": "code",
   "execution_count": 167,
   "id": "57e22e37",
   "metadata": {
    "ExecuteTime": {
     "end_time": "2022-09-26T14:15:41.802714Z",
     "start_time": "2022-09-26T14:15:41.787003Z"
    }
   },
   "outputs": [
    {
     "data": {
      "text/plain": [
       "array([[ 3,  5,  7],\n",
       "       [ 9, 11, 13],\n",
       "       [15, 17, 19],\n",
       "       [21, 23, 25]])"
      ]
     },
     "execution_count": 167,
     "metadata": {},
     "output_type": "execute_result"
    }
   ],
   "source": [
    "2 * r + 3"
   ]
  },
  {
   "cell_type": "code",
   "execution_count": 168,
   "id": "fb0bf4c2",
   "metadata": {
    "ExecuteTime": {
     "end_time": "2022-09-26T14:16:12.708930Z",
     "start_time": "2022-09-26T14:16:12.703292Z"
    }
   },
   "outputs": [
    {
     "data": {
      "text/plain": [
       "(array([[ 0,  1,  2],\n",
       "        [ 3,  4,  5],\n",
       "        [ 6,  7,  8],\n",
       "        [ 9, 10, 11]]),\n",
       " (4, 3))"
      ]
     },
     "execution_count": 168,
     "metadata": {},
     "output_type": "execute_result"
    }
   ],
   "source": [
    "r, r.shape"
   ]
  },
  {
   "cell_type": "code",
   "execution_count": 170,
   "id": "01ba8d85",
   "metadata": {
    "ExecuteTime": {
     "end_time": "2022-09-26T14:16:32.061241Z",
     "start_time": "2022-09-26T14:16:32.033340Z"
    }
   },
   "outputs": [
    {
     "data": {
      "text/plain": [
       "array([0, 4, 8])"
      ]
     },
     "execution_count": 170,
     "metadata": {},
     "output_type": "execute_result"
    }
   ],
   "source": [
    "s = np.arange(0, 12, 4)\n",
    "s"
   ]
  },
  {
   "cell_type": "code",
   "execution_count": 171,
   "id": "4e974bbf",
   "metadata": {
    "ExecuteTime": {
     "end_time": "2022-09-26T14:16:36.046512Z",
     "start_time": "2022-09-26T14:16:36.041528Z"
    }
   },
   "outputs": [
    {
     "data": {
      "text/plain": [
       "array([[ 0,  5, 10],\n",
       "       [ 3,  8, 13],\n",
       "       [ 6, 11, 16],\n",
       "       [ 9, 14, 19]])"
      ]
     },
     "execution_count": 171,
     "metadata": {},
     "output_type": "execute_result"
    }
   ],
   "source": [
    "r + s"
   ]
  },
  {
   "cell_type": "code",
   "execution_count": 172,
   "id": "65d41ed6",
   "metadata": {
    "ExecuteTime": {
     "end_time": "2022-09-26T14:16:54.753329Z",
     "start_time": "2022-09-26T14:16:54.734685Z"
    }
   },
   "outputs": [
    {
     "data": {
      "text/plain": [
       "array([0, 3, 6, 9])"
      ]
     },
     "execution_count": 172,
     "metadata": {},
     "output_type": "execute_result"
    }
   ],
   "source": [
    "s = np.arange(0, 12, 3)\n",
    "s"
   ]
  },
  {
   "cell_type": "code",
   "execution_count": 173,
   "id": "d3461556",
   "metadata": {
    "ExecuteTime": {
     "end_time": "2022-09-26T14:17:00.263734Z",
     "start_time": "2022-09-26T14:17:00.242751Z"
    }
   },
   "outputs": [
    {
     "ename": "ValueError",
     "evalue": "operands could not be broadcast together with shapes (4,3) (4,) ",
     "output_type": "error",
     "traceback": [
      "\u001b[1;31m---------------------------------------------------------------------------\u001b[0m",
      "\u001b[1;31mValueError\u001b[0m                                Traceback (most recent call last)",
      "Input \u001b[1;32mIn [173]\u001b[0m, in \u001b[0;36m<cell line: 1>\u001b[1;34m()\u001b[0m\n\u001b[1;32m----> 1\u001b[0m \u001b[43mr\u001b[49m\u001b[43m \u001b[49m\u001b[38;5;241;43m+\u001b[39;49m\u001b[43m \u001b[49m\u001b[43ms\u001b[49m\n",
      "\u001b[1;31mValueError\u001b[0m: operands could not be broadcast together with shapes (4,3) (4,) "
     ]
    }
   ],
   "source": [
    "r + s"
   ]
  },
  {
   "cell_type": "code",
   "execution_count": 174,
   "id": "c349e9c1",
   "metadata": {
    "ExecuteTime": {
     "end_time": "2022-09-26T14:17:29.593189Z",
     "start_time": "2022-09-26T14:17:29.578168Z"
    }
   },
   "outputs": [
    {
     "data": {
      "text/plain": [
       "array([[ 0,  6, 12, 18],\n",
       "       [ 1,  7, 13, 19],\n",
       "       [ 2,  8, 14, 20]])"
      ]
     },
     "execution_count": 174,
     "metadata": {},
     "output_type": "execute_result"
    }
   ],
   "source": [
    "r.transpose() + s"
   ]
  },
  {
   "cell_type": "code",
   "execution_count": 177,
   "id": "011df72b",
   "metadata": {
    "ExecuteTime": {
     "end_time": "2022-09-26T14:18:08.326417Z",
     "start_time": "2022-09-26T14:18:08.297648Z"
    }
   },
   "outputs": [
    {
     "data": {
      "text/plain": [
       "(array([[0],\n",
       "        [3],\n",
       "        [6],\n",
       "        [9]]),\n",
       " (4, 1))"
      ]
     },
     "execution_count": 177,
     "metadata": {},
     "output_type": "execute_result"
    }
   ],
   "source": [
    "sr = s.reshape(-1, 1)\n",
    "sr, sr.shape"
   ]
  },
  {
   "cell_type": "code",
   "execution_count": 178,
   "id": "2f485389",
   "metadata": {
    "ExecuteTime": {
     "end_time": "2022-09-26T14:18:32.670441Z",
     "start_time": "2022-09-26T14:18:32.665195Z"
    }
   },
   "outputs": [
    {
     "data": {
      "text/plain": [
       "array([[ 0,  1,  2],\n",
       "       [ 6,  7,  8],\n",
       "       [12, 13, 14],\n",
       "       [18, 19, 20]])"
      ]
     },
     "execution_count": 178,
     "metadata": {},
     "output_type": "execute_result"
    }
   ],
   "source": [
    "r + s.reshape(-1, 1)"
   ]
  },
  {
   "cell_type": "code",
   "execution_count": 195,
   "id": "bb3668c4",
   "metadata": {
    "ExecuteTime": {
     "end_time": "2022-09-26T14:21:38.454985Z",
     "start_time": "2022-09-26T14:21:38.446122Z"
    }
   },
   "outputs": [],
   "source": [
    "def f(x):\n",
    "    return 3 * x + 5"
   ]
  },
  {
   "cell_type": "code",
   "execution_count": 196,
   "id": "21a3073c",
   "metadata": {
    "ExecuteTime": {
     "end_time": "2022-09-26T14:21:46.335649Z",
     "start_time": "2022-09-26T14:21:46.324128Z"
    }
   },
   "outputs": [
    {
     "data": {
      "text/plain": [
       "6.5"
      ]
     },
     "execution_count": 196,
     "metadata": {},
     "output_type": "execute_result"
    }
   ],
   "source": [
    "f(0.5)"
   ]
  },
  {
   "cell_type": "code",
   "execution_count": 197,
   "id": "744036cf",
   "metadata": {
    "ExecuteTime": {
     "end_time": "2022-09-26T14:21:49.336017Z",
     "start_time": "2022-09-26T14:21:49.315991Z"
    }
   },
   "outputs": [
    {
     "data": {
      "text/plain": [
       "array([[ 5,  8, 11],\n",
       "       [14, 17, 20],\n",
       "       [23, 26, 29],\n",
       "       [32, 35, 38]])"
      ]
     },
     "execution_count": 197,
     "metadata": {},
     "output_type": "execute_result"
    }
   ],
   "source": [
    "f(r)"
   ]
  },
  {
   "cell_type": "markdown",
   "id": "cb28d0c1",
   "metadata": {},
   "source": [
    "## Memory Layout"
   ]
  },
  {
   "cell_type": "code",
   "execution_count": 217,
   "id": "d8ed251e",
   "metadata": {
    "ExecuteTime": {
     "end_time": "2022-09-26T14:33:45.990346Z",
     "start_time": "2022-09-26T14:33:45.874311Z"
    }
   },
   "outputs": [],
   "source": [
    "x = np.random.standard_normal((1000000, 5))"
   ]
  },
  {
   "cell_type": "code",
   "execution_count": 218,
   "id": "cf418da4",
   "metadata": {
    "ExecuteTime": {
     "end_time": "2022-09-26T14:33:46.097034Z",
     "start_time": "2022-09-26T14:33:46.057006Z"
    }
   },
   "outputs": [],
   "source": [
    "y = 2 * x + 3"
   ]
  },
  {
   "cell_type": "code",
   "execution_count": 219,
   "id": "fb02bfc0",
   "metadata": {
    "ExecuteTime": {
     "end_time": "2022-09-26T14:33:46.261963Z",
     "start_time": "2022-09-26T14:33:46.235966Z"
    }
   },
   "outputs": [],
   "source": [
    "C = np.array((x, y), order='C')"
   ]
  },
  {
   "cell_type": "code",
   "execution_count": 220,
   "id": "da3124a5",
   "metadata": {
    "ExecuteTime": {
     "end_time": "2022-09-26T14:33:46.444191Z",
     "start_time": "2022-09-26T14:33:46.385172Z"
    }
   },
   "outputs": [],
   "source": [
    "F = np.array((x, y), order='F')"
   ]
  },
  {
   "cell_type": "code",
   "execution_count": 221,
   "id": "0f9812ea",
   "metadata": {
    "ExecuteTime": {
     "end_time": "2022-09-26T14:33:46.581798Z",
     "start_time": "2022-09-26T14:33:46.564461Z"
    }
   },
   "outputs": [],
   "source": [
    "x = 0.0; y = 0.0"
   ]
  },
  {
   "cell_type": "code",
   "execution_count": 222,
   "id": "462e9597",
   "metadata": {
    "ExecuteTime": {
     "end_time": "2022-09-26T14:33:46.779397Z",
     "start_time": "2022-09-26T14:33:46.729864Z"
    }
   },
   "outputs": [
    {
     "data": {
      "text/plain": [
       "array([[[-0.89,  0.62, -1.83,  0.88, -0.9 ],\n",
       "        [-1.66,  0.11, -0.32,  0.34,  0.03],\n",
       "        [-0.56, -0.22, -0.95,  1.2 ,  0.18],\n",
       "        ...,\n",
       "        [-1.61, -1.13, -1.04,  0.49, -1.74],\n",
       "        [-0.69, -0.69, -1.99, -1.04,  0.84],\n",
       "        [ 0.35, -0.91,  0.5 , -0.6 , -0.74]],\n",
       "\n",
       "       [[ 1.22,  4.23, -0.65,  4.75,  1.19],\n",
       "        [-0.32,  3.22,  2.36,  3.68,  3.05],\n",
       "        [ 1.87,  2.57,  1.11,  5.4 ,  3.37],\n",
       "        ...,\n",
       "        [-0.22,  0.73,  0.92,  3.97, -0.48],\n",
       "        [ 1.63,  1.62, -0.99,  0.92,  4.68],\n",
       "        [ 3.71,  1.18,  4.  ,  1.79,  1.52]]])"
      ]
     },
     "execution_count": 222,
     "metadata": {},
     "output_type": "execute_result"
    }
   ],
   "source": [
    "C[:2].round(2)"
   ]
  },
  {
   "cell_type": "code",
   "execution_count": 223,
   "id": "e2e57741",
   "metadata": {
    "ExecuteTime": {
     "end_time": "2022-09-26T14:33:55.211456Z",
     "start_time": "2022-09-26T14:33:46.882490Z"
    }
   },
   "outputs": [
    {
     "name": "stdout",
     "output_type": "stream",
     "text": [
      "10.2 ms ± 255 µs per loop (mean ± std. dev. of 7 runs, 100 loops each)\n"
     ]
    }
   ],
   "source": [
    "%timeit C.sum()"
   ]
  },
  {
   "cell_type": "code",
   "execution_count": 224,
   "id": "01c68ac8",
   "metadata": {
    "ExecuteTime": {
     "end_time": "2022-09-26T14:34:38.195912Z",
     "start_time": "2022-09-26T14:34:29.856286Z"
    }
   },
   "outputs": [
    {
     "name": "stdout",
     "output_type": "stream",
     "text": [
      "10.3 ms ± 94.6 µs per loop (mean ± std. dev. of 7 runs, 100 loops each)\n"
     ]
    }
   ],
   "source": [
    "%timeit F.sum()"
   ]
  },
  {
   "cell_type": "code",
   "execution_count": 225,
   "id": "07df3596",
   "metadata": {
    "ExecuteTime": {
     "end_time": "2022-09-26T14:34:39.902975Z",
     "start_time": "2022-09-26T14:34:38.229134Z"
    }
   },
   "outputs": [
    {
     "name": "stdout",
     "output_type": "stream",
     "text": [
      "20.1 ms ± 776 µs per loop (mean ± std. dev. of 7 runs, 10 loops each)\n"
     ]
    }
   ],
   "source": [
    "%timeit C.sum(axis=0)"
   ]
  },
  {
   "cell_type": "code",
   "execution_count": 226,
   "id": "5061b45f",
   "metadata": {
    "ExecuteTime": {
     "end_time": "2022-09-26T14:34:42.618096Z",
     "start_time": "2022-09-26T14:34:39.937586Z"
    }
   },
   "outputs": [
    {
     "name": "stdout",
     "output_type": "stream",
     "text": [
      "32.7 ms ± 319 µs per loop (mean ± std. dev. of 7 runs, 10 loops each)\n"
     ]
    }
   ],
   "source": [
    "%timeit C.sum(axis=1)"
   ]
  },
  {
   "cell_type": "code",
   "execution_count": 227,
   "id": "02fca4db",
   "metadata": {
    "ExecuteTime": {
     "end_time": "2022-09-26T14:34:47.093089Z",
     "start_time": "2022-09-26T14:34:42.665265Z"
    }
   },
   "outputs": [
    {
     "name": "stdout",
     "output_type": "stream",
     "text": [
      "54.1 ms ± 317 µs per loop (mean ± std. dev. of 7 runs, 10 loops each)\n"
     ]
    }
   ],
   "source": [
    "%timeit F.sum(axis=0)"
   ]
  },
  {
   "cell_type": "code",
   "execution_count": 228,
   "id": "c7e49b95",
   "metadata": {
    "ExecuteTime": {
     "end_time": "2022-09-26T14:34:53.118765Z",
     "start_time": "2022-09-26T14:34:47.129852Z"
    }
   },
   "outputs": [
    {
     "name": "stdout",
     "output_type": "stream",
     "text": [
      "73.7 ms ± 733 µs per loop (mean ± std. dev. of 7 runs, 10 loops each)\n"
     ]
    }
   ],
   "source": [
    "%timeit F.sum(axis=1)"
   ]
  },
  {
   "cell_type": "code",
   "execution_count": 229,
   "id": "089defe3",
   "metadata": {
    "ExecuteTime": {
     "end_time": "2022-09-26T14:34:53.166371Z",
     "start_time": "2022-09-26T14:34:53.150735Z"
    }
   },
   "outputs": [],
   "source": [
    "F = 0.0; C = 0.0"
   ]
  },
  {
   "cell_type": "markdown",
   "id": "45736245",
   "metadata": {},
   "source": [
    "We can summarize the performance results as follows:\n",
    "- When calculating the sum of all elements, the memory layout does not really matter.\n",
    "- The summing up over the C-ordered ndarray objects is faster both over rows and over columns (an absolute speed advantage).\n",
    "- With the C-ordered (row-major) ndarray object, summing up over rows is relatively faster compared to summing up over columns.\n",
    "- With the F-ordered (column-major) ndarray object, summing up over columns is relatively faster compared to summing up over rows."
   ]
  },
  {
   "cell_type": "code",
   "execution_count": null,
   "id": "bb6b2637",
   "metadata": {},
   "outputs": [],
   "source": []
  }
 ],
 "metadata": {
  "kernelspec": {
   "display_name": "Python 3 (ipykernel)",
   "language": "python",
   "name": "python3"
  },
  "language_info": {
   "codemirror_mode": {
    "name": "ipython",
    "version": 3
   },
   "file_extension": ".py",
   "mimetype": "text/x-python",
   "name": "python",
   "nbconvert_exporter": "python",
   "pygments_lexer": "ipython3",
   "version": "3.9.12"
  },
  "latex_envs": {
   "LaTeX_envs_menu_present": true,
   "autoclose": false,
   "autocomplete": true,
   "bibliofile": "biblio.bib",
   "cite_by": "apalike",
   "current_citInitial": 1,
   "eqLabelWithNumbers": true,
   "eqNumInitial": 1,
   "hotkeys": {
    "equation": "Ctrl-E",
    "itemize": "Ctrl-I"
   },
   "labels_anchors": false,
   "latex_user_defs": false,
   "report_style_numbering": false,
   "user_envs_cfg": false
  },
  "toc": {
   "base_numbering": 1,
   "nav_menu": {},
   "number_sections": true,
   "sideBar": true,
   "skip_h1_title": false,
   "title_cell": "Table of Contents",
   "title_sidebar": "Contents",
   "toc_cell": false,
   "toc_position": {},
   "toc_section_display": true,
   "toc_window_display": false
  },
  "varInspector": {
   "cols": {
    "lenName": 16,
    "lenType": 16,
    "lenVar": 40
   },
   "kernels_config": {
    "python": {
     "delete_cmd_postfix": "",
     "delete_cmd_prefix": "del ",
     "library": "var_list.py",
     "varRefreshCmd": "print(var_dic_list())"
    },
    "r": {
     "delete_cmd_postfix": ") ",
     "delete_cmd_prefix": "rm(",
     "library": "var_list.r",
     "varRefreshCmd": "cat(var_dic_list()) "
    }
   },
   "position": {
    "height": "144.844px",
    "left": "523px",
    "right": "20px",
    "top": "120px",
    "width": "350px"
   },
   "types_to_exclude": [
    "module",
    "function",
    "builtin_function_or_method",
    "instance",
    "_Feature"
   ],
   "window_display": false
  },
  "vp": {
   "vp_config_version": "1.0.0",
   "vp_menu_width": 273,
   "vp_note_display": false,
   "vp_note_width": 0,
   "vp_position": {
    "width": 278
   },
   "vp_section_display": false,
   "vp_signature": "VisualPython"
  }
 },
 "nbformat": 4,
 "nbformat_minor": 5
}
