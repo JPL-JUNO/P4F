{
 "cells": [
  {
   "cell_type": "markdown",
   "id": "18f5524a",
   "metadata": {},
   "source": [
    "# The DataFrame Class"
   ]
  },
  {
   "cell_type": "markdown",
   "id": "94025968",
   "metadata": {},
   "source": [
    "## First Steps with the DataFrame Class"
   ]
  },
  {
   "cell_type": "code",
   "execution_count": 1,
   "id": "e2f99290",
   "metadata": {
    "ExecuteTime": {
     "end_time": "2022-10-03T14:13:21.626589Z",
     "start_time": "2022-10-03T14:13:20.491448Z"
    }
   },
   "outputs": [],
   "source": [
    "import pandas as pd\n",
    "import warnings\n",
    "warnings.filterwarnings('ignore')"
   ]
  },
  {
   "cell_type": "code",
   "execution_count": 2,
   "id": "3d131777",
   "metadata": {
    "ExecuteTime": {
     "end_time": "2022-10-03T14:13:21.705579Z",
     "start_time": "2022-10-03T14:13:21.628583Z"
    }
   },
   "outputs": [
    {
     "data": {
      "text/html": [
       "<div>\n",
       "<style scoped>\n",
       "    .dataframe tbody tr th:only-of-type {\n",
       "        vertical-align: middle;\n",
       "    }\n",
       "\n",
       "    .dataframe tbody tr th {\n",
       "        vertical-align: top;\n",
       "    }\n",
       "\n",
       "    .dataframe thead th {\n",
       "        text-align: right;\n",
       "    }\n",
       "</style>\n",
       "<table border=\"1\" class=\"dataframe\">\n",
       "  <thead>\n",
       "    <tr style=\"text-align: right;\">\n",
       "      <th></th>\n",
       "      <th>numbers</th>\n",
       "    </tr>\n",
       "  </thead>\n",
       "  <tbody>\n",
       "    <tr>\n",
       "      <th>a</th>\n",
       "      <td>10</td>\n",
       "    </tr>\n",
       "    <tr>\n",
       "      <th>b</th>\n",
       "      <td>20</td>\n",
       "    </tr>\n",
       "    <tr>\n",
       "      <th>c</th>\n",
       "      <td>30</td>\n",
       "    </tr>\n",
       "    <tr>\n",
       "      <th>d</th>\n",
       "      <td>40</td>\n",
       "    </tr>\n",
       "  </tbody>\n",
       "</table>\n",
       "</div>"
      ],
      "text/plain": [
       "   numbers\n",
       "a       10\n",
       "b       20\n",
       "c       30\n",
       "d       40"
      ]
     },
     "execution_count": 2,
     "metadata": {},
     "output_type": "execute_result"
    }
   ],
   "source": [
    "df = pd.DataFrame([10, 20, 30, 40], columns=['numbers'], index=list('abcd'))\n",
    "df"
   ]
  },
  {
   "cell_type": "code",
   "execution_count": 3,
   "id": "60c04c1c",
   "metadata": {
    "ExecuteTime": {
     "end_time": "2022-10-03T14:13:21.735629Z",
     "start_time": "2022-10-03T14:13:21.707582Z"
    }
   },
   "outputs": [
    {
     "data": {
      "text/plain": [
       "(Index(['a', 'b', 'c', 'd'], dtype='object'),\n",
       " Index(['numbers'], dtype='object'))"
      ]
     },
     "execution_count": 3,
     "metadata": {},
     "output_type": "execute_result"
    }
   ],
   "source": [
    "df.index, df.columns"
   ]
  },
  {
   "cell_type": "code",
   "execution_count": 4,
   "id": "e50f99f8",
   "metadata": {
    "ExecuteTime": {
     "end_time": "2022-10-03T14:13:21.798928Z",
     "start_time": "2022-10-03T14:13:21.738582Z"
    }
   },
   "outputs": [
    {
     "data": {
      "text/plain": [
       "numbers    30\n",
       "Name: c, dtype: int64"
      ]
     },
     "execution_count": 4,
     "metadata": {},
     "output_type": "execute_result"
    }
   ],
   "source": [
    "df.loc['c']"
   ]
  },
  {
   "cell_type": "code",
   "execution_count": 5,
   "id": "be5ca447",
   "metadata": {
    "ExecuteTime": {
     "end_time": "2022-10-03T14:13:21.924746Z",
     "start_time": "2022-10-03T14:13:21.802926Z"
    }
   },
   "outputs": [
    {
     "data": {
      "text/html": [
       "<div>\n",
       "<style scoped>\n",
       "    .dataframe tbody tr th:only-of-type {\n",
       "        vertical-align: middle;\n",
       "    }\n",
       "\n",
       "    .dataframe tbody tr th {\n",
       "        vertical-align: top;\n",
       "    }\n",
       "\n",
       "    .dataframe thead th {\n",
       "        text-align: right;\n",
       "    }\n",
       "</style>\n",
       "<table border=\"1\" class=\"dataframe\">\n",
       "  <thead>\n",
       "    <tr style=\"text-align: right;\">\n",
       "      <th></th>\n",
       "      <th>numbers</th>\n",
       "    </tr>\n",
       "  </thead>\n",
       "  <tbody>\n",
       "    <tr>\n",
       "      <th>c</th>\n",
       "      <td>30</td>\n",
       "    </tr>\n",
       "    <tr>\n",
       "      <th>d</th>\n",
       "      <td>40</td>\n",
       "    </tr>\n",
       "  </tbody>\n",
       "</table>\n",
       "</div>"
      ],
      "text/plain": [
       "   numbers\n",
       "c       30\n",
       "d       40"
      ]
     },
     "execution_count": 5,
     "metadata": {},
     "output_type": "execute_result"
    }
   ],
   "source": [
    "df.loc[['c', 'd']]"
   ]
  },
  {
   "cell_type": "code",
   "execution_count": 6,
   "id": "30cfa967",
   "metadata": {
    "ExecuteTime": {
     "end_time": "2022-10-03T14:13:22.049346Z",
     "start_time": "2022-10-03T14:13:21.927747Z"
    }
   },
   "outputs": [
    {
     "data": {
      "text/html": [
       "<div>\n",
       "<style scoped>\n",
       "    .dataframe tbody tr th:only-of-type {\n",
       "        vertical-align: middle;\n",
       "    }\n",
       "\n",
       "    .dataframe tbody tr th {\n",
       "        vertical-align: top;\n",
       "    }\n",
       "\n",
       "    .dataframe thead th {\n",
       "        text-align: right;\n",
       "    }\n",
       "</style>\n",
       "<table border=\"1\" class=\"dataframe\">\n",
       "  <thead>\n",
       "    <tr style=\"text-align: right;\">\n",
       "      <th></th>\n",
       "      <th>numbers</th>\n",
       "    </tr>\n",
       "  </thead>\n",
       "  <tbody>\n",
       "    <tr>\n",
       "      <th>b</th>\n",
       "      <td>20</td>\n",
       "    </tr>\n",
       "    <tr>\n",
       "      <th>c</th>\n",
       "      <td>30</td>\n",
       "    </tr>\n",
       "  </tbody>\n",
       "</table>\n",
       "</div>"
      ],
      "text/plain": [
       "   numbers\n",
       "b       20\n",
       "c       30"
      ]
     },
     "execution_count": 6,
     "metadata": {},
     "output_type": "execute_result"
    }
   ],
   "source": [
    "df.iloc[1: 3]"
   ]
  },
  {
   "cell_type": "code",
   "execution_count": 7,
   "id": "fab93fa5",
   "metadata": {
    "ExecuteTime": {
     "end_time": "2022-10-03T14:13:22.127652Z",
     "start_time": "2022-10-03T14:13:22.052350Z"
    }
   },
   "outputs": [
    {
     "data": {
      "text/plain": [
       "numbers    100\n",
       "dtype: int64"
      ]
     },
     "execution_count": 7,
     "metadata": {},
     "output_type": "execute_result"
    }
   ],
   "source": [
    "df.sum()"
   ]
  },
  {
   "cell_type": "code",
   "execution_count": 8,
   "id": "3f52f402",
   "metadata": {
    "ExecuteTime": {
     "end_time": "2022-10-03T14:13:22.158942Z",
     "start_time": "2022-10-03T14:13:22.130650Z"
    },
    "scrolled": true
   },
   "outputs": [
    {
     "data": {
      "text/plain": [
       "(   numbers\n",
       " a      100\n",
       " b      400\n",
       " c      900\n",
       " d     1600,\n",
       "    numbers\n",
       " a      100\n",
       " b      400\n",
       " c      900\n",
       " d     1600)"
      ]
     },
     "execution_count": 8,
     "metadata": {},
     "output_type": "execute_result"
    }
   ],
   "source": [
    "df.apply(lambda x: x ** 2), df ** 2"
   ]
  },
  {
   "cell_type": "code",
   "execution_count": 9,
   "id": "a9537444",
   "metadata": {
    "ExecuteTime": {
     "end_time": "2022-10-03T14:13:22.221015Z",
     "start_time": "2022-10-03T14:13:22.161941Z"
    }
   },
   "outputs": [
    {
     "data": {
      "text/html": [
       "<div>\n",
       "<style scoped>\n",
       "    .dataframe tbody tr th:only-of-type {\n",
       "        vertical-align: middle;\n",
       "    }\n",
       "\n",
       "    .dataframe tbody tr th {\n",
       "        vertical-align: top;\n",
       "    }\n",
       "\n",
       "    .dataframe thead th {\n",
       "        text-align: right;\n",
       "    }\n",
       "</style>\n",
       "<table border=\"1\" class=\"dataframe\">\n",
       "  <thead>\n",
       "    <tr style=\"text-align: right;\">\n",
       "      <th></th>\n",
       "      <th>numbers</th>\n",
       "      <th>floats</th>\n",
       "    </tr>\n",
       "  </thead>\n",
       "  <tbody>\n",
       "    <tr>\n",
       "      <th>a</th>\n",
       "      <td>10</td>\n",
       "      <td>1.5</td>\n",
       "    </tr>\n",
       "    <tr>\n",
       "      <th>b</th>\n",
       "      <td>20</td>\n",
       "      <td>2.5</td>\n",
       "    </tr>\n",
       "    <tr>\n",
       "      <th>c</th>\n",
       "      <td>30</td>\n",
       "      <td>3.5</td>\n",
       "    </tr>\n",
       "    <tr>\n",
       "      <th>d</th>\n",
       "      <td>40</td>\n",
       "      <td>4.5</td>\n",
       "    </tr>\n",
       "  </tbody>\n",
       "</table>\n",
       "</div>"
      ],
      "text/plain": [
       "   numbers  floats\n",
       "a       10     1.5\n",
       "b       20     2.5\n",
       "c       30     3.5\n",
       "d       40     4.5"
      ]
     },
     "execution_count": 9,
     "metadata": {},
     "output_type": "execute_result"
    }
   ],
   "source": [
    "df['floats'] = (1.5, 2.5, 3.5, 4.5)\n",
    "df"
   ]
  },
  {
   "cell_type": "code",
   "execution_count": 10,
   "id": "b5160d1b",
   "metadata": {
    "ExecuteTime": {
     "end_time": "2022-10-03T14:13:22.285033Z",
     "start_time": "2022-10-03T14:13:22.225989Z"
    }
   },
   "outputs": [
    {
     "data": {
      "text/plain": [
       "a    1.5\n",
       "b    2.5\n",
       "c    3.5\n",
       "d    4.5\n",
       "Name: floats, dtype: float64"
      ]
     },
     "execution_count": 10,
     "metadata": {},
     "output_type": "execute_result"
    }
   ],
   "source": [
    "df['floats']"
   ]
  },
  {
   "cell_type": "code",
   "execution_count": 11,
   "id": "0d540cc7",
   "metadata": {
    "ExecuteTime": {
     "end_time": "2022-10-03T14:13:22.349033Z",
     "start_time": "2022-10-03T14:13:22.287035Z"
    }
   },
   "outputs": [
    {
     "data": {
      "text/html": [
       "<div>\n",
       "<style scoped>\n",
       "    .dataframe tbody tr th:only-of-type {\n",
       "        vertical-align: middle;\n",
       "    }\n",
       "\n",
       "    .dataframe tbody tr th {\n",
       "        vertical-align: top;\n",
       "    }\n",
       "\n",
       "    .dataframe thead th {\n",
       "        text-align: right;\n",
       "    }\n",
       "</style>\n",
       "<table border=\"1\" class=\"dataframe\">\n",
       "  <thead>\n",
       "    <tr style=\"text-align: right;\">\n",
       "      <th></th>\n",
       "      <th>numbers</th>\n",
       "      <th>floats</th>\n",
       "      <th>names</th>\n",
       "    </tr>\n",
       "  </thead>\n",
       "  <tbody>\n",
       "    <tr>\n",
       "      <th>a</th>\n",
       "      <td>10</td>\n",
       "      <td>1.5</td>\n",
       "      <td>Sandra</td>\n",
       "    </tr>\n",
       "    <tr>\n",
       "      <th>b</th>\n",
       "      <td>20</td>\n",
       "      <td>2.5</td>\n",
       "      <td>Lilli</td>\n",
       "    </tr>\n",
       "    <tr>\n",
       "      <th>c</th>\n",
       "      <td>30</td>\n",
       "      <td>3.5</td>\n",
       "      <td>Henry</td>\n",
       "    </tr>\n",
       "    <tr>\n",
       "      <th>d</th>\n",
       "      <td>40</td>\n",
       "      <td>4.5</td>\n",
       "      <td>Yves</td>\n",
       "    </tr>\n",
       "  </tbody>\n",
       "</table>\n",
       "</div>"
      ],
      "text/plain": [
       "   numbers  floats   names\n",
       "a       10     1.5  Sandra\n",
       "b       20     2.5   Lilli\n",
       "c       30     3.5   Henry\n",
       "d       40     4.5    Yves"
      ]
     },
     "execution_count": 11,
     "metadata": {},
     "output_type": "execute_result"
    }
   ],
   "source": [
    "df['names'] = pd.DataFrame(['Yves', 'Sandra', 'Lilli', 'Henry'], index=['d', 'a', 'b', 'c'])\n",
    "df"
   ]
  },
  {
   "cell_type": "code",
   "execution_count": 12,
   "id": "ae105d25",
   "metadata": {
    "ExecuteTime": {
     "end_time": "2022-10-03T14:13:23.099129Z",
     "start_time": "2022-10-03T14:13:22.350998Z"
    }
   },
   "outputs": [
    {
     "data": {
      "text/html": [
       "<div>\n",
       "<style scoped>\n",
       "    .dataframe tbody tr th:only-of-type {\n",
       "        vertical-align: middle;\n",
       "    }\n",
       "\n",
       "    .dataframe tbody tr th {\n",
       "        vertical-align: top;\n",
       "    }\n",
       "\n",
       "    .dataframe thead th {\n",
       "        text-align: right;\n",
       "    }\n",
       "</style>\n",
       "<table border=\"1\" class=\"dataframe\">\n",
       "  <thead>\n",
       "    <tr style=\"text-align: right;\">\n",
       "      <th></th>\n",
       "      <th>numbers</th>\n",
       "      <th>floats</th>\n",
       "      <th>names</th>\n",
       "    </tr>\n",
       "  </thead>\n",
       "  <tbody>\n",
       "    <tr>\n",
       "      <th>0</th>\n",
       "      <td>10</td>\n",
       "      <td>1.50</td>\n",
       "      <td>Sandra</td>\n",
       "    </tr>\n",
       "    <tr>\n",
       "      <th>1</th>\n",
       "      <td>20</td>\n",
       "      <td>2.50</td>\n",
       "      <td>Lilli</td>\n",
       "    </tr>\n",
       "    <tr>\n",
       "      <th>2</th>\n",
       "      <td>30</td>\n",
       "      <td>3.50</td>\n",
       "      <td>Henry</td>\n",
       "    </tr>\n",
       "    <tr>\n",
       "      <th>3</th>\n",
       "      <td>40</td>\n",
       "      <td>4.50</td>\n",
       "      <td>Yves</td>\n",
       "    </tr>\n",
       "    <tr>\n",
       "      <th>4</th>\n",
       "      <td>100</td>\n",
       "      <td>5.75</td>\n",
       "      <td>Jil</td>\n",
       "    </tr>\n",
       "  </tbody>\n",
       "</table>\n",
       "</div>"
      ],
      "text/plain": [
       "   numbers  floats   names\n",
       "0       10    1.50  Sandra\n",
       "1       20    2.50   Lilli\n",
       "2       30    3.50   Henry\n",
       "3       40    4.50    Yves\n",
       "4      100    5.75     Jil"
      ]
     },
     "execution_count": 12,
     "metadata": {},
     "output_type": "execute_result"
    }
   ],
   "source": [
    "df.append({'numbers': 100, 'floats': 5.75, 'names': 'Jil'}, ignore_index=True)"
   ]
  },
  {
   "cell_type": "code",
   "execution_count": 13,
   "id": "37b18e0f",
   "metadata": {
    "ExecuteTime": {
     "end_time": "2022-10-03T14:13:23.129218Z",
     "start_time": "2022-10-03T14:13:23.101130Z"
    },
    "scrolled": true
   },
   "outputs": [
    {
     "data": {
      "text/html": [
       "<div>\n",
       "<style scoped>\n",
       "    .dataframe tbody tr th:only-of-type {\n",
       "        vertical-align: middle;\n",
       "    }\n",
       "\n",
       "    .dataframe tbody tr th {\n",
       "        vertical-align: top;\n",
       "    }\n",
       "\n",
       "    .dataframe thead th {\n",
       "        text-align: right;\n",
       "    }\n",
       "</style>\n",
       "<table border=\"1\" class=\"dataframe\">\n",
       "  <thead>\n",
       "    <tr style=\"text-align: right;\">\n",
       "      <th></th>\n",
       "      <th>numbers</th>\n",
       "      <th>floats</th>\n",
       "      <th>names</th>\n",
       "    </tr>\n",
       "  </thead>\n",
       "  <tbody>\n",
       "    <tr>\n",
       "      <th>a</th>\n",
       "      <td>10</td>\n",
       "      <td>1.50</td>\n",
       "      <td>Sandra</td>\n",
       "    </tr>\n",
       "    <tr>\n",
       "      <th>b</th>\n",
       "      <td>20</td>\n",
       "      <td>2.50</td>\n",
       "      <td>Lilli</td>\n",
       "    </tr>\n",
       "    <tr>\n",
       "      <th>c</th>\n",
       "      <td>30</td>\n",
       "      <td>3.50</td>\n",
       "      <td>Henry</td>\n",
       "    </tr>\n",
       "    <tr>\n",
       "      <th>d</th>\n",
       "      <td>40</td>\n",
       "      <td>4.50</td>\n",
       "      <td>Yves</td>\n",
       "    </tr>\n",
       "    <tr>\n",
       "      <th>y</th>\n",
       "      <td>100</td>\n",
       "      <td>5.75</td>\n",
       "      <td>Jil</td>\n",
       "    </tr>\n",
       "  </tbody>\n",
       "</table>\n",
       "</div>"
      ],
      "text/plain": [
       "   numbers  floats   names\n",
       "a       10    1.50  Sandra\n",
       "b       20    2.50   Lilli\n",
       "c       30    3.50   Henry\n",
       "d       40    4.50    Yves\n",
       "y      100    5.75     Jil"
      ]
     },
     "execution_count": 13,
     "metadata": {},
     "output_type": "execute_result"
    }
   ],
   "source": [
    "df = df.append(pd.DataFrame({'numbers': 100, 'floats': 5.75, 'names': 'Jil'}, index=['y',]))\n",
    "df"
   ]
  },
  {
   "cell_type": "markdown",
   "id": "3c495645",
   "metadata": {},
   "source": [
    "Appends an incomplete data row to the DataFrame object, resulting in NaN values."
   ]
  },
  {
   "cell_type": "code",
   "execution_count": 14,
   "id": "6b448b86",
   "metadata": {
    "ExecuteTime": {
     "end_time": "2022-10-03T14:13:23.161046Z",
     "start_time": "2022-10-03T14:13:23.131216Z"
    }
   },
   "outputs": [
    {
     "data": {
      "text/html": [
       "<div>\n",
       "<style scoped>\n",
       "    .dataframe tbody tr th:only-of-type {\n",
       "        vertical-align: middle;\n",
       "    }\n",
       "\n",
       "    .dataframe tbody tr th {\n",
       "        vertical-align: top;\n",
       "    }\n",
       "\n",
       "    .dataframe thead th {\n",
       "        text-align: right;\n",
       "    }\n",
       "</style>\n",
       "<table border=\"1\" class=\"dataframe\">\n",
       "  <thead>\n",
       "    <tr style=\"text-align: right;\">\n",
       "      <th></th>\n",
       "      <th>numbers</th>\n",
       "      <th>floats</th>\n",
       "      <th>names</th>\n",
       "    </tr>\n",
       "  </thead>\n",
       "  <tbody>\n",
       "    <tr>\n",
       "      <th>a</th>\n",
       "      <td>10.0</td>\n",
       "      <td>1.50</td>\n",
       "      <td>Sandra</td>\n",
       "    </tr>\n",
       "    <tr>\n",
       "      <th>b</th>\n",
       "      <td>20.0</td>\n",
       "      <td>2.50</td>\n",
       "      <td>Lilli</td>\n",
       "    </tr>\n",
       "    <tr>\n",
       "      <th>c</th>\n",
       "      <td>30.0</td>\n",
       "      <td>3.50</td>\n",
       "      <td>Henry</td>\n",
       "    </tr>\n",
       "    <tr>\n",
       "      <th>d</th>\n",
       "      <td>40.0</td>\n",
       "      <td>4.50</td>\n",
       "      <td>Yves</td>\n",
       "    </tr>\n",
       "    <tr>\n",
       "      <th>y</th>\n",
       "      <td>100.0</td>\n",
       "      <td>5.75</td>\n",
       "      <td>Jil</td>\n",
       "    </tr>\n",
       "    <tr>\n",
       "      <th>z</th>\n",
       "      <td>NaN</td>\n",
       "      <td>NaN</td>\n",
       "      <td>Liz</td>\n",
       "    </tr>\n",
       "  </tbody>\n",
       "</table>\n",
       "</div>"
      ],
      "text/plain": [
       "   numbers  floats   names\n",
       "a     10.0    1.50  Sandra\n",
       "b     20.0    2.50   Lilli\n",
       "c     30.0    3.50   Henry\n",
       "d     40.0    4.50    Yves\n",
       "y    100.0    5.75     Jil\n",
       "z      NaN     NaN     Liz"
      ]
     },
     "execution_count": 14,
     "metadata": {},
     "output_type": "execute_result"
    }
   ],
   "source": [
    "df = df.append(pd.DataFrame({'names': 'Liz'}, index=['z',]), sort=False)\n",
    "df"
   ]
  },
  {
   "cell_type": "code",
   "execution_count": 15,
   "id": "ab743b24",
   "metadata": {
    "ExecuteTime": {
     "end_time": "2022-10-03T14:13:23.193044Z",
     "start_time": "2022-10-03T14:13:23.166051Z"
    }
   },
   "outputs": [
    {
     "data": {
      "text/plain": [
       "numbers    40.00\n",
       "floats      3.55\n",
       "dtype: float64"
      ]
     },
     "execution_count": 15,
     "metadata": {},
     "output_type": "execute_result"
    }
   ],
   "source": [
    "df[['numbers', 'floats']].mean()"
   ]
  },
  {
   "cell_type": "code",
   "execution_count": 16,
   "id": "78b369f3",
   "metadata": {
    "ExecuteTime": {
     "end_time": "2022-10-03T14:13:23.224215Z",
     "start_time": "2022-10-03T14:13:23.196043Z"
    }
   },
   "outputs": [
    {
     "data": {
      "text/plain": [
       "numbers    35.355339\n",
       "floats      1.662077\n",
       "dtype: float64"
      ]
     },
     "execution_count": 16,
     "metadata": {},
     "output_type": "execute_result"
    }
   ],
   "source": [
    "df[['numbers', 'floats']].std()"
   ]
  },
  {
   "cell_type": "markdown",
   "id": "980c23e9",
   "metadata": {
    "heading_collapsed": true
   },
   "source": [
    "## Second Steps with the DataFrame Class"
   ]
  },
  {
   "cell_type": "code",
   "execution_count": 17,
   "id": "c6b8741b",
   "metadata": {
    "ExecuteTime": {
     "end_time": "2022-10-03T14:13:23.239735Z",
     "start_time": "2022-10-03T14:13:23.224996Z"
    },
    "hidden": true
   },
   "outputs": [],
   "source": [
    "import numpy as np"
   ]
  },
  {
   "cell_type": "code",
   "execution_count": 18,
   "id": "41d1fcc8",
   "metadata": {
    "ExecuteTime": {
     "end_time": "2022-10-03T14:13:23.254872Z",
     "start_time": "2022-10-03T14:13:23.241871Z"
    },
    "hidden": true
   },
   "outputs": [],
   "source": [
    "np.random.seed(39)"
   ]
  },
  {
   "cell_type": "code",
   "execution_count": 19,
   "id": "5cc930ab",
   "metadata": {
    "ExecuteTime": {
     "end_time": "2022-10-03T14:13:23.270536Z",
     "start_time": "2022-10-03T14:13:23.257529Z"
    },
    "hidden": true
   },
   "outputs": [
    {
     "data": {
      "text/plain": [
       "array([[ 1.40483957,  0.22112104, -0.14532731,  0.12319917],\n",
       "       [ 0.60602697,  2.42277001, -1.91660854, -2.42252709],\n",
       "       [ 0.64629422,  0.20150064, -0.15671318,  0.77204576],\n",
       "       [-1.35760992,  0.70171738,  1.05332466,  0.26990692],\n",
       "       [-0.97085427,  1.04788179,  1.219181  , -0.05167998],\n",
       "       [-1.10827171,  0.3313013 , -1.36176349,  0.11377968],\n",
       "       [ 0.56001094,  1.9580268 ,  2.06352631,  0.5809962 ],\n",
       "       [ 1.00100683,  0.53777273, -0.92408315, -2.66153045],\n",
       "       [ 0.78678002,  0.49785334,  0.25952255, -0.89326811]])"
      ]
     },
     "execution_count": 19,
     "metadata": {},
     "output_type": "execute_result"
    }
   ],
   "source": [
    "a = np.random.standard_normal((9, 4))\n",
    "a"
   ]
  },
  {
   "cell_type": "code",
   "execution_count": 20,
   "id": "412cfc93",
   "metadata": {
    "ExecuteTime": {
     "end_time": "2022-10-03T14:13:23.302259Z",
     "start_time": "2022-10-03T14:13:23.274249Z"
    },
    "hidden": true
   },
   "outputs": [
    {
     "data": {
      "text/html": [
       "<div>\n",
       "<style scoped>\n",
       "    .dataframe tbody tr th:only-of-type {\n",
       "        vertical-align: middle;\n",
       "    }\n",
       "\n",
       "    .dataframe tbody tr th {\n",
       "        vertical-align: top;\n",
       "    }\n",
       "\n",
       "    .dataframe thead th {\n",
       "        text-align: right;\n",
       "    }\n",
       "</style>\n",
       "<table border=\"1\" class=\"dataframe\">\n",
       "  <thead>\n",
       "    <tr style=\"text-align: right;\">\n",
       "      <th></th>\n",
       "      <th>0</th>\n",
       "      <th>1</th>\n",
       "      <th>2</th>\n",
       "      <th>3</th>\n",
       "    </tr>\n",
       "  </thead>\n",
       "  <tbody>\n",
       "    <tr>\n",
       "      <th>0</th>\n",
       "      <td>1.404840</td>\n",
       "      <td>0.221121</td>\n",
       "      <td>-0.145327</td>\n",
       "      <td>0.123199</td>\n",
       "    </tr>\n",
       "    <tr>\n",
       "      <th>1</th>\n",
       "      <td>0.606027</td>\n",
       "      <td>2.422770</td>\n",
       "      <td>-1.916609</td>\n",
       "      <td>-2.422527</td>\n",
       "    </tr>\n",
       "    <tr>\n",
       "      <th>2</th>\n",
       "      <td>0.646294</td>\n",
       "      <td>0.201501</td>\n",
       "      <td>-0.156713</td>\n",
       "      <td>0.772046</td>\n",
       "    </tr>\n",
       "    <tr>\n",
       "      <th>3</th>\n",
       "      <td>-1.357610</td>\n",
       "      <td>0.701717</td>\n",
       "      <td>1.053325</td>\n",
       "      <td>0.269907</td>\n",
       "    </tr>\n",
       "    <tr>\n",
       "      <th>4</th>\n",
       "      <td>-0.970854</td>\n",
       "      <td>1.047882</td>\n",
       "      <td>1.219181</td>\n",
       "      <td>-0.051680</td>\n",
       "    </tr>\n",
       "    <tr>\n",
       "      <th>5</th>\n",
       "      <td>-1.108272</td>\n",
       "      <td>0.331301</td>\n",
       "      <td>-1.361763</td>\n",
       "      <td>0.113780</td>\n",
       "    </tr>\n",
       "    <tr>\n",
       "      <th>6</th>\n",
       "      <td>0.560011</td>\n",
       "      <td>1.958027</td>\n",
       "      <td>2.063526</td>\n",
       "      <td>0.580996</td>\n",
       "    </tr>\n",
       "    <tr>\n",
       "      <th>7</th>\n",
       "      <td>1.001007</td>\n",
       "      <td>0.537773</td>\n",
       "      <td>-0.924083</td>\n",
       "      <td>-2.661530</td>\n",
       "    </tr>\n",
       "    <tr>\n",
       "      <th>8</th>\n",
       "      <td>0.786780</td>\n",
       "      <td>0.497853</td>\n",
       "      <td>0.259523</td>\n",
       "      <td>-0.893268</td>\n",
       "    </tr>\n",
       "  </tbody>\n",
       "</table>\n",
       "</div>"
      ],
      "text/plain": [
       "          0         1         2         3\n",
       "0  1.404840  0.221121 -0.145327  0.123199\n",
       "1  0.606027  2.422770 -1.916609 -2.422527\n",
       "2  0.646294  0.201501 -0.156713  0.772046\n",
       "3 -1.357610  0.701717  1.053325  0.269907\n",
       "4 -0.970854  1.047882  1.219181 -0.051680\n",
       "5 -1.108272  0.331301 -1.361763  0.113780\n",
       "6  0.560011  1.958027  2.063526  0.580996\n",
       "7  1.001007  0.537773 -0.924083 -2.661530\n",
       "8  0.786780  0.497853  0.259523 -0.893268"
      ]
     },
     "execution_count": 20,
     "metadata": {},
     "output_type": "execute_result"
    }
   ],
   "source": [
    "df = pd.DataFrame(a)\n",
    "df"
   ]
  },
  {
   "cell_type": "code",
   "execution_count": 21,
   "id": "1fa24a44",
   "metadata": {
    "ExecuteTime": {
     "end_time": "2022-10-03T14:13:23.334250Z",
     "start_time": "2022-10-03T14:13:23.305249Z"
    },
    "hidden": true
   },
   "outputs": [
    {
     "data": {
      "text/html": [
       "<div>\n",
       "<style scoped>\n",
       "    .dataframe tbody tr th:only-of-type {\n",
       "        vertical-align: middle;\n",
       "    }\n",
       "\n",
       "    .dataframe tbody tr th {\n",
       "        vertical-align: top;\n",
       "    }\n",
       "\n",
       "    .dataframe thead th {\n",
       "        text-align: right;\n",
       "    }\n",
       "</style>\n",
       "<table border=\"1\" class=\"dataframe\">\n",
       "  <thead>\n",
       "    <tr style=\"text-align: right;\">\n",
       "      <th></th>\n",
       "      <th>No1</th>\n",
       "      <th>No2</th>\n",
       "      <th>No3</th>\n",
       "      <th>No4</th>\n",
       "    </tr>\n",
       "  </thead>\n",
       "  <tbody>\n",
       "    <tr>\n",
       "      <th>0</th>\n",
       "      <td>1.404840</td>\n",
       "      <td>0.221121</td>\n",
       "      <td>-0.145327</td>\n",
       "      <td>0.123199</td>\n",
       "    </tr>\n",
       "    <tr>\n",
       "      <th>1</th>\n",
       "      <td>0.606027</td>\n",
       "      <td>2.422770</td>\n",
       "      <td>-1.916609</td>\n",
       "      <td>-2.422527</td>\n",
       "    </tr>\n",
       "    <tr>\n",
       "      <th>2</th>\n",
       "      <td>0.646294</td>\n",
       "      <td>0.201501</td>\n",
       "      <td>-0.156713</td>\n",
       "      <td>0.772046</td>\n",
       "    </tr>\n",
       "    <tr>\n",
       "      <th>3</th>\n",
       "      <td>-1.357610</td>\n",
       "      <td>0.701717</td>\n",
       "      <td>1.053325</td>\n",
       "      <td>0.269907</td>\n",
       "    </tr>\n",
       "    <tr>\n",
       "      <th>4</th>\n",
       "      <td>-0.970854</td>\n",
       "      <td>1.047882</td>\n",
       "      <td>1.219181</td>\n",
       "      <td>-0.051680</td>\n",
       "    </tr>\n",
       "    <tr>\n",
       "      <th>5</th>\n",
       "      <td>-1.108272</td>\n",
       "      <td>0.331301</td>\n",
       "      <td>-1.361763</td>\n",
       "      <td>0.113780</td>\n",
       "    </tr>\n",
       "    <tr>\n",
       "      <th>6</th>\n",
       "      <td>0.560011</td>\n",
       "      <td>1.958027</td>\n",
       "      <td>2.063526</td>\n",
       "      <td>0.580996</td>\n",
       "    </tr>\n",
       "    <tr>\n",
       "      <th>7</th>\n",
       "      <td>1.001007</td>\n",
       "      <td>0.537773</td>\n",
       "      <td>-0.924083</td>\n",
       "      <td>-2.661530</td>\n",
       "    </tr>\n",
       "    <tr>\n",
       "      <th>8</th>\n",
       "      <td>0.786780</td>\n",
       "      <td>0.497853</td>\n",
       "      <td>0.259523</td>\n",
       "      <td>-0.893268</td>\n",
       "    </tr>\n",
       "  </tbody>\n",
       "</table>\n",
       "</div>"
      ],
      "text/plain": [
       "        No1       No2       No3       No4\n",
       "0  1.404840  0.221121 -0.145327  0.123199\n",
       "1  0.606027  2.422770 -1.916609 -2.422527\n",
       "2  0.646294  0.201501 -0.156713  0.772046\n",
       "3 -1.357610  0.701717  1.053325  0.269907\n",
       "4 -0.970854  1.047882  1.219181 -0.051680\n",
       "5 -1.108272  0.331301 -1.361763  0.113780\n",
       "6  0.560011  1.958027  2.063526  0.580996\n",
       "7  1.001007  0.537773 -0.924083 -2.661530\n",
       "8  0.786780  0.497853  0.259523 -0.893268"
      ]
     },
     "execution_count": 21,
     "metadata": {},
     "output_type": "execute_result"
    }
   ],
   "source": [
    "df.columns = ['No1', 'No2', 'No3', 'No4']\n",
    "df"
   ]
  },
  {
   "cell_type": "code",
   "execution_count": 22,
   "id": "b3634a33",
   "metadata": {
    "ExecuteTime": {
     "end_time": "2022-10-03T14:13:23.350252Z",
     "start_time": "2022-10-03T14:13:23.338248Z"
    },
    "hidden": true
   },
   "outputs": [
    {
     "data": {
      "text/plain": [
       "0.8799938917940309"
      ]
     },
     "execution_count": 22,
     "metadata": {},
     "output_type": "execute_result"
    }
   ],
   "source": [
    "df['No2'].mean()"
   ]
  },
  {
   "cell_type": "code",
   "execution_count": 23,
   "id": "b4e1c199",
   "metadata": {
    "ExecuteTime": {
     "end_time": "2022-10-03T14:13:23.382249Z",
     "start_time": "2022-10-03T14:13:23.353248Z"
    },
    "hidden": true
   },
   "outputs": [
    {
     "data": {
      "text/plain": [
       "DatetimeIndex(['2019-01-31', '2019-02-28', '2019-03-31', '2019-04-30',\n",
       "               '2019-05-31', '2019-06-30', '2019-07-31', '2019-08-31',\n",
       "               '2019-09-30'],\n",
       "              dtype='datetime64[ns]', freq='M')"
      ]
     },
     "execution_count": 23,
     "metadata": {},
     "output_type": "execute_result"
    }
   ],
   "source": [
    "dates = pd.date_range('2019-1-1', periods=9, freq='M')\n",
    "dates"
   ]
  },
  {
   "cell_type": "code",
   "execution_count": 24,
   "id": "1ef6481c",
   "metadata": {
    "ExecuteTime": {
     "end_time": "2022-10-03T14:13:23.414255Z",
     "start_time": "2022-10-03T14:13:23.384252Z"
    },
    "hidden": true
   },
   "outputs": [
    {
     "data": {
      "text/html": [
       "<div>\n",
       "<style scoped>\n",
       "    .dataframe tbody tr th:only-of-type {\n",
       "        vertical-align: middle;\n",
       "    }\n",
       "\n",
       "    .dataframe tbody tr th {\n",
       "        vertical-align: top;\n",
       "    }\n",
       "\n",
       "    .dataframe thead th {\n",
       "        text-align: right;\n",
       "    }\n",
       "</style>\n",
       "<table border=\"1\" class=\"dataframe\">\n",
       "  <thead>\n",
       "    <tr style=\"text-align: right;\">\n",
       "      <th></th>\n",
       "      <th>No1</th>\n",
       "      <th>No2</th>\n",
       "      <th>No3</th>\n",
       "      <th>No4</th>\n",
       "    </tr>\n",
       "  </thead>\n",
       "  <tbody>\n",
       "    <tr>\n",
       "      <th>2019-01-31</th>\n",
       "      <td>1.404840</td>\n",
       "      <td>0.221121</td>\n",
       "      <td>-0.145327</td>\n",
       "      <td>0.123199</td>\n",
       "    </tr>\n",
       "    <tr>\n",
       "      <th>2019-02-28</th>\n",
       "      <td>0.606027</td>\n",
       "      <td>2.422770</td>\n",
       "      <td>-1.916609</td>\n",
       "      <td>-2.422527</td>\n",
       "    </tr>\n",
       "    <tr>\n",
       "      <th>2019-03-31</th>\n",
       "      <td>0.646294</td>\n",
       "      <td>0.201501</td>\n",
       "      <td>-0.156713</td>\n",
       "      <td>0.772046</td>\n",
       "    </tr>\n",
       "    <tr>\n",
       "      <th>2019-04-30</th>\n",
       "      <td>-1.357610</td>\n",
       "      <td>0.701717</td>\n",
       "      <td>1.053325</td>\n",
       "      <td>0.269907</td>\n",
       "    </tr>\n",
       "    <tr>\n",
       "      <th>2019-05-31</th>\n",
       "      <td>-0.970854</td>\n",
       "      <td>1.047882</td>\n",
       "      <td>1.219181</td>\n",
       "      <td>-0.051680</td>\n",
       "    </tr>\n",
       "    <tr>\n",
       "      <th>2019-06-30</th>\n",
       "      <td>-1.108272</td>\n",
       "      <td>0.331301</td>\n",
       "      <td>-1.361763</td>\n",
       "      <td>0.113780</td>\n",
       "    </tr>\n",
       "    <tr>\n",
       "      <th>2019-07-31</th>\n",
       "      <td>0.560011</td>\n",
       "      <td>1.958027</td>\n",
       "      <td>2.063526</td>\n",
       "      <td>0.580996</td>\n",
       "    </tr>\n",
       "    <tr>\n",
       "      <th>2019-08-31</th>\n",
       "      <td>1.001007</td>\n",
       "      <td>0.537773</td>\n",
       "      <td>-0.924083</td>\n",
       "      <td>-2.661530</td>\n",
       "    </tr>\n",
       "    <tr>\n",
       "      <th>2019-09-30</th>\n",
       "      <td>0.786780</td>\n",
       "      <td>0.497853</td>\n",
       "      <td>0.259523</td>\n",
       "      <td>-0.893268</td>\n",
       "    </tr>\n",
       "  </tbody>\n",
       "</table>\n",
       "</div>"
      ],
      "text/plain": [
       "                 No1       No2       No3       No4\n",
       "2019-01-31  1.404840  0.221121 -0.145327  0.123199\n",
       "2019-02-28  0.606027  2.422770 -1.916609 -2.422527\n",
       "2019-03-31  0.646294  0.201501 -0.156713  0.772046\n",
       "2019-04-30 -1.357610  0.701717  1.053325  0.269907\n",
       "2019-05-31 -0.970854  1.047882  1.219181 -0.051680\n",
       "2019-06-30 -1.108272  0.331301 -1.361763  0.113780\n",
       "2019-07-31  0.560011  1.958027  2.063526  0.580996\n",
       "2019-08-31  1.001007  0.537773 -0.924083 -2.661530\n",
       "2019-09-30  0.786780  0.497853  0.259523 -0.893268"
      ]
     },
     "execution_count": 24,
     "metadata": {},
     "output_type": "execute_result"
    }
   ],
   "source": [
    "df.index = dates\n",
    "df"
   ]
  },
  {
   "cell_type": "code",
   "execution_count": 25,
   "id": "28463bc4",
   "metadata": {
    "ExecuteTime": {
     "end_time": "2022-10-03T14:13:23.430266Z",
     "start_time": "2022-10-03T14:13:23.417269Z"
    },
    "hidden": true
   },
   "outputs": [
    {
     "data": {
      "text/plain": [
       "array([[ 1.40483957,  0.22112104, -0.14532731,  0.12319917],\n",
       "       [ 0.60602697,  2.42277001, -1.91660854, -2.42252709],\n",
       "       [ 0.64629422,  0.20150064, -0.15671318,  0.77204576],\n",
       "       [-1.35760992,  0.70171738,  1.05332466,  0.26990692],\n",
       "       [-0.97085427,  1.04788179,  1.219181  , -0.05167998],\n",
       "       [-1.10827171,  0.3313013 , -1.36176349,  0.11377968],\n",
       "       [ 0.56001094,  1.9580268 ,  2.06352631,  0.5809962 ],\n",
       "       [ 1.00100683,  0.53777273, -0.92408315, -2.66153045],\n",
       "       [ 0.78678002,  0.49785334,  0.25952255, -0.89326811]])"
      ]
     },
     "execution_count": 25,
     "metadata": {},
     "output_type": "execute_result"
    }
   ],
   "source": [
    "df.values"
   ]
  },
  {
   "cell_type": "code",
   "execution_count": 26,
   "id": "c586c314",
   "metadata": {
    "ExecuteTime": {
     "end_time": "2022-10-03T14:13:23.446274Z",
     "start_time": "2022-10-03T14:13:23.432254Z"
    },
    "hidden": true
   },
   "outputs": [
    {
     "data": {
      "text/plain": [
       "array([[ 1.40483957,  0.22112104, -0.14532731,  0.12319917],\n",
       "       [ 0.60602697,  2.42277001, -1.91660854, -2.42252709],\n",
       "       [ 0.64629422,  0.20150064, -0.15671318,  0.77204576],\n",
       "       [-1.35760992,  0.70171738,  1.05332466,  0.26990692],\n",
       "       [-0.97085427,  1.04788179,  1.219181  , -0.05167998],\n",
       "       [-1.10827171,  0.3313013 , -1.36176349,  0.11377968],\n",
       "       [ 0.56001094,  1.9580268 ,  2.06352631,  0.5809962 ],\n",
       "       [ 1.00100683,  0.53777273, -0.92408315, -2.66153045],\n",
       "       [ 0.78678002,  0.49785334,  0.25952255, -0.89326811]])"
      ]
     },
     "execution_count": 26,
     "metadata": {},
     "output_type": "execute_result"
    }
   ],
   "source": [
    "np.array(df)"
   ]
  },
  {
   "cell_type": "markdown",
   "id": "3010745b",
   "metadata": {
    "ExecuteTime": {
     "end_time": "2022-09-28T14:14:19.926639Z",
     "start_time": "2022-09-28T14:14:19.908129Z"
    },
    "hidden": true
   },
   "source": [
    "**One can generate a DataFrame object from an ndarray object, but one can also easily generate an ndarray object out of a DataFrame by using the values attribute of the DataFrame class or the function np.array() of NumPy.**"
   ]
  },
  {
   "cell_type": "markdown",
   "id": "1c1bf361",
   "metadata": {},
   "source": [
    "# Basic Analytics"
   ]
  },
  {
   "cell_type": "code",
   "execution_count": 27,
   "id": "8d45ac40",
   "metadata": {
    "ExecuteTime": {
     "end_time": "2022-10-03T14:13:23.477528Z",
     "start_time": "2022-10-03T14:13:23.448248Z"
    }
   },
   "outputs": [
    {
     "name": "stdout",
     "output_type": "stream",
     "text": [
      "<class 'pandas.core.frame.DataFrame'>\n",
      "DatetimeIndex: 9 entries, 2019-01-31 to 2019-09-30\n",
      "Freq: M\n",
      "Data columns (total 4 columns):\n",
      " #   Column  Non-Null Count  Dtype  \n",
      "---  ------  --------------  -----  \n",
      " 0   No1     9 non-null      float64\n",
      " 1   No2     9 non-null      float64\n",
      " 2   No3     9 non-null      float64\n",
      " 3   No4     9 non-null      float64\n",
      "dtypes: float64(4)\n",
      "memory usage: 360.0 bytes\n"
     ]
    }
   ],
   "source": [
    "df.info()"
   ]
  },
  {
   "cell_type": "code",
   "execution_count": 28,
   "id": "e049c859",
   "metadata": {
    "ExecuteTime": {
     "end_time": "2022-10-03T14:13:23.525530Z",
     "start_time": "2022-10-03T14:13:23.486527Z"
    }
   },
   "outputs": [
    {
     "data": {
      "text/html": [
       "<div>\n",
       "<style scoped>\n",
       "    .dataframe tbody tr th:only-of-type {\n",
       "        vertical-align: middle;\n",
       "    }\n",
       "\n",
       "    .dataframe tbody tr th {\n",
       "        vertical-align: top;\n",
       "    }\n",
       "\n",
       "    .dataframe thead th {\n",
       "        text-align: right;\n",
       "    }\n",
       "</style>\n",
       "<table border=\"1\" class=\"dataframe\">\n",
       "  <thead>\n",
       "    <tr style=\"text-align: right;\">\n",
       "      <th></th>\n",
       "      <th>No1</th>\n",
       "      <th>No2</th>\n",
       "      <th>No3</th>\n",
       "      <th>No4</th>\n",
       "    </tr>\n",
       "  </thead>\n",
       "  <tbody>\n",
       "    <tr>\n",
       "      <th>count</th>\n",
       "      <td>9.000000</td>\n",
       "      <td>9.000000</td>\n",
       "      <td>9.000000</td>\n",
       "      <td>9.000000</td>\n",
       "    </tr>\n",
       "    <tr>\n",
       "      <th>mean</th>\n",
       "      <td>0.174247</td>\n",
       "      <td>0.879994</td>\n",
       "      <td>0.010118</td>\n",
       "      <td>-0.463231</td>\n",
       "    </tr>\n",
       "    <tr>\n",
       "      <th>std</th>\n",
       "      <td>1.026758</td>\n",
       "      <td>0.795374</td>\n",
       "      <td>1.291698</td>\n",
       "      <td>1.267691</td>\n",
       "    </tr>\n",
       "    <tr>\n",
       "      <th>min</th>\n",
       "      <td>-1.357610</td>\n",
       "      <td>0.201501</td>\n",
       "      <td>-1.916609</td>\n",
       "      <td>-2.661530</td>\n",
       "    </tr>\n",
       "    <tr>\n",
       "      <th>25%</th>\n",
       "      <td>-0.970854</td>\n",
       "      <td>0.331301</td>\n",
       "      <td>-0.924083</td>\n",
       "      <td>-0.893268</td>\n",
       "    </tr>\n",
       "    <tr>\n",
       "      <th>50%</th>\n",
       "      <td>0.606027</td>\n",
       "      <td>0.537773</td>\n",
       "      <td>-0.145327</td>\n",
       "      <td>0.113780</td>\n",
       "    </tr>\n",
       "    <tr>\n",
       "      <th>75%</th>\n",
       "      <td>0.786780</td>\n",
       "      <td>1.047882</td>\n",
       "      <td>1.053325</td>\n",
       "      <td>0.269907</td>\n",
       "    </tr>\n",
       "    <tr>\n",
       "      <th>max</th>\n",
       "      <td>1.404840</td>\n",
       "      <td>2.422770</td>\n",
       "      <td>2.063526</td>\n",
       "      <td>0.772046</td>\n",
       "    </tr>\n",
       "  </tbody>\n",
       "</table>\n",
       "</div>"
      ],
      "text/plain": [
       "            No1       No2       No3       No4\n",
       "count  9.000000  9.000000  9.000000  9.000000\n",
       "mean   0.174247  0.879994  0.010118 -0.463231\n",
       "std    1.026758  0.795374  1.291698  1.267691\n",
       "min   -1.357610  0.201501 -1.916609 -2.661530\n",
       "25%   -0.970854  0.331301 -0.924083 -0.893268\n",
       "50%    0.606027  0.537773 -0.145327  0.113780\n",
       "75%    0.786780  1.047882  1.053325  0.269907\n",
       "max    1.404840  2.422770  2.063526  0.772046"
      ]
     },
     "execution_count": 28,
     "metadata": {},
     "output_type": "execute_result"
    }
   ],
   "source": [
    "df.describe()"
   ]
  },
  {
   "cell_type": "code",
   "execution_count": 29,
   "id": "8e98d346",
   "metadata": {
    "ExecuteTime": {
     "end_time": "2022-10-03T14:13:23.541528Z",
     "start_time": "2022-10-03T14:13:23.530535Z"
    }
   },
   "outputs": [
    {
     "data": {
      "text/plain": [
       "No1    1.568223\n",
       "No2    7.919945\n",
       "No3    0.091059\n",
       "No4   -4.169078\n",
       "dtype: float64"
      ]
     },
     "execution_count": 29,
     "metadata": {},
     "output_type": "execute_result"
    }
   ],
   "source": [
    "df.sum()"
   ]
  },
  {
   "cell_type": "code",
   "execution_count": 30,
   "id": "9b5d2b29",
   "metadata": {
    "ExecuteTime": {
     "end_time": "2022-10-03T14:13:23.557524Z",
     "start_time": "2022-10-03T14:13:23.544530Z"
    }
   },
   "outputs": [
    {
     "data": {
      "text/plain": [
       "No1    0.174247\n",
       "No2    0.879994\n",
       "No3    0.010118\n",
       "No4   -0.463231\n",
       "dtype: float64"
      ]
     },
     "execution_count": 30,
     "metadata": {},
     "output_type": "execute_result"
    }
   ],
   "source": [
    "df.mean()"
   ]
  },
  {
   "cell_type": "code",
   "execution_count": 31,
   "id": "a18f2e67",
   "metadata": {
    "ExecuteTime": {
     "end_time": "2022-10-03T14:13:23.573526Z",
     "start_time": "2022-10-03T14:13:23.560527Z"
    }
   },
   "outputs": [
    {
     "data": {
      "text/plain": [
       "No1    0.174247\n",
       "No2    0.879994\n",
       "No3    0.010118\n",
       "No4   -0.463231\n",
       "dtype: float64"
      ]
     },
     "execution_count": 31,
     "metadata": {},
     "output_type": "execute_result"
    }
   ],
   "source": [
    "df.mean(axis=0)"
   ]
  },
  {
   "cell_type": "code",
   "execution_count": 32,
   "id": "f08d1696",
   "metadata": {
    "ExecuteTime": {
     "end_time": "2022-10-03T14:13:23.589530Z",
     "start_time": "2022-10-03T14:13:23.576529Z"
    }
   },
   "outputs": [
    {
     "data": {
      "text/plain": [
       "2019-01-31    0.400958\n",
       "2019-02-28   -0.327585\n",
       "2019-03-31    0.365782\n",
       "2019-04-30    0.166835\n",
       "2019-05-31    0.311132\n",
       "2019-06-30   -0.506239\n",
       "2019-07-31    1.290640\n",
       "2019-08-31   -0.511709\n",
       "2019-09-30    0.162722\n",
       "Freq: M, dtype: float64"
      ]
     },
     "execution_count": 32,
     "metadata": {},
     "output_type": "execute_result"
    }
   ],
   "source": [
    "df.mean(axis=1)"
   ]
  },
  {
   "cell_type": "code",
   "execution_count": 33,
   "id": "874621a8",
   "metadata": {
    "ExecuteTime": {
     "end_time": "2022-10-03T14:13:23.619527Z",
     "start_time": "2022-10-03T14:13:23.593551Z"
    }
   },
   "outputs": [
    {
     "data": {
      "text/html": [
       "<div>\n",
       "<style scoped>\n",
       "    .dataframe tbody tr th:only-of-type {\n",
       "        vertical-align: middle;\n",
       "    }\n",
       "\n",
       "    .dataframe tbody tr th {\n",
       "        vertical-align: top;\n",
       "    }\n",
       "\n",
       "    .dataframe thead th {\n",
       "        text-align: right;\n",
       "    }\n",
       "</style>\n",
       "<table border=\"1\" class=\"dataframe\">\n",
       "  <thead>\n",
       "    <tr style=\"text-align: right;\">\n",
       "      <th></th>\n",
       "      <th>No1</th>\n",
       "      <th>No2</th>\n",
       "      <th>No3</th>\n",
       "      <th>No4</th>\n",
       "    </tr>\n",
       "  </thead>\n",
       "  <tbody>\n",
       "    <tr>\n",
       "      <th>2019-01-31</th>\n",
       "      <td>1.404840</td>\n",
       "      <td>0.221121</td>\n",
       "      <td>-0.145327</td>\n",
       "      <td>0.123199</td>\n",
       "    </tr>\n",
       "    <tr>\n",
       "      <th>2019-02-28</th>\n",
       "      <td>2.010867</td>\n",
       "      <td>2.643891</td>\n",
       "      <td>-2.061936</td>\n",
       "      <td>-2.299328</td>\n",
       "    </tr>\n",
       "    <tr>\n",
       "      <th>2019-03-31</th>\n",
       "      <td>2.657161</td>\n",
       "      <td>2.845392</td>\n",
       "      <td>-2.218649</td>\n",
       "      <td>-1.527282</td>\n",
       "    </tr>\n",
       "    <tr>\n",
       "      <th>2019-04-30</th>\n",
       "      <td>1.299551</td>\n",
       "      <td>3.547109</td>\n",
       "      <td>-1.165324</td>\n",
       "      <td>-1.257375</td>\n",
       "    </tr>\n",
       "    <tr>\n",
       "      <th>2019-05-31</th>\n",
       "      <td>0.328697</td>\n",
       "      <td>4.594991</td>\n",
       "      <td>0.053857</td>\n",
       "      <td>-1.309055</td>\n",
       "    </tr>\n",
       "    <tr>\n",
       "      <th>2019-06-30</th>\n",
       "      <td>-0.779575</td>\n",
       "      <td>4.926292</td>\n",
       "      <td>-1.307907</td>\n",
       "      <td>-1.195276</td>\n",
       "    </tr>\n",
       "    <tr>\n",
       "      <th>2019-07-31</th>\n",
       "      <td>-0.219564</td>\n",
       "      <td>6.884319</td>\n",
       "      <td>0.755619</td>\n",
       "      <td>-0.614279</td>\n",
       "    </tr>\n",
       "    <tr>\n",
       "      <th>2019-08-31</th>\n",
       "      <td>0.781443</td>\n",
       "      <td>7.422092</td>\n",
       "      <td>-0.168464</td>\n",
       "      <td>-3.275810</td>\n",
       "    </tr>\n",
       "    <tr>\n",
       "      <th>2019-09-30</th>\n",
       "      <td>1.568223</td>\n",
       "      <td>7.919945</td>\n",
       "      <td>0.091059</td>\n",
       "      <td>-4.169078</td>\n",
       "    </tr>\n",
       "  </tbody>\n",
       "</table>\n",
       "</div>"
      ],
      "text/plain": [
       "                 No1       No2       No3       No4\n",
       "2019-01-31  1.404840  0.221121 -0.145327  0.123199\n",
       "2019-02-28  2.010867  2.643891 -2.061936 -2.299328\n",
       "2019-03-31  2.657161  2.845392 -2.218649 -1.527282\n",
       "2019-04-30  1.299551  3.547109 -1.165324 -1.257375\n",
       "2019-05-31  0.328697  4.594991  0.053857 -1.309055\n",
       "2019-06-30 -0.779575  4.926292 -1.307907 -1.195276\n",
       "2019-07-31 -0.219564  6.884319  0.755619 -0.614279\n",
       "2019-08-31  0.781443  7.422092 -0.168464 -3.275810\n",
       "2019-09-30  1.568223  7.919945  0.091059 -4.169078"
      ]
     },
     "execution_count": 33,
     "metadata": {},
     "output_type": "execute_result"
    }
   ],
   "source": [
    "df.cumsum()"
   ]
  },
  {
   "cell_type": "code",
   "execution_count": 34,
   "id": "bd9ec07f",
   "metadata": {
    "ExecuteTime": {
     "end_time": "2022-10-03T14:13:23.729557Z",
     "start_time": "2022-10-03T14:13:23.621527Z"
    }
   },
   "outputs": [
    {
     "data": {
      "text/plain": [
       "No1    0.174247\n",
       "No2    0.879994\n",
       "No3    0.010118\n",
       "No4   -0.463231\n",
       "dtype: float64"
      ]
     },
     "execution_count": 34,
     "metadata": {},
     "output_type": "execute_result"
    }
   ],
   "source": [
    "np.mean(df)"
   ]
  },
  {
   "cell_type": "code",
   "execution_count": 35,
   "id": "a126e849",
   "metadata": {
    "ExecuteTime": {
     "end_time": "2022-10-03T14:13:23.761689Z",
     "start_time": "2022-10-03T14:13:23.732555Z"
    }
   },
   "outputs": [
    {
     "data": {
      "text/html": [
       "<div>\n",
       "<style scoped>\n",
       "    .dataframe tbody tr th:only-of-type {\n",
       "        vertical-align: middle;\n",
       "    }\n",
       "\n",
       "    .dataframe tbody tr th {\n",
       "        vertical-align: top;\n",
       "    }\n",
       "\n",
       "    .dataframe thead th {\n",
       "        text-align: right;\n",
       "    }\n",
       "</style>\n",
       "<table border=\"1\" class=\"dataframe\">\n",
       "  <thead>\n",
       "    <tr style=\"text-align: right;\">\n",
       "      <th></th>\n",
       "      <th>No1</th>\n",
       "      <th>No2</th>\n",
       "      <th>No3</th>\n",
       "      <th>No4</th>\n",
       "    </tr>\n",
       "  </thead>\n",
       "  <tbody>\n",
       "    <tr>\n",
       "      <th>2019-01-31</th>\n",
       "      <td>0.339923</td>\n",
       "      <td>-1.509045</td>\n",
       "      <td>NaN</td>\n",
       "      <td>-2.093953</td>\n",
       "    </tr>\n",
       "    <tr>\n",
       "      <th>2019-02-28</th>\n",
       "      <td>-0.500831</td>\n",
       "      <td>0.884912</td>\n",
       "      <td>NaN</td>\n",
       "      <td>NaN</td>\n",
       "    </tr>\n",
       "    <tr>\n",
       "      <th>2019-03-31</th>\n",
       "      <td>-0.436500</td>\n",
       "      <td>-1.601963</td>\n",
       "      <td>NaN</td>\n",
       "      <td>-0.258711</td>\n",
       "    </tr>\n",
       "    <tr>\n",
       "      <th>2019-04-30</th>\n",
       "      <td>NaN</td>\n",
       "      <td>-0.354225</td>\n",
       "      <td>0.051952</td>\n",
       "      <td>-1.309678</td>\n",
       "    </tr>\n",
       "    <tr>\n",
       "      <th>2019-05-31</th>\n",
       "      <td>NaN</td>\n",
       "      <td>0.046771</td>\n",
       "      <td>0.198179</td>\n",
       "      <td>NaN</td>\n",
       "    </tr>\n",
       "    <tr>\n",
       "      <th>2019-06-30</th>\n",
       "      <td>NaN</td>\n",
       "      <td>-1.104727</td>\n",
       "      <td>NaN</td>\n",
       "      <td>-2.173491</td>\n",
       "    </tr>\n",
       "    <tr>\n",
       "      <th>2019-07-31</th>\n",
       "      <td>-0.579799</td>\n",
       "      <td>0.671937</td>\n",
       "      <td>0.724416</td>\n",
       "      <td>-0.543011</td>\n",
       "    </tr>\n",
       "    <tr>\n",
       "      <th>2019-08-31</th>\n",
       "      <td>0.001006</td>\n",
       "      <td>-0.620319</td>\n",
       "      <td>NaN</td>\n",
       "      <td>NaN</td>\n",
       "    </tr>\n",
       "    <tr>\n",
       "      <th>2019-09-30</th>\n",
       "      <td>-0.239807</td>\n",
       "      <td>-0.697450</td>\n",
       "      <td>-1.348912</td>\n",
       "      <td>NaN</td>\n",
       "    </tr>\n",
       "  </tbody>\n",
       "</table>\n",
       "</div>"
      ],
      "text/plain": [
       "                 No1       No2       No3       No4\n",
       "2019-01-31  0.339923 -1.509045       NaN -2.093953\n",
       "2019-02-28 -0.500831  0.884912       NaN       NaN\n",
       "2019-03-31 -0.436500 -1.601963       NaN -0.258711\n",
       "2019-04-30       NaN -0.354225  0.051952 -1.309678\n",
       "2019-05-31       NaN  0.046771  0.198179       NaN\n",
       "2019-06-30       NaN -1.104727       NaN -2.173491\n",
       "2019-07-31 -0.579799  0.671937  0.724416 -0.543011\n",
       "2019-08-31  0.001006 -0.620319       NaN       NaN\n",
       "2019-09-30 -0.239807 -0.697450 -1.348912       NaN"
      ]
     },
     "execution_count": 35,
     "metadata": {},
     "output_type": "execute_result"
    }
   ],
   "source": [
    "np.log(df)"
   ]
  },
  {
   "cell_type": "code",
   "execution_count": 36,
   "id": "66f664a1",
   "metadata": {
    "ExecuteTime": {
     "end_time": "2022-10-03T14:13:23.792885Z",
     "start_time": "2022-10-03T14:13:23.766633Z"
    }
   },
   "outputs": [
    {
     "data": {
      "text/html": [
       "<div>\n",
       "<style scoped>\n",
       "    .dataframe tbody tr th:only-of-type {\n",
       "        vertical-align: middle;\n",
       "    }\n",
       "\n",
       "    .dataframe tbody tr th {\n",
       "        vertical-align: top;\n",
       "    }\n",
       "\n",
       "    .dataframe thead th {\n",
       "        text-align: right;\n",
       "    }\n",
       "</style>\n",
       "<table border=\"1\" class=\"dataframe\">\n",
       "  <thead>\n",
       "    <tr style=\"text-align: right;\">\n",
       "      <th></th>\n",
       "      <th>No1</th>\n",
       "      <th>No2</th>\n",
       "      <th>No3</th>\n",
       "      <th>No4</th>\n",
       "    </tr>\n",
       "  </thead>\n",
       "  <tbody>\n",
       "    <tr>\n",
       "      <th>2019-01-31</th>\n",
       "      <td>1.185259</td>\n",
       "      <td>0.470235</td>\n",
       "      <td>0.381218</td>\n",
       "      <td>0.350997</td>\n",
       "    </tr>\n",
       "    <tr>\n",
       "      <th>2019-02-28</th>\n",
       "      <td>0.778477</td>\n",
       "      <td>1.556525</td>\n",
       "      <td>1.384416</td>\n",
       "      <td>1.556447</td>\n",
       "    </tr>\n",
       "    <tr>\n",
       "      <th>2019-03-31</th>\n",
       "      <td>0.803924</td>\n",
       "      <td>0.448888</td>\n",
       "      <td>0.395870</td>\n",
       "      <td>0.878661</td>\n",
       "    </tr>\n",
       "    <tr>\n",
       "      <th>2019-04-30</th>\n",
       "      <td>1.165165</td>\n",
       "      <td>0.837686</td>\n",
       "      <td>1.026316</td>\n",
       "      <td>0.519526</td>\n",
       "    </tr>\n",
       "    <tr>\n",
       "      <th>2019-05-31</th>\n",
       "      <td>0.985319</td>\n",
       "      <td>1.023661</td>\n",
       "      <td>1.104165</td>\n",
       "      <td>0.227332</td>\n",
       "    </tr>\n",
       "    <tr>\n",
       "      <th>2019-06-30</th>\n",
       "      <td>1.052745</td>\n",
       "      <td>0.575588</td>\n",
       "      <td>1.166946</td>\n",
       "      <td>0.337312</td>\n",
       "    </tr>\n",
       "    <tr>\n",
       "      <th>2019-07-31</th>\n",
       "      <td>0.748339</td>\n",
       "      <td>1.399295</td>\n",
       "      <td>1.436498</td>\n",
       "      <td>0.762231</td>\n",
       "    </tr>\n",
       "    <tr>\n",
       "      <th>2019-08-31</th>\n",
       "      <td>1.000503</td>\n",
       "      <td>0.733330</td>\n",
       "      <td>0.961292</td>\n",
       "      <td>1.631420</td>\n",
       "    </tr>\n",
       "    <tr>\n",
       "      <th>2019-09-30</th>\n",
       "      <td>0.887006</td>\n",
       "      <td>0.705587</td>\n",
       "      <td>0.509434</td>\n",
       "      <td>0.945129</td>\n",
       "    </tr>\n",
       "  </tbody>\n",
       "</table>\n",
       "</div>"
      ],
      "text/plain": [
       "                 No1       No2       No3       No4\n",
       "2019-01-31  1.185259  0.470235  0.381218  0.350997\n",
       "2019-02-28  0.778477  1.556525  1.384416  1.556447\n",
       "2019-03-31  0.803924  0.448888  0.395870  0.878661\n",
       "2019-04-30  1.165165  0.837686  1.026316  0.519526\n",
       "2019-05-31  0.985319  1.023661  1.104165  0.227332\n",
       "2019-06-30  1.052745  0.575588  1.166946  0.337312\n",
       "2019-07-31  0.748339  1.399295  1.436498  0.762231\n",
       "2019-08-31  1.000503  0.733330  0.961292  1.631420\n",
       "2019-09-30  0.887006  0.705587  0.509434  0.945129"
      ]
     },
     "execution_count": 36,
     "metadata": {},
     "output_type": "execute_result"
    }
   ],
   "source": [
    "np.sqrt(abs(df))"
   ]
  },
  {
   "cell_type": "code",
   "execution_count": 37,
   "id": "d8f41481",
   "metadata": {
    "ExecuteTime": {
     "end_time": "2022-10-03T14:13:23.807881Z",
     "start_time": "2022-10-03T14:13:23.797896Z"
    }
   },
   "outputs": [
    {
     "data": {
      "text/plain": [
       "No1    8.606739\n",
       "No2    7.750795\n",
       "No3    8.366156\n",
       "No4    7.209056\n",
       "dtype: float64"
      ]
     },
     "execution_count": 37,
     "metadata": {},
     "output_type": "execute_result"
    }
   ],
   "source": [
    "np.sqrt(abs(df)).sum()"
   ]
  },
  {
   "cell_type": "code",
   "execution_count": 38,
   "id": "ae5ca75d",
   "metadata": {
    "ExecuteTime": {
     "end_time": "2022-10-03T14:13:23.839370Z",
     "start_time": "2022-10-03T14:13:23.812881Z"
    }
   },
   "outputs": [
    {
     "data": {
      "text/html": [
       "<div>\n",
       "<style scoped>\n",
       "    .dataframe tbody tr th:only-of-type {\n",
       "        vertical-align: middle;\n",
       "    }\n",
       "\n",
       "    .dataframe tbody tr th {\n",
       "        vertical-align: top;\n",
       "    }\n",
       "\n",
       "    .dataframe thead th {\n",
       "        text-align: right;\n",
       "    }\n",
       "</style>\n",
       "<table border=\"1\" class=\"dataframe\">\n",
       "  <thead>\n",
       "    <tr style=\"text-align: right;\">\n",
       "      <th></th>\n",
       "      <th>No1</th>\n",
       "      <th>No2</th>\n",
       "      <th>No3</th>\n",
       "      <th>No4</th>\n",
       "    </tr>\n",
       "  </thead>\n",
       "  <tbody>\n",
       "    <tr>\n",
       "      <th>2019-01-31</th>\n",
       "      <td>240.483957</td>\n",
       "      <td>122.112104</td>\n",
       "      <td>85.467269</td>\n",
       "      <td>112.319917</td>\n",
       "    </tr>\n",
       "    <tr>\n",
       "      <th>2019-02-28</th>\n",
       "      <td>160.602697</td>\n",
       "      <td>342.277001</td>\n",
       "      <td>-91.660854</td>\n",
       "      <td>-142.252709</td>\n",
       "    </tr>\n",
       "    <tr>\n",
       "      <th>2019-03-31</th>\n",
       "      <td>164.629422</td>\n",
       "      <td>120.150064</td>\n",
       "      <td>84.328682</td>\n",
       "      <td>177.204576</td>\n",
       "    </tr>\n",
       "    <tr>\n",
       "      <th>2019-04-30</th>\n",
       "      <td>-35.760992</td>\n",
       "      <td>170.171738</td>\n",
       "      <td>205.332466</td>\n",
       "      <td>126.990692</td>\n",
       "    </tr>\n",
       "    <tr>\n",
       "      <th>2019-05-31</th>\n",
       "      <td>2.914573</td>\n",
       "      <td>204.788179</td>\n",
       "      <td>221.918100</td>\n",
       "      <td>94.832002</td>\n",
       "    </tr>\n",
       "    <tr>\n",
       "      <th>2019-06-30</th>\n",
       "      <td>-10.827171</td>\n",
       "      <td>133.130130</td>\n",
       "      <td>-36.176349</td>\n",
       "      <td>111.377968</td>\n",
       "    </tr>\n",
       "    <tr>\n",
       "      <th>2019-07-31</th>\n",
       "      <td>156.001094</td>\n",
       "      <td>295.802680</td>\n",
       "      <td>306.352631</td>\n",
       "      <td>158.099620</td>\n",
       "    </tr>\n",
       "    <tr>\n",
       "      <th>2019-08-31</th>\n",
       "      <td>200.100683</td>\n",
       "      <td>153.777273</td>\n",
       "      <td>7.591685</td>\n",
       "      <td>-166.153045</td>\n",
       "    </tr>\n",
       "    <tr>\n",
       "      <th>2019-09-30</th>\n",
       "      <td>178.678002</td>\n",
       "      <td>149.785334</td>\n",
       "      <td>125.952255</td>\n",
       "      <td>10.673189</td>\n",
       "    </tr>\n",
       "  </tbody>\n",
       "</table>\n",
       "</div>"
      ],
      "text/plain": [
       "                   No1         No2         No3         No4\n",
       "2019-01-31  240.483957  122.112104   85.467269  112.319917\n",
       "2019-02-28  160.602697  342.277001  -91.660854 -142.252709\n",
       "2019-03-31  164.629422  120.150064   84.328682  177.204576\n",
       "2019-04-30  -35.760992  170.171738  205.332466  126.990692\n",
       "2019-05-31    2.914573  204.788179  221.918100   94.832002\n",
       "2019-06-30  -10.827171  133.130130  -36.176349  111.377968\n",
       "2019-07-31  156.001094  295.802680  306.352631  158.099620\n",
       "2019-08-31  200.100683  153.777273    7.591685 -166.153045\n",
       "2019-09-30  178.678002  149.785334  125.952255   10.673189"
      ]
     },
     "execution_count": 38,
     "metadata": {},
     "output_type": "execute_result"
    }
   ],
   "source": [
    "100 * df + 100"
   ]
  },
  {
   "cell_type": "markdown",
   "id": "419fc207",
   "metadata": {},
   "source": [
    "# Basic Visualization"
   ]
  },
  {
   "cell_type": "code",
   "execution_count": 39,
   "id": "1b8070fc",
   "metadata": {
    "ExecuteTime": {
     "end_time": "2022-10-03T14:13:25.548778Z",
     "start_time": "2022-10-03T14:13:23.843906Z"
    }
   },
   "outputs": [],
   "source": [
    "from pylab import plt, mpl\n",
    "plt.style.use('seaborn')\n",
    "mpl.rcParams['font.family'] = 'serif'\n",
    "%matplotlib inline"
   ]
  },
  {
   "cell_type": "code",
   "execution_count": 40,
   "id": "3268df8d",
   "metadata": {
    "ExecuteTime": {
     "end_time": "2022-10-03T14:13:25.836100Z",
     "start_time": "2022-10-03T14:13:25.550809Z"
    }
   },
   "outputs": [
    {
     "data": {
      "image/png": "[encoded data removed]",
      "text/plain": [
       "<Figure size 720x432 with 1 Axes>"
      ]
     },
     "metadata": {
      "needs_background": "light"
     },
     "output_type": "display_data"
    }
   ],
   "source": [
    "df.cumsum().plot(lw=2.0, figsize=(10, 6))\n",
    "plt.show()"
   ]
  },
  {
   "cell_type": "code",
   "execution_count": 41,
   "id": "67d88c99",
   "metadata": {
    "ExecuteTime": {
     "end_time": "2022-10-03T14:13:26.153476Z",
     "start_time": "2022-10-03T14:13:25.838101Z"
    }
   },
   "outputs": [
    {
     "data": {
      "image/png": "[encoded data removed]",
      "text/plain": [
       "<Figure size 720x432 with 1 Axes>"
      ]
     },
     "metadata": {
      "needs_background": "light"
     },
     "output_type": "display_data"
    }
   ],
   "source": [
    "df.plot.bar(figsize=(10, 6), rot=15)\n",
    "plt.show()"
   ]
  },
  {
   "cell_type": "markdown",
   "id": "762140f1",
   "metadata": {},
   "source": [
    "# The Series Class"
   ]
  },
  {
   "cell_type": "code",
   "execution_count": 42,
   "id": "9b7988f2",
   "metadata": {
    "ExecuteTime": {
     "end_time": "2022-10-03T14:13:26.169500Z",
     "start_time": "2022-10-03T14:13:26.155478Z"
    }
   },
   "outputs": [
    {
     "data": {
      "text/plain": [
       "pandas.core.frame.DataFrame"
      ]
     },
     "execution_count": 42,
     "metadata": {},
     "output_type": "execute_result"
    }
   ],
   "source": [
    "type(df)"
   ]
  },
  {
   "cell_type": "code",
   "execution_count": 43,
   "id": "c303a40f",
   "metadata": {
    "ExecuteTime": {
     "end_time": "2022-10-03T14:13:26.185479Z",
     "start_time": "2022-10-03T14:13:26.173477Z"
    }
   },
   "outputs": [
    {
     "data": {
      "text/plain": [
       "0     0.0\n",
       "1     2.5\n",
       "2     5.0\n",
       "3     7.5\n",
       "4    10.0\n",
       "5    12.5\n",
       "6    15.0\n",
       "Name: Series, dtype: float64"
      ]
     },
     "execution_count": 43,
     "metadata": {},
     "output_type": "execute_result"
    }
   ],
   "source": [
    "S = pd.Series(np.linspace(0, 15, 7), name='Series')\n",
    "S"
   ]
  },
  {
   "cell_type": "code",
   "execution_count": 44,
   "id": "7749daf9",
   "metadata": {
    "ExecuteTime": {
     "end_time": "2022-10-03T14:13:26.230482Z",
     "start_time": "2022-10-03T14:13:26.188481Z"
    }
   },
   "outputs": [
    {
     "data": {
      "text/plain": [
       "pandas.core.series.Series"
      ]
     },
     "execution_count": 44,
     "metadata": {},
     "output_type": "execute_result"
    }
   ],
   "source": [
    "type(S)"
   ]
  },
  {
   "cell_type": "code",
   "execution_count": 45,
   "id": "1b53c92e",
   "metadata": {
    "ExecuteTime": {
     "end_time": "2022-10-03T14:13:26.264856Z",
     "start_time": "2022-10-03T14:13:26.238481Z"
    }
   },
   "outputs": [
    {
     "data": {
      "text/plain": [
       "2019-01-31    1.404840\n",
       "2019-02-28    0.606027\n",
       "2019-03-31    0.646294\n",
       "2019-04-30   -1.357610\n",
       "2019-05-31   -0.970854\n",
       "2019-06-30   -1.108272\n",
       "2019-07-31    0.560011\n",
       "2019-08-31    1.001007\n",
       "2019-09-30    0.786780\n",
       "Freq: M, Name: No1, dtype: float64"
      ]
     },
     "execution_count": 45,
     "metadata": {},
     "output_type": "execute_result"
    }
   ],
   "source": [
    "s = df['No1']\n",
    "s"
   ]
  },
  {
   "cell_type": "code",
   "execution_count": 46,
   "id": "21231ebc",
   "metadata": {
    "ExecuteTime": {
     "end_time": "2022-10-03T14:13:26.280869Z",
     "start_time": "2022-10-03T14:13:26.267861Z"
    }
   },
   "outputs": [
    {
     "data": {
      "text/plain": [
       "0.17424695973147733"
      ]
     },
     "execution_count": 46,
     "metadata": {},
     "output_type": "execute_result"
    }
   ],
   "source": [
    "s.mean()"
   ]
  },
  {
   "cell_type": "code",
   "execution_count": 47,
   "id": "22ff6c42",
   "metadata": {
    "ExecuteTime": {
     "end_time": "2022-10-03T14:13:26.548168Z",
     "start_time": "2022-10-03T14:13:26.283860Z"
    }
   },
   "outputs": [
    {
     "data": {
      "text/plain": [
       "<AxesSubplot:>"
      ]
     },
     "execution_count": 47,
     "metadata": {},
     "output_type": "execute_result"
    },
    {
     "data": {
      "image/png": "[encoded data removed]",
      "text/plain": [
       "<Figure size 720x432 with 1 Axes>"
      ]
     },
     "metadata": {
      "needs_background": "light"
     },
     "output_type": "display_data"
    }
   ],
   "source": [
    "s.plot(lw=2.0, figsize=(10, 6))"
   ]
  },
  {
   "cell_type": "markdown",
   "id": "ed88d0a7",
   "metadata": {},
   "source": [
    "# GroupBy Operations\n",
    "pandas has powerful and flexible grouping capabilities. They work similarly to grouping in SQL as well as pivot tables in Microsoft Excel."
   ]
  },
  {
   "cell_type": "code",
   "execution_count": 50,
   "id": "c7718d25",
   "metadata": {
    "ExecuteTime": {
     "end_time": "2022-10-03T14:17:12.037973Z",
     "start_time": "2022-10-03T14:17:12.014489Z"
    }
   },
   "outputs": [
    {
     "data": {
      "text/html": [
       "<div>\n",
       "<style scoped>\n",
       "    .dataframe tbody tr th:only-of-type {\n",
       "        vertical-align: middle;\n",
       "    }\n",
       "\n",
       "    .dataframe tbody tr th {\n",
       "        vertical-align: top;\n",
       "    }\n",
       "\n",
       "    .dataframe thead th {\n",
       "        text-align: right;\n",
       "    }\n",
       "</style>\n",
       "<table border=\"1\" class=\"dataframe\">\n",
       "  <thead>\n",
       "    <tr style=\"text-align: right;\">\n",
       "      <th></th>\n",
       "      <th>No1</th>\n",
       "      <th>No2</th>\n",
       "      <th>No3</th>\n",
       "      <th>No4</th>\n",
       "      <th>Quarter</th>\n",
       "    </tr>\n",
       "  </thead>\n",
       "  <tbody>\n",
       "    <tr>\n",
       "      <th>2019-01-31</th>\n",
       "      <td>1.404840</td>\n",
       "      <td>0.221121</td>\n",
       "      <td>-0.145327</td>\n",
       "      <td>0.123199</td>\n",
       "      <td>Q1</td>\n",
       "    </tr>\n",
       "    <tr>\n",
       "      <th>2019-02-28</th>\n",
       "      <td>0.606027</td>\n",
       "      <td>2.422770</td>\n",
       "      <td>-1.916609</td>\n",
       "      <td>-2.422527</td>\n",
       "      <td>Q1</td>\n",
       "    </tr>\n",
       "    <tr>\n",
       "      <th>2019-03-31</th>\n",
       "      <td>0.646294</td>\n",
       "      <td>0.201501</td>\n",
       "      <td>-0.156713</td>\n",
       "      <td>0.772046</td>\n",
       "      <td>Q1</td>\n",
       "    </tr>\n",
       "    <tr>\n",
       "      <th>2019-04-30</th>\n",
       "      <td>-1.357610</td>\n",
       "      <td>0.701717</td>\n",
       "      <td>1.053325</td>\n",
       "      <td>0.269907</td>\n",
       "      <td>Q2</td>\n",
       "    </tr>\n",
       "    <tr>\n",
       "      <th>2019-05-31</th>\n",
       "      <td>-0.970854</td>\n",
       "      <td>1.047882</td>\n",
       "      <td>1.219181</td>\n",
       "      <td>-0.051680</td>\n",
       "      <td>Q2</td>\n",
       "    </tr>\n",
       "    <tr>\n",
       "      <th>2019-06-30</th>\n",
       "      <td>-1.108272</td>\n",
       "      <td>0.331301</td>\n",
       "      <td>-1.361763</td>\n",
       "      <td>0.113780</td>\n",
       "      <td>Q2</td>\n",
       "    </tr>\n",
       "    <tr>\n",
       "      <th>2019-07-31</th>\n",
       "      <td>0.560011</td>\n",
       "      <td>1.958027</td>\n",
       "      <td>2.063526</td>\n",
       "      <td>0.580996</td>\n",
       "      <td>Q3</td>\n",
       "    </tr>\n",
       "    <tr>\n",
       "      <th>2019-08-31</th>\n",
       "      <td>1.001007</td>\n",
       "      <td>0.537773</td>\n",
       "      <td>-0.924083</td>\n",
       "      <td>-2.661530</td>\n",
       "      <td>Q3</td>\n",
       "    </tr>\n",
       "    <tr>\n",
       "      <th>2019-09-30</th>\n",
       "      <td>0.786780</td>\n",
       "      <td>0.497853</td>\n",
       "      <td>0.259523</td>\n",
       "      <td>-0.893268</td>\n",
       "      <td>Q3</td>\n",
       "    </tr>\n",
       "  </tbody>\n",
       "</table>\n",
       "</div>"
      ],
      "text/plain": [
       "                 No1       No2       No3       No4 Quarter\n",
       "2019-01-31  1.404840  0.221121 -0.145327  0.123199      Q1\n",
       "2019-02-28  0.606027  2.422770 -1.916609 -2.422527      Q1\n",
       "2019-03-31  0.646294  0.201501 -0.156713  0.772046      Q1\n",
       "2019-04-30 -1.357610  0.701717  1.053325  0.269907      Q2\n",
       "2019-05-31 -0.970854  1.047882  1.219181 -0.051680      Q2\n",
       "2019-06-30 -1.108272  0.331301 -1.361763  0.113780      Q2\n",
       "2019-07-31  0.560011  1.958027  2.063526  0.580996      Q3\n",
       "2019-08-31  1.001007  0.537773 -0.924083 -2.661530      Q3\n",
       "2019-09-30  0.786780  0.497853  0.259523 -0.893268      Q3"
      ]
     },
     "execution_count": 50,
     "metadata": {},
     "output_type": "execute_result"
    }
   ],
   "source": [
    "df['Quarter'] = ['Q1', 'Q1', 'Q1', 'Q2', 'Q2', 'Q2', 'Q3', 'Q3', 'Q3']\n",
    "df"
   ]
  },
  {
   "cell_type": "code",
   "execution_count": 52,
   "id": "246a1b8b",
   "metadata": {
    "ExecuteTime": {
     "end_time": "2022-10-03T14:21:13.192279Z",
     "start_time": "2022-10-03T14:21:13.171262Z"
    }
   },
   "outputs": [
    {
     "data": {
      "text/plain": [
       "Quarter\n",
       "Q1    3\n",
       "Q2    3\n",
       "Q3    3\n",
       "dtype: int64"
      ]
     },
     "execution_count": 52,
     "metadata": {},
     "output_type": "execute_result"
    }
   ],
   "source": [
    "groups = df.groupby('Quarter')\n",
    "groups.size()"
   ]
  },
  {
   "cell_type": "code",
   "execution_count": 53,
   "id": "718f28cb",
   "metadata": {
    "ExecuteTime": {
     "end_time": "2022-10-03T14:21:26.188256Z",
     "start_time": "2022-10-03T14:21:26.154773Z"
    }
   },
   "outputs": [
    {
     "data": {
      "text/html": [
       "<div>\n",
       "<style scoped>\n",
       "    .dataframe tbody tr th:only-of-type {\n",
       "        vertical-align: middle;\n",
       "    }\n",
       "\n",
       "    .dataframe tbody tr th {\n",
       "        vertical-align: top;\n",
       "    }\n",
       "\n",
       "    .dataframe thead th {\n",
       "        text-align: right;\n",
       "    }\n",
       "</style>\n",
       "<table border=\"1\" class=\"dataframe\">\n",
       "  <thead>\n",
       "    <tr style=\"text-align: right;\">\n",
       "      <th></th>\n",
       "      <th>No1</th>\n",
       "      <th>No2</th>\n",
       "      <th>No3</th>\n",
       "      <th>No4</th>\n",
       "    </tr>\n",
       "    <tr>\n",
       "      <th>Quarter</th>\n",
       "      <th></th>\n",
       "      <th></th>\n",
       "      <th></th>\n",
       "      <th></th>\n",
       "    </tr>\n",
       "  </thead>\n",
       "  <tbody>\n",
       "    <tr>\n",
       "      <th>Q1</th>\n",
       "      <td>0.885720</td>\n",
       "      <td>0.948464</td>\n",
       "      <td>-0.739550</td>\n",
       "      <td>-0.509094</td>\n",
       "    </tr>\n",
       "    <tr>\n",
       "      <th>Q2</th>\n",
       "      <td>-1.145579</td>\n",
       "      <td>0.693633</td>\n",
       "      <td>0.303581</td>\n",
       "      <td>0.110669</td>\n",
       "    </tr>\n",
       "    <tr>\n",
       "      <th>Q3</th>\n",
       "      <td>0.782599</td>\n",
       "      <td>0.997884</td>\n",
       "      <td>0.466322</td>\n",
       "      <td>-0.991267</td>\n",
       "    </tr>\n",
       "  </tbody>\n",
       "</table>\n",
       "</div>"
      ],
      "text/plain": [
       "              No1       No2       No3       No4\n",
       "Quarter                                        \n",
       "Q1       0.885720  0.948464 -0.739550 -0.509094\n",
       "Q2      -1.145579  0.693633  0.303581  0.110669\n",
       "Q3       0.782599  0.997884  0.466322 -0.991267"
      ]
     },
     "execution_count": 53,
     "metadata": {},
     "output_type": "execute_result"
    }
   ],
   "source": [
    "groups.mean()"
   ]
  },
  {
   "cell_type": "code",
   "execution_count": 54,
   "id": "06f0b0a1",
   "metadata": {
    "ExecuteTime": {
     "end_time": "2022-10-03T14:24:05.977465Z",
     "start_time": "2022-10-03T14:24:05.966431Z"
    }
   },
   "outputs": [
    {
     "data": {
      "text/html": [
       "<div>\n",
       "<style scoped>\n",
       "    .dataframe tbody tr th:only-of-type {\n",
       "        vertical-align: middle;\n",
       "    }\n",
       "\n",
       "    .dataframe tbody tr th {\n",
       "        vertical-align: top;\n",
       "    }\n",
       "\n",
       "    .dataframe thead th {\n",
       "        text-align: right;\n",
       "    }\n",
       "</style>\n",
       "<table border=\"1\" class=\"dataframe\">\n",
       "  <thead>\n",
       "    <tr style=\"text-align: right;\">\n",
       "      <th></th>\n",
       "      <th>No1</th>\n",
       "      <th>No2</th>\n",
       "      <th>No3</th>\n",
       "      <th>No4</th>\n",
       "    </tr>\n",
       "    <tr>\n",
       "      <th>Quarter</th>\n",
       "      <th></th>\n",
       "      <th></th>\n",
       "      <th></th>\n",
       "      <th></th>\n",
       "    </tr>\n",
       "  </thead>\n",
       "  <tbody>\n",
       "    <tr>\n",
       "      <th>Q1</th>\n",
       "      <td>1.404840</td>\n",
       "      <td>2.422770</td>\n",
       "      <td>-0.145327</td>\n",
       "      <td>0.772046</td>\n",
       "    </tr>\n",
       "    <tr>\n",
       "      <th>Q2</th>\n",
       "      <td>-0.970854</td>\n",
       "      <td>1.047882</td>\n",
       "      <td>1.219181</td>\n",
       "      <td>0.269907</td>\n",
       "    </tr>\n",
       "    <tr>\n",
       "      <th>Q3</th>\n",
       "      <td>1.001007</td>\n",
       "      <td>1.958027</td>\n",
       "      <td>2.063526</td>\n",
       "      <td>0.580996</td>\n",
       "    </tr>\n",
       "  </tbody>\n",
       "</table>\n",
       "</div>"
      ],
      "text/plain": [
       "              No1       No2       No3       No4\n",
       "Quarter                                        \n",
       "Q1       1.404840  2.422770 -0.145327  0.772046\n",
       "Q2      -0.970854  1.047882  1.219181  0.269907\n",
       "Q3       1.001007  1.958027  2.063526  0.580996"
      ]
     },
     "execution_count": 54,
     "metadata": {},
     "output_type": "execute_result"
    }
   ],
   "source": [
    "groups.max()"
   ]
  },
  {
   "cell_type": "code",
   "execution_count": 55,
   "id": "a2415d92",
   "metadata": {
    "ExecuteTime": {
     "end_time": "2022-10-03T14:24:29.295425Z",
     "start_time": "2022-10-03T14:24:29.214053Z"
    }
   },
   "outputs": [
    {
     "data": {
      "text/html": [
       "<div>\n",
       "<style scoped>\n",
       "    .dataframe tbody tr th:only-of-type {\n",
       "        vertical-align: middle;\n",
       "    }\n",
       "\n",
       "    .dataframe tbody tr th {\n",
       "        vertical-align: top;\n",
       "    }\n",
       "\n",
       "    .dataframe thead tr th {\n",
       "        text-align: left;\n",
       "    }\n",
       "\n",
       "    .dataframe thead tr:last-of-type th {\n",
       "        text-align: right;\n",
       "    }\n",
       "</style>\n",
       "<table border=\"1\" class=\"dataframe\">\n",
       "  <thead>\n",
       "    <tr>\n",
       "      <th></th>\n",
       "      <th colspan=\"2\" halign=\"left\">No1</th>\n",
       "      <th colspan=\"2\" halign=\"left\">No2</th>\n",
       "      <th colspan=\"2\" halign=\"left\">No3</th>\n",
       "      <th colspan=\"2\" halign=\"left\">No4</th>\n",
       "    </tr>\n",
       "    <tr>\n",
       "      <th></th>\n",
       "      <th>min</th>\n",
       "      <th>max</th>\n",
       "      <th>min</th>\n",
       "      <th>max</th>\n",
       "      <th>min</th>\n",
       "      <th>max</th>\n",
       "      <th>min</th>\n",
       "      <th>max</th>\n",
       "    </tr>\n",
       "    <tr>\n",
       "      <th>Quarter</th>\n",
       "      <th></th>\n",
       "      <th></th>\n",
       "      <th></th>\n",
       "      <th></th>\n",
       "      <th></th>\n",
       "      <th></th>\n",
       "      <th></th>\n",
       "      <th></th>\n",
       "    </tr>\n",
       "  </thead>\n",
       "  <tbody>\n",
       "    <tr>\n",
       "      <th>Q1</th>\n",
       "      <td>0.61</td>\n",
       "      <td>1.40</td>\n",
       "      <td>0.20</td>\n",
       "      <td>2.42</td>\n",
       "      <td>-1.92</td>\n",
       "      <td>-0.15</td>\n",
       "      <td>-2.42</td>\n",
       "      <td>0.77</td>\n",
       "    </tr>\n",
       "    <tr>\n",
       "      <th>Q2</th>\n",
       "      <td>-1.36</td>\n",
       "      <td>-0.97</td>\n",
       "      <td>0.33</td>\n",
       "      <td>1.05</td>\n",
       "      <td>-1.36</td>\n",
       "      <td>1.22</td>\n",
       "      <td>-0.05</td>\n",
       "      <td>0.27</td>\n",
       "    </tr>\n",
       "    <tr>\n",
       "      <th>Q3</th>\n",
       "      <td>0.56</td>\n",
       "      <td>1.00</td>\n",
       "      <td>0.50</td>\n",
       "      <td>1.96</td>\n",
       "      <td>-0.92</td>\n",
       "      <td>2.06</td>\n",
       "      <td>-2.66</td>\n",
       "      <td>0.58</td>\n",
       "    </tr>\n",
       "  </tbody>\n",
       "</table>\n",
       "</div>"
      ],
      "text/plain": [
       "          No1         No2         No3         No4      \n",
       "          min   max   min   max   min   max   min   max\n",
       "Quarter                                                \n",
       "Q1       0.61  1.40  0.20  2.42 -1.92 -0.15 -2.42  0.77\n",
       "Q2      -1.36 -0.97  0.33  1.05 -1.36  1.22 -0.05  0.27\n",
       "Q3       0.56  1.00  0.50  1.96 -0.92  2.06 -2.66  0.58"
      ]
     },
     "execution_count": 55,
     "metadata": {},
     "output_type": "execute_result"
    }
   ],
   "source": [
    "groups.aggregate([min, max]).round(2)"
   ]
  },
  {
   "cell_type": "markdown",
   "id": "1913c398",
   "metadata": {},
   "source": [
    "Grouping can also be done with multiple columns. "
   ]
  },
  {
   "cell_type": "code",
   "execution_count": 56,
   "id": "68a68586",
   "metadata": {
    "ExecuteTime": {
     "end_time": "2022-10-03T14:32:04.545894Z",
     "start_time": "2022-10-03T14:32:04.522054Z"
    }
   },
   "outputs": [],
   "source": [
    "df['Odd_Even'] = ['Odd', 'Even', 'Odd', 'Even', 'Odd', 'Even', 'Odd', 'Even', 'Odd']"
   ]
  },
  {
   "cell_type": "code",
   "execution_count": 57,
   "id": "bb861bfe",
   "metadata": {
    "ExecuteTime": {
     "end_time": "2022-10-03T14:32:32.379988Z",
     "start_time": "2022-10-03T14:32:32.363405Z"
    }
   },
   "outputs": [],
   "source": [
    "groups = df.groupby(['Quarter', 'Odd_Even'])"
   ]
  },
  {
   "cell_type": "code",
   "execution_count": 58,
   "id": "8dca5cd6",
   "metadata": {
    "ExecuteTime": {
     "end_time": "2022-10-03T14:32:44.729372Z",
     "start_time": "2022-10-03T14:32:44.712043Z"
    }
   },
   "outputs": [
    {
     "data": {
      "text/plain": [
       "Quarter  Odd_Even\n",
       "Q1       Even        1\n",
       "         Odd         2\n",
       "Q2       Even        2\n",
       "         Odd         1\n",
       "Q3       Even        1\n",
       "         Odd         2\n",
       "dtype: int64"
      ]
     },
     "execution_count": 58,
     "metadata": {},
     "output_type": "execute_result"
    }
   ],
   "source": [
    "groups.size()"
   ]
  },
  {
   "cell_type": "code",
   "execution_count": 59,
   "id": "5f5b2803",
   "metadata": {
    "ExecuteTime": {
     "end_time": "2022-10-03T14:36:16.936700Z",
     "start_time": "2022-10-03T14:36:16.910693Z"
    }
   },
   "outputs": [
    {
     "data": {
      "text/html": [
       "<div>\n",
       "<style scoped>\n",
       "    .dataframe tbody tr th:only-of-type {\n",
       "        vertical-align: middle;\n",
       "    }\n",
       "\n",
       "    .dataframe tbody tr th {\n",
       "        vertical-align: top;\n",
       "    }\n",
       "\n",
       "    .dataframe thead tr th {\n",
       "        text-align: left;\n",
       "    }\n",
       "\n",
       "    .dataframe thead tr:last-of-type th {\n",
       "        text-align: right;\n",
       "    }\n",
       "</style>\n",
       "<table border=\"1\" class=\"dataframe\">\n",
       "  <thead>\n",
       "    <tr>\n",
       "      <th></th>\n",
       "      <th></th>\n",
       "      <th colspan=\"2\" halign=\"left\">No1</th>\n",
       "      <th colspan=\"2\" halign=\"left\">No2</th>\n",
       "    </tr>\n",
       "    <tr>\n",
       "      <th></th>\n",
       "      <th></th>\n",
       "      <th>sum</th>\n",
       "      <th>mean</th>\n",
       "      <th>sum</th>\n",
       "      <th>mean</th>\n",
       "    </tr>\n",
       "    <tr>\n",
       "      <th>Quarter</th>\n",
       "      <th>Odd_Even</th>\n",
       "      <th></th>\n",
       "      <th></th>\n",
       "      <th></th>\n",
       "      <th></th>\n",
       "    </tr>\n",
       "  </thead>\n",
       "  <tbody>\n",
       "    <tr>\n",
       "      <th rowspan=\"2\" valign=\"top\">Q1</th>\n",
       "      <th>Even</th>\n",
       "      <td>0.606027</td>\n",
       "      <td>0.606027</td>\n",
       "      <td>2.422770</td>\n",
       "      <td>2.422770</td>\n",
       "    </tr>\n",
       "    <tr>\n",
       "      <th>Odd</th>\n",
       "      <td>2.051134</td>\n",
       "      <td>1.025567</td>\n",
       "      <td>0.422622</td>\n",
       "      <td>0.211311</td>\n",
       "    </tr>\n",
       "    <tr>\n",
       "      <th rowspan=\"2\" valign=\"top\">Q2</th>\n",
       "      <th>Even</th>\n",
       "      <td>-2.465882</td>\n",
       "      <td>-1.232941</td>\n",
       "      <td>1.033019</td>\n",
       "      <td>0.516509</td>\n",
       "    </tr>\n",
       "    <tr>\n",
       "      <th>Odd</th>\n",
       "      <td>-0.970854</td>\n",
       "      <td>-0.970854</td>\n",
       "      <td>1.047882</td>\n",
       "      <td>1.047882</td>\n",
       "    </tr>\n",
       "    <tr>\n",
       "      <th rowspan=\"2\" valign=\"top\">Q3</th>\n",
       "      <th>Even</th>\n",
       "      <td>1.001007</td>\n",
       "      <td>1.001007</td>\n",
       "      <td>0.537773</td>\n",
       "      <td>0.537773</td>\n",
       "    </tr>\n",
       "    <tr>\n",
       "      <th>Odd</th>\n",
       "      <td>1.346791</td>\n",
       "      <td>0.673395</td>\n",
       "      <td>2.455880</td>\n",
       "      <td>1.227940</td>\n",
       "    </tr>\n",
       "  </tbody>\n",
       "</table>\n",
       "</div>"
      ],
      "text/plain": [
       "                       No1                 No2          \n",
       "                       sum      mean       sum      mean\n",
       "Quarter Odd_Even                                        \n",
       "Q1      Even      0.606027  0.606027  2.422770  2.422770\n",
       "        Odd       2.051134  1.025567  0.422622  0.211311\n",
       "Q2      Even     -2.465882 -1.232941  1.033019  0.516509\n",
       "        Odd      -0.970854 -0.970854  1.047882  1.047882\n",
       "Q3      Even      1.001007  1.001007  0.537773  0.537773\n",
       "        Odd       1.346791  0.673395  2.455880  1.227940"
      ]
     },
     "execution_count": 59,
     "metadata": {},
     "output_type": "execute_result"
    }
   ],
   "source": [
    "groups[['No1', 'No2']].aggregate([sum, np.mean])"
   ]
  },
  {
   "cell_type": "markdown",
   "id": "f35279b2",
   "metadata": {},
   "source": [
    "# Complex Selection"
   ]
  },
  {
   "cell_type": "markdown",
   "id": "86eea3dc",
   "metadata": {},
   "source": [
    "Often, data selection is accomplished by formulation of conditions on column values,\n",
    "and potentially combining multiple such conditions logically. Consider the following\n",
    "data set:"
   ]
  },
  {
   "cell_type": "code",
   "execution_count": 60,
   "id": "233c916d",
   "metadata": {
    "ExecuteTime": {
     "end_time": "2022-10-03T14:45:48.654777Z",
     "start_time": "2022-10-03T14:45:48.639168Z"
    }
   },
   "outputs": [
    {
     "name": "stdout",
     "output_type": "stream",
     "text": [
      "<class 'pandas.core.frame.DataFrame'>\n",
      "RangeIndex: 10 entries, 0 to 9\n",
      "Data columns (total 2 columns):\n",
      " #   Column  Non-Null Count  Dtype  \n",
      "---  ------  --------------  -----  \n",
      " 0   x       10 non-null     float64\n",
      " 1   y       10 non-null     float64\n",
      "dtypes: float64(2)\n",
      "memory usage: 288.0 bytes\n"
     ]
    }
   ],
   "source": [
    "data = np.random.standard_normal((10, 2))\n",
    "df = pd.DataFrame(data, columns=['x', 'y'])\n",
    "df.info()"
   ]
  },
  {
   "cell_type": "code",
   "execution_count": 61,
   "id": "71e3ac40",
   "metadata": {
    "ExecuteTime": {
     "end_time": "2022-10-03T14:48:29.097765Z",
     "start_time": "2022-10-03T14:48:29.081695Z"
    }
   },
   "outputs": [
    {
     "data": {
      "text/html": [
       "<div>\n",
       "<style scoped>\n",
       "    .dataframe tbody tr th:only-of-type {\n",
       "        vertical-align: middle;\n",
       "    }\n",
       "\n",
       "    .dataframe tbody tr th {\n",
       "        vertical-align: top;\n",
       "    }\n",
       "\n",
       "    .dataframe thead th {\n",
       "        text-align: right;\n",
       "    }\n",
       "</style>\n",
       "<table border=\"1\" class=\"dataframe\">\n",
       "  <thead>\n",
       "    <tr style=\"text-align: right;\">\n",
       "      <th></th>\n",
       "      <th>x</th>\n",
       "      <th>y</th>\n",
       "    </tr>\n",
       "  </thead>\n",
       "  <tbody>\n",
       "    <tr>\n",
       "      <th>0</th>\n",
       "      <td>-0.975783</td>\n",
       "      <td>-1.037239</td>\n",
       "    </tr>\n",
       "    <tr>\n",
       "      <th>1</th>\n",
       "      <td>0.406783</td>\n",
       "      <td>-0.668680</td>\n",
       "    </tr>\n",
       "    <tr>\n",
       "      <th>2</th>\n",
       "      <td>0.602840</td>\n",
       "      <td>-0.614759</td>\n",
       "    </tr>\n",
       "    <tr>\n",
       "      <th>3</th>\n",
       "      <td>-0.888376</td>\n",
       "      <td>1.291246</td>\n",
       "    </tr>\n",
       "    <tr>\n",
       "      <th>4</th>\n",
       "      <td>-0.697765</td>\n",
       "      <td>-0.738543</td>\n",
       "    </tr>\n",
       "  </tbody>\n",
       "</table>\n",
       "</div>"
      ],
      "text/plain": [
       "          x         y\n",
       "0 -0.975783 -1.037239\n",
       "1  0.406783 -0.668680\n",
       "2  0.602840 -0.614759\n",
       "3 -0.888376  1.291246\n",
       "4 -0.697765 -0.738543"
      ]
     },
     "execution_count": 61,
     "metadata": {},
     "output_type": "execute_result"
    }
   ],
   "source": [
    "df.head()"
   ]
  },
  {
   "cell_type": "code",
   "execution_count": 62,
   "id": "5a5c6919",
   "metadata": {
    "ExecuteTime": {
     "end_time": "2022-10-03T14:48:38.060852Z",
     "start_time": "2022-10-03T14:48:38.037056Z"
    }
   },
   "outputs": [
    {
     "data": {
      "text/html": [
       "<div>\n",
       "<style scoped>\n",
       "    .dataframe tbody tr th:only-of-type {\n",
       "        vertical-align: middle;\n",
       "    }\n",
       "\n",
       "    .dataframe tbody tr th {\n",
       "        vertical-align: top;\n",
       "    }\n",
       "\n",
       "    .dataframe thead th {\n",
       "        text-align: right;\n",
       "    }\n",
       "</style>\n",
       "<table border=\"1\" class=\"dataframe\">\n",
       "  <thead>\n",
       "    <tr style=\"text-align: right;\">\n",
       "      <th></th>\n",
       "      <th>x</th>\n",
       "      <th>y</th>\n",
       "    </tr>\n",
       "  </thead>\n",
       "  <tbody>\n",
       "    <tr>\n",
       "      <th>5</th>\n",
       "      <td>0.950389</td>\n",
       "      <td>0.098875</td>\n",
       "    </tr>\n",
       "    <tr>\n",
       "      <th>6</th>\n",
       "      <td>-0.398749</td>\n",
       "      <td>0.740823</td>\n",
       "    </tr>\n",
       "    <tr>\n",
       "      <th>7</th>\n",
       "      <td>-1.160533</td>\n",
       "      <td>-1.047043</td>\n",
       "    </tr>\n",
       "    <tr>\n",
       "      <th>8</th>\n",
       "      <td>-1.753885</td>\n",
       "      <td>-0.972400</td>\n",
       "    </tr>\n",
       "    <tr>\n",
       "      <th>9</th>\n",
       "      <td>-0.083491</td>\n",
       "      <td>0.610729</td>\n",
       "    </tr>\n",
       "  </tbody>\n",
       "</table>\n",
       "</div>"
      ],
      "text/plain": [
       "          x         y\n",
       "5  0.950389  0.098875\n",
       "6 -0.398749  0.740823\n",
       "7 -1.160533 -1.047043\n",
       "8 -1.753885 -0.972400\n",
       "9 -0.083491  0.610729"
      ]
     },
     "execution_count": 62,
     "metadata": {},
     "output_type": "execute_result"
    }
   ],
   "source": [
    "df.tail()"
   ]
  },
  {
   "cell_type": "markdown",
   "id": "236478ac",
   "metadata": {},
   "source": [
    "The following code illustrates the application of Python’s comparison operators and logical operators on values in the two columns:"
   ]
  },
  {
   "cell_type": "code",
   "execution_count": 63,
   "id": "ddd36e80",
   "metadata": {
    "ExecuteTime": {
     "end_time": "2022-10-03T14:54:23.702065Z",
     "start_time": "2022-10-03T14:54:23.677326Z"
    }
   },
   "outputs": [
    {
     "data": {
      "text/plain": [
       "0    False\n",
       "1    False\n",
       "2     True\n",
       "3    False\n",
       "4    False\n",
       "5     True\n",
       "6    False\n",
       "7    False\n",
       "8    False\n",
       "9    False\n",
       "Name: x, dtype: bool"
      ]
     },
     "execution_count": 63,
     "metadata": {},
     "output_type": "execute_result"
    }
   ],
   "source": [
    "df['x'] > .5"
   ]
  },
  {
   "cell_type": "code",
   "execution_count": 64,
   "id": "5ac1fc29",
   "metadata": {
    "ExecuteTime": {
     "end_time": "2022-10-03T14:54:42.902130Z",
     "start_time": "2022-10-03T14:54:42.893632Z"
    }
   },
   "outputs": [
    {
     "data": {
      "text/plain": [
       "0    False\n",
       "1     True\n",
       "2     True\n",
       "3    False\n",
       "4    False\n",
       "5    False\n",
       "6    False\n",
       "7    False\n",
       "8    False\n",
       "9    False\n",
       "dtype: bool"
      ]
     },
     "execution_count": 64,
     "metadata": {},
     "output_type": "execute_result"
    }
   ],
   "source": [
    "(df['x'] > 0) & (df['y'] < 0)"
   ]
  },
  {
   "cell_type": "code",
   "execution_count": 65,
   "id": "368c6bfc",
   "metadata": {
    "ExecuteTime": {
     "end_time": "2022-10-03T14:59:06.298749Z",
     "start_time": "2022-10-03T14:59:06.279734Z"
    }
   },
   "outputs": [
    {
     "data": {
      "text/plain": [
       "0     True\n",
       "1     True\n",
       "2     True\n",
       "3    False\n",
       "4     True\n",
       "5     True\n",
       "6    False\n",
       "7     True\n",
       "8     True\n",
       "9    False\n",
       "dtype: bool"
      ]
     },
     "execution_count": 65,
     "metadata": {},
     "output_type": "execute_result"
    }
   ],
   "source": [
    "(df['x'] > 0) | (df['y'] < 0)"
   ]
  },
  {
   "cell_type": "markdown",
   "id": "afa3abc0",
   "metadata": {},
   "source": [
    "Using the resulting Boolean Series objects, complex data (row) selection is straightforward. Alternatively, one can use the query() method and pass the conditions as\n",
    "str objects:"
   ]
  },
  {
   "cell_type": "code",
   "execution_count": 66,
   "id": "66e6381d",
   "metadata": {
    "ExecuteTime": {
     "end_time": "2022-10-03T15:00:44.591004Z",
     "start_time": "2022-10-03T15:00:44.567001Z"
    }
   },
   "outputs": [
    {
     "data": {
      "text/html": [
       "<div>\n",
       "<style scoped>\n",
       "    .dataframe tbody tr th:only-of-type {\n",
       "        vertical-align: middle;\n",
       "    }\n",
       "\n",
       "    .dataframe tbody tr th {\n",
       "        vertical-align: top;\n",
       "    }\n",
       "\n",
       "    .dataframe thead th {\n",
       "        text-align: right;\n",
       "    }\n",
       "</style>\n",
       "<table border=\"1\" class=\"dataframe\">\n",
       "  <thead>\n",
       "    <tr style=\"text-align: right;\">\n",
       "      <th></th>\n",
       "      <th>x</th>\n",
       "      <th>y</th>\n",
       "    </tr>\n",
       "  </thead>\n",
       "  <tbody>\n",
       "    <tr>\n",
       "      <th>1</th>\n",
       "      <td>0.406783</td>\n",
       "      <td>-0.668680</td>\n",
       "    </tr>\n",
       "    <tr>\n",
       "      <th>2</th>\n",
       "      <td>0.602840</td>\n",
       "      <td>-0.614759</td>\n",
       "    </tr>\n",
       "    <tr>\n",
       "      <th>5</th>\n",
       "      <td>0.950389</td>\n",
       "      <td>0.098875</td>\n",
       "    </tr>\n",
       "  </tbody>\n",
       "</table>\n",
       "</div>"
      ],
      "text/plain": [
       "          x         y\n",
       "1  0.406783 -0.668680\n",
       "2  0.602840 -0.614759\n",
       "5  0.950389  0.098875"
      ]
     },
     "execution_count": 66,
     "metadata": {},
     "output_type": "execute_result"
    }
   ],
   "source": [
    "df[df['x'] > 0]"
   ]
  },
  {
   "cell_type": "code",
   "execution_count": 67,
   "id": "a669b551",
   "metadata": {
    "ExecuteTime": {
     "end_time": "2022-10-03T15:00:59.241019Z",
     "start_time": "2022-10-03T15:00:59.216239Z"
    }
   },
   "outputs": [
    {
     "data": {
      "text/html": [
       "<div>\n",
       "<style scoped>\n",
       "    .dataframe tbody tr th:only-of-type {\n",
       "        vertical-align: middle;\n",
       "    }\n",
       "\n",
       "    .dataframe tbody tr th {\n",
       "        vertical-align: top;\n",
       "    }\n",
       "\n",
       "    .dataframe thead th {\n",
       "        text-align: right;\n",
       "    }\n",
       "</style>\n",
       "<table border=\"1\" class=\"dataframe\">\n",
       "  <thead>\n",
       "    <tr style=\"text-align: right;\">\n",
       "      <th></th>\n",
       "      <th>x</th>\n",
       "      <th>y</th>\n",
       "    </tr>\n",
       "  </thead>\n",
       "  <tbody>\n",
       "    <tr>\n",
       "      <th>1</th>\n",
       "      <td>0.406783</td>\n",
       "      <td>-0.668680</td>\n",
       "    </tr>\n",
       "    <tr>\n",
       "      <th>2</th>\n",
       "      <td>0.602840</td>\n",
       "      <td>-0.614759</td>\n",
       "    </tr>\n",
       "    <tr>\n",
       "      <th>5</th>\n",
       "      <td>0.950389</td>\n",
       "      <td>0.098875</td>\n",
       "    </tr>\n",
       "  </tbody>\n",
       "</table>\n",
       "</div>"
      ],
      "text/plain": [
       "          x         y\n",
       "1  0.406783 -0.668680\n",
       "2  0.602840 -0.614759\n",
       "5  0.950389  0.098875"
      ]
     },
     "execution_count": 67,
     "metadata": {},
     "output_type": "execute_result"
    }
   ],
   "source": [
    "df.query('x > 0')"
   ]
  },
  {
   "cell_type": "code",
   "execution_count": 68,
   "id": "289825a3",
   "metadata": {
    "ExecuteTime": {
     "end_time": "2022-10-03T15:08:44.658413Z",
     "start_time": "2022-10-03T15:08:44.644380Z"
    }
   },
   "outputs": [
    {
     "data": {
      "text/html": [
       "<div>\n",
       "<style scoped>\n",
       "    .dataframe tbody tr th:only-of-type {\n",
       "        vertical-align: middle;\n",
       "    }\n",
       "\n",
       "    .dataframe tbody tr th {\n",
       "        vertical-align: top;\n",
       "    }\n",
       "\n",
       "    .dataframe thead th {\n",
       "        text-align: right;\n",
       "    }\n",
       "</style>\n",
       "<table border=\"1\" class=\"dataframe\">\n",
       "  <thead>\n",
       "    <tr style=\"text-align: right;\">\n",
       "      <th></th>\n",
       "      <th>x</th>\n",
       "      <th>y</th>\n",
       "    </tr>\n",
       "  </thead>\n",
       "  <tbody>\n",
       "    <tr>\n",
       "      <th>1</th>\n",
       "      <td>0.406783</td>\n",
       "      <td>-0.668680</td>\n",
       "    </tr>\n",
       "    <tr>\n",
       "      <th>2</th>\n",
       "      <td>0.602840</td>\n",
       "      <td>-0.614759</td>\n",
       "    </tr>\n",
       "  </tbody>\n",
       "</table>\n",
       "</div>"
      ],
      "text/plain": [
       "          x         y\n",
       "1  0.406783 -0.668680\n",
       "2  0.602840 -0.614759"
      ]
     },
     "execution_count": 68,
     "metadata": {},
     "output_type": "execute_result"
    }
   ],
   "source": [
    "df[(df['x'] > 0) & (df['y'] < 0)]"
   ]
  },
  {
   "cell_type": "code",
   "execution_count": 69,
   "id": "8b7ffb46",
   "metadata": {
    "ExecuteTime": {
     "end_time": "2022-10-03T15:09:09.248754Z",
     "start_time": "2022-10-03T15:09:09.224718Z"
    }
   },
   "outputs": [
    {
     "data": {
      "text/html": [
       "<div>\n",
       "<style scoped>\n",
       "    .dataframe tbody tr th:only-of-type {\n",
       "        vertical-align: middle;\n",
       "    }\n",
       "\n",
       "    .dataframe tbody tr th {\n",
       "        vertical-align: top;\n",
       "    }\n",
       "\n",
       "    .dataframe thead th {\n",
       "        text-align: right;\n",
       "    }\n",
       "</style>\n",
       "<table border=\"1\" class=\"dataframe\">\n",
       "  <thead>\n",
       "    <tr style=\"text-align: right;\">\n",
       "      <th></th>\n",
       "      <th>x</th>\n",
       "      <th>y</th>\n",
       "    </tr>\n",
       "  </thead>\n",
       "  <tbody>\n",
       "    <tr>\n",
       "      <th>1</th>\n",
       "      <td>0.406783</td>\n",
       "      <td>-0.668680</td>\n",
       "    </tr>\n",
       "    <tr>\n",
       "      <th>2</th>\n",
       "      <td>0.602840</td>\n",
       "      <td>-0.614759</td>\n",
       "    </tr>\n",
       "  </tbody>\n",
       "</table>\n",
       "</div>"
      ],
      "text/plain": [
       "          x         y\n",
       "1  0.406783 -0.668680\n",
       "2  0.602840 -0.614759"
      ]
     },
     "execution_count": 69,
     "metadata": {},
     "output_type": "execute_result"
    }
   ],
   "source": [
    "df.query('x > 0 & y < 0')"
   ]
  },
  {
   "cell_type": "code",
   "execution_count": 70,
   "id": "4f65b5f4",
   "metadata": {
    "ExecuteTime": {
     "end_time": "2022-10-03T15:14:02.198407Z",
     "start_time": "2022-10-03T15:14:02.181372Z"
    }
   },
   "outputs": [
    {
     "data": {
      "text/html": [
       "<div>\n",
       "<style scoped>\n",
       "    .dataframe tbody tr th:only-of-type {\n",
       "        vertical-align: middle;\n",
       "    }\n",
       "\n",
       "    .dataframe tbody tr th {\n",
       "        vertical-align: top;\n",
       "    }\n",
       "\n",
       "    .dataframe thead th {\n",
       "        text-align: right;\n",
       "    }\n",
       "</style>\n",
       "<table border=\"1\" class=\"dataframe\">\n",
       "  <thead>\n",
       "    <tr style=\"text-align: right;\">\n",
       "      <th></th>\n",
       "      <th>x</th>\n",
       "      <th>y</th>\n",
       "    </tr>\n",
       "  </thead>\n",
       "  <tbody>\n",
       "    <tr>\n",
       "      <th>0</th>\n",
       "      <td>-0.975783</td>\n",
       "      <td>-1.037239</td>\n",
       "    </tr>\n",
       "    <tr>\n",
       "      <th>1</th>\n",
       "      <td>0.406783</td>\n",
       "      <td>-0.668680</td>\n",
       "    </tr>\n",
       "    <tr>\n",
       "      <th>2</th>\n",
       "      <td>0.602840</td>\n",
       "      <td>-0.614759</td>\n",
       "    </tr>\n",
       "    <tr>\n",
       "      <th>4</th>\n",
       "      <td>-0.697765</td>\n",
       "      <td>-0.738543</td>\n",
       "    </tr>\n",
       "    <tr>\n",
       "      <th>5</th>\n",
       "      <td>0.950389</td>\n",
       "      <td>0.098875</td>\n",
       "    </tr>\n",
       "    <tr>\n",
       "      <th>7</th>\n",
       "      <td>-1.160533</td>\n",
       "      <td>-1.047043</td>\n",
       "    </tr>\n",
       "    <tr>\n",
       "      <th>8</th>\n",
       "      <td>-1.753885</td>\n",
       "      <td>-0.972400</td>\n",
       "    </tr>\n",
       "  </tbody>\n",
       "</table>\n",
       "</div>"
      ],
      "text/plain": [
       "          x         y\n",
       "0 -0.975783 -1.037239\n",
       "1  0.406783 -0.668680\n",
       "2  0.602840 -0.614759\n",
       "4 -0.697765 -0.738543\n",
       "5  0.950389  0.098875\n",
       "7 -1.160533 -1.047043\n",
       "8 -1.753885 -0.972400"
      ]
     },
     "execution_count": 70,
     "metadata": {},
     "output_type": "execute_result"
    }
   ],
   "source": [
    "df[(df['x'] > 0) | (df['y'] < 0)]"
   ]
  },
  {
   "cell_type": "code",
   "execution_count": 71,
   "id": "9f09b3d0",
   "metadata": {
    "ExecuteTime": {
     "end_time": "2022-10-03T15:14:16.466782Z",
     "start_time": "2022-10-03T15:14:16.451283Z"
    }
   },
   "outputs": [
    {
     "data": {
      "text/html": [
       "<div>\n",
       "<style scoped>\n",
       "    .dataframe tbody tr th:only-of-type {\n",
       "        vertical-align: middle;\n",
       "    }\n",
       "\n",
       "    .dataframe tbody tr th {\n",
       "        vertical-align: top;\n",
       "    }\n",
       "\n",
       "    .dataframe thead th {\n",
       "        text-align: right;\n",
       "    }\n",
       "</style>\n",
       "<table border=\"1\" class=\"dataframe\">\n",
       "  <thead>\n",
       "    <tr style=\"text-align: right;\">\n",
       "      <th></th>\n",
       "      <th>x</th>\n",
       "      <th>y</th>\n",
       "    </tr>\n",
       "  </thead>\n",
       "  <tbody>\n",
       "    <tr>\n",
       "      <th>0</th>\n",
       "      <td>-0.975783</td>\n",
       "      <td>-1.037239</td>\n",
       "    </tr>\n",
       "    <tr>\n",
       "      <th>1</th>\n",
       "      <td>0.406783</td>\n",
       "      <td>-0.668680</td>\n",
       "    </tr>\n",
       "    <tr>\n",
       "      <th>2</th>\n",
       "      <td>0.602840</td>\n",
       "      <td>-0.614759</td>\n",
       "    </tr>\n",
       "    <tr>\n",
       "      <th>4</th>\n",
       "      <td>-0.697765</td>\n",
       "      <td>-0.738543</td>\n",
       "    </tr>\n",
       "    <tr>\n",
       "      <th>5</th>\n",
       "      <td>0.950389</td>\n",
       "      <td>0.098875</td>\n",
       "    </tr>\n",
       "    <tr>\n",
       "      <th>7</th>\n",
       "      <td>-1.160533</td>\n",
       "      <td>-1.047043</td>\n",
       "    </tr>\n",
       "    <tr>\n",
       "      <th>8</th>\n",
       "      <td>-1.753885</td>\n",
       "      <td>-0.972400</td>\n",
       "    </tr>\n",
       "  </tbody>\n",
       "</table>\n",
       "</div>"
      ],
      "text/plain": [
       "          x         y\n",
       "0 -0.975783 -1.037239\n",
       "1  0.406783 -0.668680\n",
       "2  0.602840 -0.614759\n",
       "4 -0.697765 -0.738543\n",
       "5  0.950389  0.098875\n",
       "7 -1.160533 -1.047043\n",
       "8 -1.753885 -0.972400"
      ]
     },
     "execution_count": 71,
     "metadata": {},
     "output_type": "execute_result"
    }
   ],
   "source": [
    "df.query('x > 0 | y < 0')"
   ]
  },
  {
   "cell_type": "markdown",
   "id": "d765cb5f",
   "metadata": {},
   "source": [
    "Comparison operators can also be applied to complete DataFrame objects at once:"
   ]
  },
  {
   "cell_type": "code",
   "execution_count": 72,
   "id": "5694fa6e",
   "metadata": {
    "ExecuteTime": {
     "end_time": "2022-10-03T15:21:57.209003Z",
     "start_time": "2022-10-03T15:21:57.189030Z"
    }
   },
   "outputs": [
    {
     "data": {
      "text/html": [
       "<div>\n",
       "<style scoped>\n",
       "    .dataframe tbody tr th:only-of-type {\n",
       "        vertical-align: middle;\n",
       "    }\n",
       "\n",
       "    .dataframe tbody tr th {\n",
       "        vertical-align: top;\n",
       "    }\n",
       "\n",
       "    .dataframe thead th {\n",
       "        text-align: right;\n",
       "    }\n",
       "</style>\n",
       "<table border=\"1\" class=\"dataframe\">\n",
       "  <thead>\n",
       "    <tr style=\"text-align: right;\">\n",
       "      <th></th>\n",
       "      <th>x</th>\n",
       "      <th>y</th>\n",
       "    </tr>\n",
       "  </thead>\n",
       "  <tbody>\n",
       "    <tr>\n",
       "      <th>0</th>\n",
       "      <td>False</td>\n",
       "      <td>False</td>\n",
       "    </tr>\n",
       "    <tr>\n",
       "      <th>1</th>\n",
       "      <td>True</td>\n",
       "      <td>False</td>\n",
       "    </tr>\n",
       "    <tr>\n",
       "      <th>2</th>\n",
       "      <td>True</td>\n",
       "      <td>False</td>\n",
       "    </tr>\n",
       "    <tr>\n",
       "      <th>3</th>\n",
       "      <td>False</td>\n",
       "      <td>True</td>\n",
       "    </tr>\n",
       "    <tr>\n",
       "      <th>4</th>\n",
       "      <td>False</td>\n",
       "      <td>False</td>\n",
       "    </tr>\n",
       "    <tr>\n",
       "      <th>5</th>\n",
       "      <td>True</td>\n",
       "      <td>True</td>\n",
       "    </tr>\n",
       "    <tr>\n",
       "      <th>6</th>\n",
       "      <td>False</td>\n",
       "      <td>True</td>\n",
       "    </tr>\n",
       "    <tr>\n",
       "      <th>7</th>\n",
       "      <td>False</td>\n",
       "      <td>False</td>\n",
       "    </tr>\n",
       "    <tr>\n",
       "      <th>8</th>\n",
       "      <td>False</td>\n",
       "      <td>False</td>\n",
       "    </tr>\n",
       "    <tr>\n",
       "      <th>9</th>\n",
       "      <td>False</td>\n",
       "      <td>True</td>\n",
       "    </tr>\n",
       "  </tbody>\n",
       "</table>\n",
       "</div>"
      ],
      "text/plain": [
       "       x      y\n",
       "0  False  False\n",
       "1   True  False\n",
       "2   True  False\n",
       "3  False   True\n",
       "4  False  False\n",
       "5   True   True\n",
       "6  False   True\n",
       "7  False  False\n",
       "8  False  False\n",
       "9  False   True"
      ]
     },
     "execution_count": 72,
     "metadata": {},
     "output_type": "execute_result"
    }
   ],
   "source": [
    "df > 0"
   ]
  },
  {
   "cell_type": "code",
   "execution_count": 73,
   "id": "6d10d77f",
   "metadata": {
    "ExecuteTime": {
     "end_time": "2022-10-03T15:22:15.569136Z",
     "start_time": "2022-10-03T15:22:15.546274Z"
    }
   },
   "outputs": [
    {
     "data": {
      "text/html": [
       "<div>\n",
       "<style scoped>\n",
       "    .dataframe tbody tr th:only-of-type {\n",
       "        vertical-align: middle;\n",
       "    }\n",
       "\n",
       "    .dataframe tbody tr th {\n",
       "        vertical-align: top;\n",
       "    }\n",
       "\n",
       "    .dataframe thead th {\n",
       "        text-align: right;\n",
       "    }\n",
       "</style>\n",
       "<table border=\"1\" class=\"dataframe\">\n",
       "  <thead>\n",
       "    <tr style=\"text-align: right;\">\n",
       "      <th></th>\n",
       "      <th>x</th>\n",
       "      <th>y</th>\n",
       "    </tr>\n",
       "  </thead>\n",
       "  <tbody>\n",
       "    <tr>\n",
       "      <th>0</th>\n",
       "      <td>NaN</td>\n",
       "      <td>NaN</td>\n",
       "    </tr>\n",
       "    <tr>\n",
       "      <th>1</th>\n",
       "      <td>0.406783</td>\n",
       "      <td>NaN</td>\n",
       "    </tr>\n",
       "    <tr>\n",
       "      <th>2</th>\n",
       "      <td>0.602840</td>\n",
       "      <td>NaN</td>\n",
       "    </tr>\n",
       "    <tr>\n",
       "      <th>3</th>\n",
       "      <td>NaN</td>\n",
       "      <td>1.291246</td>\n",
       "    </tr>\n",
       "    <tr>\n",
       "      <th>4</th>\n",
       "      <td>NaN</td>\n",
       "      <td>NaN</td>\n",
       "    </tr>\n",
       "    <tr>\n",
       "      <th>5</th>\n",
       "      <td>0.950389</td>\n",
       "      <td>0.098875</td>\n",
       "    </tr>\n",
       "    <tr>\n",
       "      <th>6</th>\n",
       "      <td>NaN</td>\n",
       "      <td>0.740823</td>\n",
       "    </tr>\n",
       "    <tr>\n",
       "      <th>7</th>\n",
       "      <td>NaN</td>\n",
       "      <td>NaN</td>\n",
       "    </tr>\n",
       "    <tr>\n",
       "      <th>8</th>\n",
       "      <td>NaN</td>\n",
       "      <td>NaN</td>\n",
       "    </tr>\n",
       "    <tr>\n",
       "      <th>9</th>\n",
       "      <td>NaN</td>\n",
       "      <td>0.610729</td>\n",
       "    </tr>\n",
       "  </tbody>\n",
       "</table>\n",
       "</div>"
      ],
      "text/plain": [
       "          x         y\n",
       "0       NaN       NaN\n",
       "1  0.406783       NaN\n",
       "2  0.602840       NaN\n",
       "3       NaN  1.291246\n",
       "4       NaN       NaN\n",
       "5  0.950389  0.098875\n",
       "6       NaN  0.740823\n",
       "7       NaN       NaN\n",
       "8       NaN       NaN\n",
       "9       NaN  0.610729"
      ]
     },
     "execution_count": 73,
     "metadata": {},
     "output_type": "execute_result"
    }
   ],
   "source": [
    "# Select all such values and put a NaN in all other places.\n",
    "df[df > 0]"
   ]
  },
  {
   "cell_type": "markdown",
   "id": "904e01fa",
   "metadata": {},
   "source": [
    "# Concatenation, Joining, and Merging\n",
    "This section walks through different approaches to combine two simple data sets in\n",
    "the form of DataFrame objects."
   ]
  },
  {
   "cell_type": "code",
   "execution_count": 75,
   "id": "75e4c244",
   "metadata": {
    "ExecuteTime": {
     "end_time": "2022-10-03T15:29:52.316471Z",
     "start_time": "2022-10-03T15:29:52.296430Z"
    }
   },
   "outputs": [
    {
     "data": {
      "text/html": [
       "<div>\n",
       "<style scoped>\n",
       "    .dataframe tbody tr th:only-of-type {\n",
       "        vertical-align: middle;\n",
       "    }\n",
       "\n",
       "    .dataframe tbody tr th {\n",
       "        vertical-align: top;\n",
       "    }\n",
       "\n",
       "    .dataframe thead th {\n",
       "        text-align: right;\n",
       "    }\n",
       "</style>\n",
       "<table border=\"1\" class=\"dataframe\">\n",
       "  <thead>\n",
       "    <tr style=\"text-align: right;\">\n",
       "      <th></th>\n",
       "      <th>A</th>\n",
       "    </tr>\n",
       "  </thead>\n",
       "  <tbody>\n",
       "    <tr>\n",
       "      <th>a</th>\n",
       "      <td>100</td>\n",
       "    </tr>\n",
       "    <tr>\n",
       "      <th>b</th>\n",
       "      <td>200</td>\n",
       "    </tr>\n",
       "    <tr>\n",
       "      <th>c</th>\n",
       "      <td>300</td>\n",
       "    </tr>\n",
       "    <tr>\n",
       "      <th>d</th>\n",
       "      <td>400</td>\n",
       "    </tr>\n",
       "  </tbody>\n",
       "</table>\n",
       "</div>"
      ],
      "text/plain": [
       "     A\n",
       "a  100\n",
       "b  200\n",
       "c  300\n",
       "d  400"
      ]
     },
     "execution_count": 75,
     "metadata": {},
     "output_type": "execute_result"
    }
   ],
   "source": [
    "df1 = pd.DataFrame(['100', '200', '300', '400'], index=['a', 'b', 'c', 'd'], columns=['A'])\n",
    "df1"
   ]
  },
  {
   "cell_type": "code",
   "execution_count": 76,
   "id": "ec7420ad",
   "metadata": {
    "ExecuteTime": {
     "end_time": "2022-10-03T15:30:38.296918Z",
     "start_time": "2022-10-03T15:30:38.282044Z"
    }
   },
   "outputs": [
    {
     "data": {
      "text/html": [
       "<div>\n",
       "<style scoped>\n",
       "    .dataframe tbody tr th:only-of-type {\n",
       "        vertical-align: middle;\n",
       "    }\n",
       "\n",
       "    .dataframe tbody tr th {\n",
       "        vertical-align: top;\n",
       "    }\n",
       "\n",
       "    .dataframe thead th {\n",
       "        text-align: right;\n",
       "    }\n",
       "</style>\n",
       "<table border=\"1\" class=\"dataframe\">\n",
       "  <thead>\n",
       "    <tr style=\"text-align: right;\">\n",
       "      <th></th>\n",
       "      <th>B</th>\n",
       "    </tr>\n",
       "  </thead>\n",
       "  <tbody>\n",
       "    <tr>\n",
       "      <th>f</th>\n",
       "      <td>200</td>\n",
       "    </tr>\n",
       "    <tr>\n",
       "      <th>b</th>\n",
       "      <td>150</td>\n",
       "    </tr>\n",
       "    <tr>\n",
       "      <th>d</th>\n",
       "      <td>50</td>\n",
       "    </tr>\n",
       "  </tbody>\n",
       "</table>\n",
       "</div>"
      ],
      "text/plain": [
       "     B\n",
       "f  200\n",
       "b  150\n",
       "d   50"
      ]
     },
     "execution_count": 76,
     "metadata": {},
     "output_type": "execute_result"
    }
   ],
   "source": [
    "df2 = pd.DataFrame(['200', '150', '50'], index=['f', 'b', 'd'], columns=['B'])\n",
    "df2"
   ]
  },
  {
   "cell_type": "markdown",
   "id": "1c2c8e63",
   "metadata": {},
   "source": [
    "## Concatenation"
   ]
  },
  {
   "cell_type": "markdown",
   "id": "afc68298",
   "metadata": {},
   "source": [
    "Concatenation or appending basically means that rows are added from one DataFrame\n",
    "object to another one. This can be accomplished via the append() method or via the\n",
    "pd.concat() function. A major consideration is how the index values are handled:"
   ]
  },
  {
   "cell_type": "code",
   "execution_count": 77,
   "id": "8e68c06c",
   "metadata": {
    "ExecuteTime": {
     "end_time": "2022-10-03T15:37:37.773092Z",
     "start_time": "2022-10-03T15:37:37.674838Z"
    }
   },
   "outputs": [
    {
     "data": {
      "text/html": [
       "<div>\n",
       "<style scoped>\n",
       "    .dataframe tbody tr th:only-of-type {\n",
       "        vertical-align: middle;\n",
       "    }\n",
       "\n",
       "    .dataframe tbody tr th {\n",
       "        vertical-align: top;\n",
       "    }\n",
       "\n",
       "    .dataframe thead th {\n",
       "        text-align: right;\n",
       "    }\n",
       "</style>\n",
       "<table border=\"1\" class=\"dataframe\">\n",
       "  <thead>\n",
       "    <tr style=\"text-align: right;\">\n",
       "      <th></th>\n",
       "      <th>A</th>\n",
       "      <th>B</th>\n",
       "    </tr>\n",
       "  </thead>\n",
       "  <tbody>\n",
       "    <tr>\n",
       "      <th>a</th>\n",
       "      <td>100</td>\n",
       "      <td>NaN</td>\n",
       "    </tr>\n",
       "    <tr>\n",
       "      <th>b</th>\n",
       "      <td>200</td>\n",
       "      <td>NaN</td>\n",
       "    </tr>\n",
       "    <tr>\n",
       "      <th>c</th>\n",
       "      <td>300</td>\n",
       "      <td>NaN</td>\n",
       "    </tr>\n",
       "    <tr>\n",
       "      <th>d</th>\n",
       "      <td>400</td>\n",
       "      <td>NaN</td>\n",
       "    </tr>\n",
       "    <tr>\n",
       "      <th>f</th>\n",
       "      <td>NaN</td>\n",
       "      <td>200</td>\n",
       "    </tr>\n",
       "    <tr>\n",
       "      <th>b</th>\n",
       "      <td>NaN</td>\n",
       "      <td>150</td>\n",
       "    </tr>\n",
       "    <tr>\n",
       "      <th>d</th>\n",
       "      <td>NaN</td>\n",
       "      <td>50</td>\n",
       "    </tr>\n",
       "  </tbody>\n",
       "</table>\n",
       "</div>"
      ],
      "text/plain": [
       "     A    B\n",
       "a  100  NaN\n",
       "b  200  NaN\n",
       "c  300  NaN\n",
       "d  400  NaN\n",
       "f  NaN  200\n",
       "b  NaN  150\n",
       "d  NaN   50"
      ]
     },
     "execution_count": 77,
     "metadata": {},
     "output_type": "execute_result"
    }
   ],
   "source": [
    "df1.append(df2, sort=False)"
   ]
  },
  {
   "cell_type": "code",
   "execution_count": 78,
   "id": "f1fd45bb",
   "metadata": {
    "ExecuteTime": {
     "end_time": "2022-10-03T15:38:21.491508Z",
     "start_time": "2022-10-03T15:38:21.463868Z"
    }
   },
   "outputs": [
    {
     "data": {
      "text/html": [
       "<div>\n",
       "<style scoped>\n",
       "    .dataframe tbody tr th:only-of-type {\n",
       "        vertical-align: middle;\n",
       "    }\n",
       "\n",
       "    .dataframe tbody tr th {\n",
       "        vertical-align: top;\n",
       "    }\n",
       "\n",
       "    .dataframe thead th {\n",
       "        text-align: right;\n",
       "    }\n",
       "</style>\n",
       "<table border=\"1\" class=\"dataframe\">\n",
       "  <thead>\n",
       "    <tr style=\"text-align: right;\">\n",
       "      <th></th>\n",
       "      <th>A</th>\n",
       "      <th>B</th>\n",
       "    </tr>\n",
       "  </thead>\n",
       "  <tbody>\n",
       "    <tr>\n",
       "      <th>0</th>\n",
       "      <td>100</td>\n",
       "      <td>NaN</td>\n",
       "    </tr>\n",
       "    <tr>\n",
       "      <th>1</th>\n",
       "      <td>200</td>\n",
       "      <td>NaN</td>\n",
       "    </tr>\n",
       "    <tr>\n",
       "      <th>2</th>\n",
       "      <td>300</td>\n",
       "      <td>NaN</td>\n",
       "    </tr>\n",
       "    <tr>\n",
       "      <th>3</th>\n",
       "      <td>400</td>\n",
       "      <td>NaN</td>\n",
       "    </tr>\n",
       "    <tr>\n",
       "      <th>4</th>\n",
       "      <td>NaN</td>\n",
       "      <td>200</td>\n",
       "    </tr>\n",
       "    <tr>\n",
       "      <th>5</th>\n",
       "      <td>NaN</td>\n",
       "      <td>150</td>\n",
       "    </tr>\n",
       "    <tr>\n",
       "      <th>6</th>\n",
       "      <td>NaN</td>\n",
       "      <td>50</td>\n",
       "    </tr>\n",
       "  </tbody>\n",
       "</table>\n",
       "</div>"
      ],
      "text/plain": [
       "     A    B\n",
       "0  100  NaN\n",
       "1  200  NaN\n",
       "2  300  NaN\n",
       "3  400  NaN\n",
       "4  NaN  200\n",
       "5  NaN  150\n",
       "6  NaN   50"
      ]
     },
     "execution_count": 78,
     "metadata": {},
     "output_type": "execute_result"
    }
   ],
   "source": [
    "df1.append(df2, ignore_index=True, sort=False)"
   ]
  },
  {
   "cell_type": "code",
   "execution_count": 79,
   "id": "a5a36e30",
   "metadata": {
    "ExecuteTime": {
     "end_time": "2022-10-03T15:38:46.943451Z",
     "start_time": "2022-10-03T15:38:46.931454Z"
    }
   },
   "outputs": [
    {
     "data": {
      "text/html": [
       "<div>\n",
       "<style scoped>\n",
       "    .dataframe tbody tr th:only-of-type {\n",
       "        vertical-align: middle;\n",
       "    }\n",
       "\n",
       "    .dataframe tbody tr th {\n",
       "        vertical-align: top;\n",
       "    }\n",
       "\n",
       "    .dataframe thead th {\n",
       "        text-align: right;\n",
       "    }\n",
       "</style>\n",
       "<table border=\"1\" class=\"dataframe\">\n",
       "  <thead>\n",
       "    <tr style=\"text-align: right;\">\n",
       "      <th></th>\n",
       "      <th>A</th>\n",
       "      <th>B</th>\n",
       "    </tr>\n",
       "  </thead>\n",
       "  <tbody>\n",
       "    <tr>\n",
       "      <th>a</th>\n",
       "      <td>100</td>\n",
       "      <td>NaN</td>\n",
       "    </tr>\n",
       "    <tr>\n",
       "      <th>b</th>\n",
       "      <td>200</td>\n",
       "      <td>NaN</td>\n",
       "    </tr>\n",
       "    <tr>\n",
       "      <th>c</th>\n",
       "      <td>300</td>\n",
       "      <td>NaN</td>\n",
       "    </tr>\n",
       "    <tr>\n",
       "      <th>d</th>\n",
       "      <td>400</td>\n",
       "      <td>NaN</td>\n",
       "    </tr>\n",
       "    <tr>\n",
       "      <th>f</th>\n",
       "      <td>NaN</td>\n",
       "      <td>200</td>\n",
       "    </tr>\n",
       "    <tr>\n",
       "      <th>b</th>\n",
       "      <td>NaN</td>\n",
       "      <td>150</td>\n",
       "    </tr>\n",
       "    <tr>\n",
       "      <th>d</th>\n",
       "      <td>NaN</td>\n",
       "      <td>50</td>\n",
       "    </tr>\n",
       "  </tbody>\n",
       "</table>\n",
       "</div>"
      ],
      "text/plain": [
       "     A    B\n",
       "a  100  NaN\n",
       "b  200  NaN\n",
       "c  300  NaN\n",
       "d  400  NaN\n",
       "f  NaN  200\n",
       "b  NaN  150\n",
       "d  NaN   50"
      ]
     },
     "execution_count": 79,
     "metadata": {},
     "output_type": "execute_result"
    }
   ],
   "source": [
    "pd.concat((df1, df2), sort=False)"
   ]
  },
  {
   "cell_type": "code",
   "execution_count": 80,
   "id": "bfba8789",
   "metadata": {
    "ExecuteTime": {
     "end_time": "2022-10-03T15:41:59.639593Z",
     "start_time": "2022-10-03T15:41:59.619341Z"
    }
   },
   "outputs": [
    {
     "data": {
      "text/html": [
       "<div>\n",
       "<style scoped>\n",
       "    .dataframe tbody tr th:only-of-type {\n",
       "        vertical-align: middle;\n",
       "    }\n",
       "\n",
       "    .dataframe tbody tr th {\n",
       "        vertical-align: top;\n",
       "    }\n",
       "\n",
       "    .dataframe thead th {\n",
       "        text-align: right;\n",
       "    }\n",
       "</style>\n",
       "<table border=\"1\" class=\"dataframe\">\n",
       "  <thead>\n",
       "    <tr style=\"text-align: right;\">\n",
       "      <th></th>\n",
       "      <th>A</th>\n",
       "      <th>B</th>\n",
       "    </tr>\n",
       "  </thead>\n",
       "  <tbody>\n",
       "    <tr>\n",
       "      <th>0</th>\n",
       "      <td>100</td>\n",
       "      <td>NaN</td>\n",
       "    </tr>\n",
       "    <tr>\n",
       "      <th>1</th>\n",
       "      <td>200</td>\n",
       "      <td>NaN</td>\n",
       "    </tr>\n",
       "    <tr>\n",
       "      <th>2</th>\n",
       "      <td>300</td>\n",
       "      <td>NaN</td>\n",
       "    </tr>\n",
       "    <tr>\n",
       "      <th>3</th>\n",
       "      <td>400</td>\n",
       "      <td>NaN</td>\n",
       "    </tr>\n",
       "    <tr>\n",
       "      <th>4</th>\n",
       "      <td>NaN</td>\n",
       "      <td>200</td>\n",
       "    </tr>\n",
       "    <tr>\n",
       "      <th>5</th>\n",
       "      <td>NaN</td>\n",
       "      <td>150</td>\n",
       "    </tr>\n",
       "    <tr>\n",
       "      <th>6</th>\n",
       "      <td>NaN</td>\n",
       "      <td>50</td>\n",
       "    </tr>\n",
       "  </tbody>\n",
       "</table>\n",
       "</div>"
      ],
      "text/plain": [
       "     A    B\n",
       "0  100  NaN\n",
       "1  200  NaN\n",
       "2  300  NaN\n",
       "3  400  NaN\n",
       "4  NaN  200\n",
       "5  NaN  150\n",
       "6  NaN   50"
      ]
     },
     "execution_count": 80,
     "metadata": {},
     "output_type": "execute_result"
    }
   ],
   "source": [
    "pd.concat((df1, df2), ignore_index=True, sort=False)"
   ]
  },
  {
   "cell_type": "code",
   "execution_count": null,
   "id": "9c0934e3",
   "metadata": {},
   "outputs": [],
   "source": []
  },
  {
   "cell_type": "code",
   "execution_count": null,
   "id": "57a28113",
   "metadata": {},
   "outputs": [],
   "source": []
  },
  {
   "cell_type": "code",
   "execution_count": null,
   "id": "9d75447c",
   "metadata": {},
   "outputs": [],
   "source": []
  },
  {
   "cell_type": "code",
   "execution_count": null,
   "id": "22ac6e36",
   "metadata": {},
   "outputs": [],
   "source": []
  },
  {
   "cell_type": "code",
   "execution_count": null,
   "id": "a4c1c78d",
   "metadata": {},
   "outputs": [],
   "source": []
  },
  {
   "cell_type": "code",
   "execution_count": null,
   "id": "7b75b357",
   "metadata": {},
   "outputs": [],
   "source": []
  },
  {
   "cell_type": "code",
   "execution_count": null,
   "id": "29f851e3",
   "metadata": {},
   "outputs": [],
   "source": []
  },
  {
   "cell_type": "code",
   "execution_count": null,
   "id": "abea46b5",
   "metadata": {},
   "outputs": [],
   "source": []
  },
  {
   "cell_type": "code",
   "execution_count": null,
   "id": "b3d29ac9",
   "metadata": {},
   "outputs": [],
   "source": []
  },
  {
   "cell_type": "code",
   "execution_count": null,
   "id": "b4d20376",
   "metadata": {},
   "outputs": [],
   "source": []
  },
  {
   "cell_type": "code",
   "execution_count": null,
   "id": "bf2491ec",
   "metadata": {},
   "outputs": [],
   "source": []
  },
  {
   "cell_type": "code",
   "execution_count": null,
   "id": "f6d9ac6b",
   "metadata": {},
   "outputs": [],
   "source": []
  },
  {
   "cell_type": "code",
   "execution_count": null,
   "id": "208b16b1",
   "metadata": {},
   "outputs": [],
   "source": []
  },
  {
   "cell_type": "code",
   "execution_count": null,
   "id": "57044694",
   "metadata": {},
   "outputs": [],
   "source": []
  },
  {
   "cell_type": "code",
   "execution_count": null,
   "id": "55181a52",
   "metadata": {},
   "outputs": [],
   "source": []
  },
  {
   "cell_type": "code",
   "execution_count": null,
   "id": "b00e71bb",
   "metadata": {},
   "outputs": [],
   "source": []
  },
  {
   "cell_type": "code",
   "execution_count": null,
   "id": "7af68c7f",
   "metadata": {},
   "outputs": [],
   "source": []
  },
  {
   "cell_type": "code",
   "execution_count": null,
   "id": "a6e661c2",
   "metadata": {},
   "outputs": [],
   "source": []
  },
  {
   "cell_type": "code",
   "execution_count": null,
   "id": "43c92a98",
   "metadata": {},
   "outputs": [],
   "source": []
  },
  {
   "cell_type": "code",
   "execution_count": null,
   "id": "efd8d067",
   "metadata": {},
   "outputs": [],
   "source": []
  }
 ],
 "metadata": {
  "kernelspec": {
   "display_name": "Python 3 (ipykernel)",
   "language": "python",
   "name": "python3"
  },
  "language_info": {
   "codemirror_mode": {
    "name": "ipython",
    "version": 3
   },
   "file_extension": ".py",
   "mimetype": "text/x-python",
   "name": "python",
   "nbconvert_exporter": "python",
   "pygments_lexer": "ipython3",
   "version": "3.9.12"
  },
  "latex_envs": {
   "LaTeX_envs_menu_present": true,
   "autoclose": false,
   "autocomplete": true,
   "bibliofile": "biblio.bib",
   "cite_by": "apalike",
   "current_citInitial": 1,
   "eqLabelWithNumbers": true,
   "eqNumInitial": 1,
   "hotkeys": {
    "equation": "Ctrl-E",
    "itemize": "Ctrl-I"
   },
   "labels_anchors": false,
   "latex_user_defs": false,
   "report_style_numbering": false,
   "user_envs_cfg": false
  },
  "toc": {
   "base_numbering": 1,
   "nav_menu": {},
   "number_sections": true,
   "sideBar": true,
   "skip_h1_title": false,
   "title_cell": "Table of Contents",
   "title_sidebar": "Contents",
   "toc_cell": false,
   "toc_position": {},
   "toc_section_display": true,
   "toc_window_display": false
  },
  "varInspector": {
   "cols": {
    "lenName": 16,
    "lenType": 16,
    "lenVar": 40
   },
   "kernels_config": {
    "python": {
     "delete_cmd_postfix": "",
     "delete_cmd_prefix": "del ",
     "library": "var_list.py",
     "varRefreshCmd": "print(var_dic_list())"
    },
    "r": {
     "delete_cmd_postfix": ") ",
     "delete_cmd_prefix": "rm(",
     "library": "var_list.r",
     "varRefreshCmd": "cat(var_dic_list()) "
    }
   },
   "types_to_exclude": [
    "module",
    "function",
    "builtin_function_or_method",
    "instance",
    "_Feature"
   ],
   "window_display": false
  },
  "vp": {
   "vp_config_version": "1.0.0",
   "vp_menu_width": 273,
   "vp_note_display": false,
   "vp_note_width": 0,
   "vp_position": {
    "width": 278
   },
   "vp_section_display": false,
   "vp_signature": "VisualPython"
  }
 },
 "nbformat": 4,
 "nbformat_minor": 5
}
