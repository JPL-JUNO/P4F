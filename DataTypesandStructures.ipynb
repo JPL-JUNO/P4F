{
 "cells": [
  {
   "cell_type": "code",
   "execution_count": 1,
   "id": "7349bf0f",
   "metadata": {
    "ExecuteTime": {
     "end_time": "2022-09-14T13:29:57.160401Z",
     "start_time": "2022-09-14T13:29:57.146625Z"
    }
   },
   "outputs": [],
   "source": [
    "import keyword"
   ]
  },
  {
   "cell_type": "code",
   "execution_count": 2,
   "id": "21784bad",
   "metadata": {
    "ExecuteTime": {
     "end_time": "2022-09-14T13:29:57.175752Z",
     "start_time": "2022-09-14T13:29:57.161403Z"
    }
   },
   "outputs": [
    {
     "data": {
      "text/plain": [
       "['False',\n",
       " 'None',\n",
       " 'True',\n",
       " '__peg_parser__',\n",
       " 'and',\n",
       " 'as',\n",
       " 'assert',\n",
       " 'async',\n",
       " 'await',\n",
       " 'break',\n",
       " 'class',\n",
       " 'continue',\n",
       " 'def',\n",
       " 'del',\n",
       " 'elif',\n",
       " 'else',\n",
       " 'except',\n",
       " 'finally',\n",
       " 'for',\n",
       " 'from',\n",
       " 'global',\n",
       " 'if',\n",
       " 'import',\n",
       " 'in',\n",
       " 'is',\n",
       " 'lambda',\n",
       " 'nonlocal',\n",
       " 'not',\n",
       " 'or',\n",
       " 'pass',\n",
       " 'raise',\n",
       " 'return',\n",
       " 'try',\n",
       " 'while',\n",
       " 'with',\n",
       " 'yield']"
      ]
     },
     "execution_count": 2,
     "metadata": {},
     "output_type": "execute_result"
    }
   ],
   "source": [
    "keyword.kwlist"
   ]
  },
  {
   "cell_type": "code",
   "execution_count": 3,
   "id": "6d453ba9",
   "metadata": {
    "ExecuteTime": {
     "end_time": "2022-09-14T13:50:03.101440Z",
     "start_time": "2022-09-14T13:50:03.088671Z"
    },
    "scrolled": true
   },
   "outputs": [
    {
     "data": {
      "text/plain": [
       "1"
      ]
     },
     "execution_count": 3,
     "metadata": {},
     "output_type": "execute_result"
    }
   ],
   "source": [
    "int(True)"
   ]
  },
  {
   "cell_type": "code",
   "execution_count": 8,
   "id": "87a3bd56",
   "metadata": {
    "ExecuteTime": {
     "end_time": "2022-09-14T13:50:50.161537Z",
     "start_time": "2022-09-14T13:50:50.144478Z"
    }
   },
   "outputs": [
    {
     "data": {
      "text/plain": [
       "1.0"
      ]
     },
     "execution_count": 8,
     "metadata": {},
     "output_type": "execute_result"
    }
   ],
   "source": [
    "float(True)"
   ]
  },
  {
   "cell_type": "code",
   "execution_count": 4,
   "id": "a4f085c1",
   "metadata": {
    "ExecuteTime": {
     "end_time": "2022-09-14T13:50:09.183668Z",
     "start_time": "2022-09-14T13:50:09.171638Z"
    },
    "scrolled": true
   },
   "outputs": [
    {
     "data": {
      "text/plain": [
       "0"
      ]
     },
     "execution_count": 4,
     "metadata": {},
     "output_type": "execute_result"
    }
   ],
   "source": [
    "int(False)"
   ]
  },
  {
   "cell_type": "code",
   "execution_count": 9,
   "id": "c2c1a102",
   "metadata": {
    "ExecuteTime": {
     "end_time": "2022-09-14T13:51:00.880103Z",
     "start_time": "2022-09-14T13:51:00.872121Z"
    }
   },
   "outputs": [
    {
     "data": {
      "text/plain": [
       "0.0"
      ]
     },
     "execution_count": 9,
     "metadata": {},
     "output_type": "execute_result"
    }
   ],
   "source": [
    "float(False)"
   ]
  },
  {
   "cell_type": "code",
   "execution_count": 5,
   "id": "3eebbd1c",
   "metadata": {
    "ExecuteTime": {
     "end_time": "2022-09-14T13:50:14.974309Z",
     "start_time": "2022-09-14T13:50:14.953503Z"
    }
   },
   "outputs": [
    {
     "data": {
      "text/plain": [
       "False"
      ]
     },
     "execution_count": 5,
     "metadata": {},
     "output_type": "execute_result"
    }
   ],
   "source": [
    "bool(0)"
   ]
  },
  {
   "cell_type": "code",
   "execution_count": 6,
   "id": "e6c04483",
   "metadata": {
    "ExecuteTime": {
     "end_time": "2022-09-14T13:50:19.406350Z",
     "start_time": "2022-09-14T13:50:19.390481Z"
    }
   },
   "outputs": [
    {
     "data": {
      "text/plain": [
       "True"
      ]
     },
     "execution_count": 6,
     "metadata": {},
     "output_type": "execute_result"
    }
   ],
   "source": [
    "bool(1)"
   ]
  },
  {
   "cell_type": "code",
   "execution_count": 7,
   "id": "180095ad",
   "metadata": {
    "ExecuteTime": {
     "end_time": "2022-09-14T13:50:25.127119Z",
     "start_time": "2022-09-14T13:50:25.117124Z"
    }
   },
   "outputs": [
    {
     "data": {
      "text/plain": [
       "True"
      ]
     },
     "execution_count": 7,
     "metadata": {},
     "output_type": "execute_result"
    }
   ],
   "source": [
    "bool(39)"
   ]
  },
  {
   "cell_type": "code",
   "execution_count": 10,
   "id": "f81eed8b",
   "metadata": {
    "ExecuteTime": {
     "end_time": "2022-09-14T13:51:22.030690Z",
     "start_time": "2022-09-14T13:51:22.022448Z"
    }
   },
   "outputs": [
    {
     "data": {
      "text/plain": [
       "True"
      ]
     },
     "execution_count": 10,
     "metadata": {},
     "output_type": "execute_result"
    }
   ],
   "source": [
    "bool(-1)"
   ]
  },
  {
   "cell_type": "code",
   "execution_count": 11,
   "id": "e1f83c38",
   "metadata": {
    "ExecuteTime": {
     "end_time": "2022-09-14T13:51:29.616178Z",
     "start_time": "2022-09-14T13:51:29.600378Z"
    }
   },
   "outputs": [
    {
     "data": {
      "text/plain": [
       "True"
      ]
     },
     "execution_count": 11,
     "metadata": {},
     "output_type": "execute_result"
    }
   ],
   "source": [
    "bool(-10.5)"
   ]
  },
  {
   "cell_type": "code",
   "execution_count": 12,
   "id": "529e8ad5",
   "metadata": {
    "ExecuteTime": {
     "end_time": "2022-09-14T13:53:03.420070Z",
     "start_time": "2022-09-14T13:53:03.413437Z"
    }
   },
   "outputs": [],
   "source": [
    "t = 'this is a string object'"
   ]
  },
  {
   "cell_type": "code",
   "execution_count": 13,
   "id": "87893563",
   "metadata": {
    "ExecuteTime": {
     "end_time": "2022-09-14T13:53:10.628113Z",
     "start_time": "2022-09-14T13:53:10.614471Z"
    }
   },
   "outputs": [
    {
     "data": {
      "text/plain": [
       "'This is a string object'"
      ]
     },
     "execution_count": 13,
     "metadata": {},
     "output_type": "execute_result"
    }
   ],
   "source": [
    "t.capitalize()"
   ]
  },
  {
   "cell_type": "code",
   "execution_count": 14,
   "id": "3d3fc831",
   "metadata": {
    "ExecuteTime": {
     "end_time": "2022-09-14T13:53:17.655608Z",
     "start_time": "2022-09-14T13:53:17.638664Z"
    }
   },
   "outputs": [
    {
     "data": {
      "text/plain": [
       "['this', 'is', 'a', 'string', 'object']"
      ]
     },
     "execution_count": 14,
     "metadata": {},
     "output_type": "execute_result"
    }
   ],
   "source": [
    "t.split()"
   ]
  },
  {
   "cell_type": "code",
   "execution_count": 15,
   "id": "6041b6dc",
   "metadata": {
    "ExecuteTime": {
     "end_time": "2022-09-14T13:53:50.320039Z",
     "start_time": "2022-09-14T13:53:50.304605Z"
    }
   },
   "outputs": [
    {
     "data": {
      "text/plain": [
       "10"
      ]
     },
     "execution_count": 15,
     "metadata": {},
     "output_type": "execute_result"
    }
   ],
   "source": [
    "t.find('string')"
   ]
  },
  {
   "cell_type": "code",
   "execution_count": 16,
   "id": "43040ded",
   "metadata": {
    "ExecuteTime": {
     "end_time": "2022-09-14T13:53:59.280658Z",
     "start_time": "2022-09-14T13:53:59.275482Z"
    }
   },
   "outputs": [
    {
     "data": {
      "text/plain": [
       "-1"
      ]
     },
     "execution_count": 16,
     "metadata": {},
     "output_type": "execute_result"
    }
   ],
   "source": [
    "t.find('Python')"
   ]
  },
  {
   "cell_type": "code",
   "execution_count": 17,
   "id": "d49860a1",
   "metadata": {
    "ExecuteTime": {
     "end_time": "2022-09-14T13:55:07.928962Z",
     "start_time": "2022-09-14T13:55:07.913987Z"
    }
   },
   "outputs": [
    {
     "data": {
      "text/plain": [
       "'this|is|a|string|object'"
      ]
     },
     "execution_count": 17,
     "metadata": {},
     "output_type": "execute_result"
    }
   ],
   "source": [
    "t.replace(' ', '|')"
   ]
  },
  {
   "cell_type": "code",
   "execution_count": 18,
   "id": "1da9c3f3",
   "metadata": {
    "ExecuteTime": {
     "end_time": "2022-09-14T13:55:39.115967Z",
     "start_time": "2022-09-14T13:55:39.104433Z"
    }
   },
   "outputs": [
    {
     "data": {
      "text/plain": [
       "'www.python.org'"
      ]
     },
     "execution_count": 18,
     "metadata": {},
     "output_type": "execute_result"
    }
   ],
   "source": [
    "'http://www.python.org'.strip('htp:/')"
   ]
  },
  {
   "cell_type": "code",
   "execution_count": 20,
   "id": "72e6e66f",
   "metadata": {
    "ExecuteTime": {
     "end_time": "2022-09-14T13:59:28.338743Z",
     "start_time": "2022-09-14T13:59:28.326471Z"
    }
   },
   "outputs": [
    {
     "name": "stdout",
     "output_type": "stream",
     "text": [
      "0|1|2|3|"
     ]
    }
   ],
   "source": [
    "i = 0\n",
    "while i < 4:\n",
    "    print(i, end='|')\n",
    "    i += 1"
   ]
  },
  {
   "cell_type": "code",
   "execution_count": 73,
   "id": "93fda519",
   "metadata": {
    "ExecuteTime": {
     "end_time": "2022-09-14T14:33:37.401947Z",
     "start_time": "2022-09-14T14:33:37.396380Z"
    }
   },
   "outputs": [
    {
     "data": {
      "text/plain": [
       "'this is an integer 15'"
      ]
     },
     "execution_count": 73,
     "metadata": {},
     "output_type": "execute_result"
    }
   ],
   "source": [
    "'this is an integer %d' % 15"
   ]
  },
  {
   "cell_type": "code",
   "execution_count": 74,
   "id": "3eddfbc0",
   "metadata": {
    "ExecuteTime": {
     "end_time": "2022-09-14T14:33:38.011668Z",
     "start_time": "2022-09-14T14:33:38.002531Z"
    }
   },
   "outputs": [
    {
     "data": {
      "text/plain": [
       "'this is an integer   15'"
      ]
     },
     "execution_count": 74,
     "metadata": {},
     "output_type": "execute_result"
    }
   ],
   "source": [
    "'this is an integer %4d' % 15"
   ]
  },
  {
   "cell_type": "code",
   "execution_count": 75,
   "id": "e2b2fcd3",
   "metadata": {
    "ExecuteTime": {
     "end_time": "2022-09-14T14:33:38.591790Z",
     "start_time": "2022-09-14T14:33:38.581121Z"
    }
   },
   "outputs": [
    {
     "data": {
      "text/plain": [
       "'this is an integer 0015'"
      ]
     },
     "execution_count": 75,
     "metadata": {},
     "output_type": "execute_result"
    }
   ],
   "source": [
    "'this is an integer %04d' % 15"
   ]
  },
  {
   "cell_type": "code",
   "execution_count": 76,
   "id": "0cea832e",
   "metadata": {
    "ExecuteTime": {
     "end_time": "2022-09-14T14:33:40.530265Z",
     "start_time": "2022-09-14T14:33:40.516197Z"
    }
   },
   "outputs": [
    {
     "data": {
      "text/plain": [
       "'this is a float 15.345600'"
      ]
     },
     "execution_count": 76,
     "metadata": {},
     "output_type": "execute_result"
    }
   ],
   "source": [
    "'this is a float %f' % 15.3456"
   ]
  },
  {
   "cell_type": "code",
   "execution_count": 77,
   "id": "00d11405",
   "metadata": {
    "ExecuteTime": {
     "end_time": "2022-09-14T14:33:41.016357Z",
     "start_time": "2022-09-14T14:33:41.007998Z"
    }
   },
   "outputs": [
    {
     "data": {
      "text/plain": [
       "'this is a float 15.35'"
      ]
     },
     "execution_count": 77,
     "metadata": {},
     "output_type": "execute_result"
    }
   ],
   "source": [
    "'this is a float %.2f' % 15.3456"
   ]
  },
  {
   "cell_type": "code",
   "execution_count": 78,
   "id": "5ab943a7",
   "metadata": {
    "ExecuteTime": {
     "end_time": "2022-09-14T14:33:41.521407Z",
     "start_time": "2022-09-14T14:33:41.513349Z"
    }
   },
   "outputs": [
    {
     "data": {
      "text/plain": [
       "'this is a float 15.345600'"
      ]
     },
     "execution_count": 78,
     "metadata": {},
     "output_type": "execute_result"
    }
   ],
   "source": [
    "'this is a float %8f' % 15.3456"
   ]
  },
  {
   "cell_type": "code",
   "execution_count": 79,
   "id": "5daa86d1",
   "metadata": {
    "ExecuteTime": {
     "end_time": "2022-09-14T14:33:42.536188Z",
     "start_time": "2022-09-14T14:33:42.519235Z"
    }
   },
   "outputs": [
    {
     "data": {
      "text/plain": [
       "'this is a float    15.35'"
      ]
     },
     "execution_count": 79,
     "metadata": {},
     "output_type": "execute_result"
    }
   ],
   "source": [
    "'this is a float %8.2f' % 15.3456"
   ]
  },
  {
   "cell_type": "code",
   "execution_count": 80,
   "id": "06dafe9a",
   "metadata": {
    "ExecuteTime": {
     "end_time": "2022-09-14T14:33:43.801134Z",
     "start_time": "2022-09-14T14:33:43.787539Z"
    }
   },
   "outputs": [
    {
     "data": {
      "text/plain": [
       "'this is a string Python'"
      ]
     },
     "execution_count": 80,
     "metadata": {},
     "output_type": "execute_result"
    }
   ],
   "source": [
    "'this is a string %s' % 'Python'"
   ]
  },
  {
   "cell_type": "code",
   "execution_count": 81,
   "id": "2baf7103",
   "metadata": {
    "ExecuteTime": {
     "end_time": "2022-09-14T14:33:44.258190Z",
     "start_time": "2022-09-14T14:33:44.238198Z"
    }
   },
   "outputs": [
    {
     "data": {
      "text/plain": [
       "'this is a string     Python'"
      ]
     },
     "execution_count": 81,
     "metadata": {},
     "output_type": "execute_result"
    }
   ],
   "source": [
    "'this is a string %10s' % 'Python'"
   ]
  },
  {
   "cell_type": "code",
   "execution_count": 82,
   "id": "e25c9a17",
   "metadata": {
    "ExecuteTime": {
     "end_time": "2022-09-14T14:33:45.330637Z",
     "start_time": "2022-09-14T14:33:45.320513Z"
    }
   },
   "outputs": [
    {
     "data": {
      "text/plain": [
       "'this is an integer 15'"
      ]
     },
     "execution_count": 82,
     "metadata": {},
     "output_type": "execute_result"
    }
   ],
   "source": [
    "'this is an integer {:d}'.format(15)"
   ]
  },
  {
   "cell_type": "code",
   "execution_count": 83,
   "id": "5d8ea7dd",
   "metadata": {
    "ExecuteTime": {
     "end_time": "2022-09-14T14:33:45.850462Z",
     "start_time": "2022-09-14T14:33:45.839212Z"
    }
   },
   "outputs": [
    {
     "data": {
      "text/plain": [
       "'this is an integer   15'"
      ]
     },
     "execution_count": 83,
     "metadata": {},
     "output_type": "execute_result"
    }
   ],
   "source": [
    "'this is an integer {:4d}'.format(15)"
   ]
  },
  {
   "cell_type": "code",
   "execution_count": 84,
   "id": "a288d4ef",
   "metadata": {
    "ExecuteTime": {
     "end_time": "2022-09-14T14:33:46.718674Z",
     "start_time": "2022-09-14T14:33:46.705813Z"
    }
   },
   "outputs": [
    {
     "data": {
      "text/plain": [
       "'this is an integer 0015'"
      ]
     },
     "execution_count": 84,
     "metadata": {},
     "output_type": "execute_result"
    }
   ],
   "source": [
    "'this is an integer {:04d}'.format(15)"
   ]
  },
  {
   "cell_type": "code",
   "execution_count": 85,
   "id": "564a0997",
   "metadata": {
    "ExecuteTime": {
     "end_time": "2022-09-14T14:33:48.046746Z",
     "start_time": "2022-09-14T14:33:48.031610Z"
    }
   },
   "outputs": [
    {
     "data": {
      "text/plain": [
       "'this is a float 15.345600'"
      ]
     },
     "execution_count": 85,
     "metadata": {},
     "output_type": "execute_result"
    }
   ],
   "source": [
    "'this is a float {:f}'.format(15.3456)"
   ]
  },
  {
   "cell_type": "code",
   "execution_count": 86,
   "id": "d7afb007",
   "metadata": {
    "ExecuteTime": {
     "end_time": "2022-09-14T14:33:48.578411Z",
     "start_time": "2022-09-14T14:33:48.562824Z"
    }
   },
   "outputs": [
    {
     "data": {
      "text/plain": [
       "'this is a float 15.35'"
      ]
     },
     "execution_count": 86,
     "metadata": {},
     "output_type": "execute_result"
    }
   ],
   "source": [
    "'this is a float {:.2f}'.format(15.3456)"
   ]
  },
  {
   "cell_type": "code",
   "execution_count": 87,
   "id": "3709c5cd",
   "metadata": {
    "ExecuteTime": {
     "end_time": "2022-09-14T14:33:49.193316Z",
     "start_time": "2022-09-14T14:33:49.185697Z"
    }
   },
   "outputs": [
    {
     "data": {
      "text/plain": [
       "'this is a float 15.345600'"
      ]
     },
     "execution_count": 87,
     "metadata": {},
     "output_type": "execute_result"
    }
   ],
   "source": [
    "'this is a float {:8f}'.format(15.3456)"
   ]
  },
  {
   "cell_type": "code",
   "execution_count": 88,
   "id": "7ebcb30c",
   "metadata": {
    "ExecuteTime": {
     "end_time": "2022-09-14T14:33:49.740762Z",
     "start_time": "2022-09-14T14:33:49.729534Z"
    }
   },
   "outputs": [
    {
     "data": {
      "text/plain": [
       "'this is a float    15.35'"
      ]
     },
     "execution_count": 88,
     "metadata": {},
     "output_type": "execute_result"
    }
   ],
   "source": [
    "'this is a float {:8.2f}'.format(15.3456)"
   ]
  },
  {
   "cell_type": "code",
   "execution_count": 89,
   "id": "758a4b5b",
   "metadata": {
    "ExecuteTime": {
     "end_time": "2022-09-14T14:33:50.618230Z",
     "start_time": "2022-09-14T14:33:50.604196Z"
    }
   },
   "outputs": [
    {
     "data": {
      "text/plain": [
       "'this is a float 00015.35'"
      ]
     },
     "execution_count": 89,
     "metadata": {},
     "output_type": "execute_result"
    }
   ],
   "source": [
    "'this is a float {:08.2f}'.format(15.3456)"
   ]
  },
  {
   "cell_type": "code",
   "execution_count": 90,
   "id": "458eeb79",
   "metadata": {
    "ExecuteTime": {
     "end_time": "2022-09-14T14:33:51.111025Z",
     "start_time": "2022-09-14T14:33:51.088788Z"
    }
   },
   "outputs": [
    {
     "data": {
      "text/plain": [
       "'this is a string Python'"
      ]
     },
     "execution_count": 90,
     "metadata": {},
     "output_type": "execute_result"
    }
   ],
   "source": [
    "'this is a string {:s}'.format('Python')"
   ]
  },
  {
   "cell_type": "code",
   "execution_count": 91,
   "id": "ca17e861",
   "metadata": {
    "ExecuteTime": {
     "end_time": "2022-09-14T14:33:51.610974Z",
     "start_time": "2022-09-14T14:33:51.601893Z"
    }
   },
   "outputs": [
    {
     "data": {
      "text/plain": [
       "'this is a string Python    '"
      ]
     },
     "execution_count": 91,
     "metadata": {},
     "output_type": "execute_result"
    }
   ],
   "source": [
    "'this is a string {:10s}'.format('Python')"
   ]
  },
  {
   "cell_type": "code",
   "execution_count": 94,
   "id": "3c6c2fd7",
   "metadata": {
    "ExecuteTime": {
     "end_time": "2022-09-14T14:43:11.567126Z",
     "start_time": "2022-09-14T14:43:11.553603Z"
    }
   },
   "outputs": [],
   "source": [
    "import re"
   ]
  },
  {
   "cell_type": "code",
   "execution_count": 92,
   "id": "08a9816e",
   "metadata": {
    "ExecuteTime": {
     "end_time": "2022-09-14T14:42:46.882179Z",
     "start_time": "2022-09-14T14:42:46.869031Z"
    }
   },
   "outputs": [],
   "source": [
    "series = \"\"\"\n",
    "    '01/18/2014 13:00:00', 100, 'lst';\n",
    "    '01/18/2014 13:30:00', 110, '2nd';\n",
    "    '01/18/2014 14:00:00', 120, '3rd';\n",
    "\"\"\""
   ]
  },
  {
   "cell_type": "code",
   "execution_count": 97,
   "id": "a0be519d",
   "metadata": {
    "ExecuteTime": {
     "end_time": "2022-09-14T14:43:45.290546Z",
     "start_time": "2022-09-14T14:43:45.279242Z"
    }
   },
   "outputs": [],
   "source": [
    "dt = re.compile(\"'[0-9/:\\s]+'\")"
   ]
  },
  {
   "cell_type": "code",
   "execution_count": 99,
   "id": "558656a9",
   "metadata": {
    "ExecuteTime": {
     "end_time": "2022-09-14T14:44:14.416566Z",
     "start_time": "2022-09-14T14:44:14.397490Z"
    }
   },
   "outputs": [
    {
     "data": {
      "text/plain": [
       "[\"'01/18/2014 13:00:00'\", \"'01/18/2014 13:30:00'\", \"'01/18/2014 14:00:00'\"]"
      ]
     },
     "execution_count": 99,
     "metadata": {},
     "output_type": "execute_result"
    }
   ],
   "source": [
    "result = dt.findall(series)\n",
    "result"
   ]
  },
  {
   "cell_type": "code",
   "execution_count": 100,
   "id": "572f3988",
   "metadata": {
    "ExecuteTime": {
     "end_time": "2022-09-14T14:44:41.230769Z",
     "start_time": "2022-09-14T14:44:41.220488Z"
    }
   },
   "outputs": [],
   "source": [
    "from datetime import datetime"
   ]
  },
  {
   "cell_type": "code",
   "execution_count": 102,
   "id": "1ab4d4b6",
   "metadata": {
    "ExecuteTime": {
     "end_time": "2022-09-14T14:46:05.826782Z",
     "start_time": "2022-09-14T14:46:05.821273Z"
    }
   },
   "outputs": [
    {
     "data": {
      "text/plain": [
       "datetime.datetime(2014, 1, 18, 13, 0)"
      ]
     },
     "execution_count": 102,
     "metadata": {},
     "output_type": "execute_result"
    }
   ],
   "source": [
    "pydt = datetime.strptime(result[0].replace(\"'\", \"\"), '%m/%d/%Y %H:%M:%S')\n",
    "pydt"
   ]
  },
  {
   "cell_type": "code",
   "execution_count": 103,
   "id": "4c8ff38c",
   "metadata": {
    "ExecuteTime": {
     "end_time": "2022-09-14T14:46:20.067772Z",
     "start_time": "2022-09-14T14:46:20.056639Z"
    }
   },
   "outputs": [
    {
     "name": "stdout",
     "output_type": "stream",
     "text": [
      "2014-01-18 13:00:00\n"
     ]
    }
   ],
   "source": [
    "print(pydt)"
   ]
  },
  {
   "cell_type": "code",
   "execution_count": 105,
   "id": "10eedba6",
   "metadata": {
    "ExecuteTime": {
     "end_time": "2022-09-14T14:46:55.471227Z",
     "start_time": "2022-09-14T14:46:55.460358Z"
    }
   },
   "outputs": [
    {
     "name": "stdout",
     "output_type": "stream",
     "text": [
      "<class 'datetime.datetime'>\n"
     ]
    }
   ],
   "source": [
    "print(type(pydt))"
   ]
  },
  {
   "cell_type": "markdown",
   "id": "e246cf72",
   "metadata": {},
   "source": [
    "# Basic Data Structures"
   ]
  },
  {
   "cell_type": "code",
   "execution_count": 1,
   "id": "7b88524c",
   "metadata": {
    "ExecuteTime": {
     "end_time": "2022-09-15T14:25:56.294343Z",
     "start_time": "2022-09-15T14:25:56.276639Z"
    }
   },
   "outputs": [],
   "source": [
    "t = (1, 2.5, 'data')"
   ]
  },
  {
   "cell_type": "code",
   "execution_count": 2,
   "id": "ac2efee8",
   "metadata": {
    "ExecuteTime": {
     "end_time": "2022-09-15T14:26:34.110356Z",
     "start_time": "2022-09-15T14:26:34.094393Z"
    }
   },
   "outputs": [
    {
     "data": {
      "text/plain": [
       "tuple"
      ]
     },
     "execution_count": 2,
     "metadata": {},
     "output_type": "execute_result"
    }
   ],
   "source": [
    "type(t)"
   ]
  },
  {
   "cell_type": "code",
   "execution_count": 3,
   "id": "2b871625",
   "metadata": {
    "ExecuteTime": {
     "end_time": "2022-09-15T14:26:52.177026Z",
     "start_time": "2022-09-15T14:26:52.169009Z"
    }
   },
   "outputs": [
    {
     "data": {
      "text/plain": [
       "tuple"
      ]
     },
     "execution_count": 3,
     "metadata": {},
     "output_type": "execute_result"
    }
   ],
   "source": [
    "t = 1, 2.5, 'data'\n",
    "type(t)"
   ]
  },
  {
   "cell_type": "code",
   "execution_count": 4,
   "id": "d13279bc",
   "metadata": {
    "ExecuteTime": {
     "end_time": "2022-09-15T14:27:23.663322Z",
     "start_time": "2022-09-15T14:27:23.654293Z"
    }
   },
   "outputs": [
    {
     "data": {
      "text/plain": [
       "1"
      ]
     },
     "execution_count": 4,
     "metadata": {},
     "output_type": "execute_result"
    }
   ],
   "source": [
    "t.count('data')"
   ]
  },
  {
   "cell_type": "code",
   "execution_count": 5,
   "id": "a648db8a",
   "metadata": {
    "ExecuteTime": {
     "end_time": "2022-09-15T14:27:29.336163Z",
     "start_time": "2022-09-15T14:27:29.320163Z"
    }
   },
   "outputs": [
    {
     "data": {
      "text/plain": [
       "0"
      ]
     },
     "execution_count": 5,
     "metadata": {},
     "output_type": "execute_result"
    }
   ],
   "source": [
    "t.index(1)"
   ]
  },
  {
   "cell_type": "code",
   "execution_count": 12,
   "id": "60344c0e",
   "metadata": {
    "ExecuteTime": {
     "end_time": "2022-09-15T14:28:35.471277Z",
     "start_time": "2022-09-15T14:28:35.465255Z"
    }
   },
   "outputs": [
    {
     "data": {
      "text/plain": [
       "'data'"
      ]
     },
     "execution_count": 12,
     "metadata": {},
     "output_type": "execute_result"
    }
   ],
   "source": [
    "l = [1, 1.5, 'data']\n",
    "l[2]"
   ]
  },
  {
   "cell_type": "code",
   "execution_count": 8,
   "id": "15547b64",
   "metadata": {
    "ExecuteTime": {
     "end_time": "2022-09-15T14:28:02.598673Z",
     "start_time": "2022-09-15T14:28:02.570319Z"
    }
   },
   "outputs": [
    {
     "data": {
      "text/plain": [
       "[1, 2.5, 'data']"
      ]
     },
     "execution_count": 8,
     "metadata": {},
     "output_type": "execute_result"
    }
   ],
   "source": [
    "l = list(t)\n",
    "l"
   ]
  },
  {
   "cell_type": "code",
   "execution_count": 9,
   "id": "44ad40d7",
   "metadata": {
    "ExecuteTime": {
     "end_time": "2022-09-15T14:28:12.020529Z",
     "start_time": "2022-09-15T14:28:12.011526Z"
    }
   },
   "outputs": [
    {
     "data": {
      "text/plain": [
       "list"
      ]
     },
     "execution_count": 9,
     "metadata": {},
     "output_type": "execute_result"
    }
   ],
   "source": [
    "type(l)"
   ]
  },
  {
   "cell_type": "code",
   "execution_count": 13,
   "id": "f96c4104",
   "metadata": {
    "ExecuteTime": {
     "end_time": "2022-09-15T14:28:37.670449Z",
     "start_time": "2022-09-15T14:28:37.656595Z"
    }
   },
   "outputs": [
    {
     "data": {
      "text/plain": [
       "[1, 1.5, 'data', [4, 3]]"
      ]
     },
     "execution_count": 13,
     "metadata": {},
     "output_type": "execute_result"
    }
   ],
   "source": [
    "l.append([4, 3])\n",
    "l"
   ]
  },
  {
   "cell_type": "code",
   "execution_count": 14,
   "id": "3a0bc41d",
   "metadata": {
    "ExecuteTime": {
     "end_time": "2022-09-15T14:28:56.921997Z",
     "start_time": "2022-09-15T14:28:56.918500Z"
    }
   },
   "outputs": [],
   "source": [
    "l.extend([1.0, 1.5, 2.0])"
   ]
  },
  {
   "cell_type": "code",
   "execution_count": 15,
   "id": "ad5258b8",
   "metadata": {
    "ExecuteTime": {
     "end_time": "2022-09-15T14:29:02.496453Z",
     "start_time": "2022-09-15T14:29:02.485105Z"
    }
   },
   "outputs": [
    {
     "data": {
      "text/plain": [
       "[1, 1.5, 'data', [4, 3], 1.0, 1.5, 2.0]"
      ]
     },
     "execution_count": 15,
     "metadata": {},
     "output_type": "execute_result"
    }
   ],
   "source": [
    "l"
   ]
  },
  {
   "cell_type": "code",
   "execution_count": 16,
   "id": "57a0748f",
   "metadata": {
    "ExecuteTime": {
     "end_time": "2022-09-15T14:29:13.597877Z",
     "start_time": "2022-09-15T14:29:13.580733Z"
    }
   },
   "outputs": [
    {
     "data": {
      "text/plain": [
       "[1, 'insert', 1.5, 'data', [4, 3], 1.0, 1.5, 2.0]"
      ]
     },
     "execution_count": 16,
     "metadata": {},
     "output_type": "execute_result"
    }
   ],
   "source": [
    "l.insert(1, 'insert')\n",
    "l"
   ]
  },
  {
   "cell_type": "code",
   "execution_count": 17,
   "id": "df99f415",
   "metadata": {
    "ExecuteTime": {
     "end_time": "2022-09-15T14:29:25.536629Z",
     "start_time": "2022-09-15T14:29:25.518432Z"
    }
   },
   "outputs": [
    {
     "data": {
      "text/plain": [
       "[1, 'insert', 1.5, [4, 3], 1.0, 1.5, 2.0]"
      ]
     },
     "execution_count": 17,
     "metadata": {},
     "output_type": "execute_result"
    }
   ],
   "source": [
    "l.remove('data')\n",
    "l"
   ]
  },
  {
   "cell_type": "code",
   "execution_count": 18,
   "id": "a6c35fe9",
   "metadata": {
    "ExecuteTime": {
     "end_time": "2022-09-15T14:29:38.600512Z",
     "start_time": "2022-09-15T14:29:38.587265Z"
    }
   },
   "outputs": [
    {
     "name": "stdout",
     "output_type": "stream",
     "text": [
      "[1, 'insert', 1.5, 1.0, 1.5, 2.0] [4, 3]\n"
     ]
    }
   ],
   "source": [
    "p = l.pop(3)\n",
    "print(l, p)"
   ]
  },
  {
   "cell_type": "code",
   "execution_count": 19,
   "id": "74c60932",
   "metadata": {
    "ExecuteTime": {
     "end_time": "2022-09-15T14:30:38.952775Z",
     "start_time": "2022-09-15T14:30:38.942659Z"
    }
   },
   "outputs": [],
   "source": [
    "del l[1:-1:2]\n",
    "l"
   ]
  },
  {
   "cell_type": "code",
   "execution_count": 29,
   "id": "3a919052",
   "metadata": {
    "ExecuteTime": {
     "end_time": "2022-09-15T14:39:57.775291Z",
     "start_time": "2022-09-15T14:39:57.767285Z"
    }
   },
   "outputs": [
    {
     "name": "stdout",
     "output_type": "stream",
     "text": [
      "28.09\n",
      "20.25\n",
      "56.25\n"
     ]
    }
   ],
   "source": [
    "l = [1, 2, 5.3, 4.5, 7.5, 7.9]\n",
    "for element in l[2: 5]:\n",
    "    print(element ** 2)"
   ]
  },
  {
   "cell_type": "code",
   "execution_count": 30,
   "id": "4953c649",
   "metadata": {
    "ExecuteTime": {
     "end_time": "2022-09-15T14:40:55.615907Z",
     "start_time": "2022-09-15T14:40:55.596829Z"
    }
   },
   "outputs": [
    {
     "data": {
      "text/plain": [
       "range(0, 8)"
      ]
     },
     "execution_count": 30,
     "metadata": {},
     "output_type": "execute_result"
    }
   ],
   "source": [
    "r = range(0, 8, 1)\n",
    "r"
   ]
  },
  {
   "cell_type": "code",
   "execution_count": 31,
   "id": "1ade83e7",
   "metadata": {
    "ExecuteTime": {
     "end_time": "2022-09-15T14:41:02.452938Z",
     "start_time": "2022-09-15T14:41:02.435885Z"
    }
   },
   "outputs": [
    {
     "data": {
      "text/plain": [
       "range"
      ]
     },
     "execution_count": 31,
     "metadata": {},
     "output_type": "execute_result"
    }
   ],
   "source": [
    "type(r)"
   ]
  },
  {
   "cell_type": "code",
   "execution_count": 32,
   "id": "f09a693f",
   "metadata": {
    "ExecuteTime": {
     "end_time": "2022-09-15T14:41:35.052829Z",
     "start_time": "2022-09-15T14:41:35.046239Z"
    }
   },
   "outputs": [
    {
     "name": "stdout",
     "output_type": "stream",
     "text": [
      "28.09\n",
      "20.25\n",
      "56.25\n"
     ]
    }
   ],
   "source": [
    "for i in range(2, 5):\n",
    "    print(l[i] ** 2)"
   ]
  },
  {
   "cell_type": "code",
   "execution_count": 33,
   "id": "856c4bdc",
   "metadata": {
    "ExecuteTime": {
     "end_time": "2022-09-15T14:42:01.128025Z",
     "start_time": "2022-09-15T14:42:01.109037Z"
    }
   },
   "outputs": [
    {
     "data": {
      "text/plain": [
       "[5.3, 4.5, 7.5]"
      ]
     },
     "execution_count": 33,
     "metadata": {},
     "output_type": "execute_result"
    }
   ],
   "source": [
    "l[2: 5]"
   ]
  },
  {
   "cell_type": "code",
   "execution_count": 35,
   "id": "5cb7f85e",
   "metadata": {
    "ExecuteTime": {
     "end_time": "2022-09-15T14:45:01.246087Z",
     "start_time": "2022-09-15T14:45:01.240902Z"
    }
   },
   "outputs": [
    {
     "name": "stdout",
     "output_type": "stream",
     "text": [
      "1 is odd\n",
      "2 is even\n",
      "3 is multiple of 3\n",
      "4 is even\n",
      "5 is odd\n",
      "6 is even\n",
      "7 is odd\n",
      "8 is even\n",
      "9 is multiple of 3\n"
     ]
    }
   ],
   "source": [
    "for i in range(1, 10):\n",
    "    if i % 2 == 0:\n",
    "        print(\"{} is even\".format(i))\n",
    "    elif i % 3 == 0:\n",
    "        print('{} is multiple of 3'.format(i))\n",
    "    else:\n",
    "        print('{} is odd'.format(i))"
   ]
  },
  {
   "cell_type": "code",
   "execution_count": 36,
   "id": "0ed617d4",
   "metadata": {
    "ExecuteTime": {
     "end_time": "2022-09-15T14:45:51.109856Z",
     "start_time": "2022-09-15T14:45:51.096115Z"
    }
   },
   "outputs": [
    {
     "name": "stdout",
     "output_type": "stream",
     "text": [
      "100\n"
     ]
    }
   ],
   "source": [
    "total = 0\n",
    "while total < 100:\n",
    "    total += 1\n",
    "print(total)"
   ]
  },
  {
   "cell_type": "code",
   "execution_count": 37,
   "id": "f74aff63",
   "metadata": {
    "ExecuteTime": {
     "end_time": "2022-09-15T14:46:35.926532Z",
     "start_time": "2022-09-15T14:46:35.916008Z"
    }
   },
   "outputs": [
    {
     "data": {
      "text/plain": [
       "[0, 1, 4, 9, 16]"
      ]
     },
     "execution_count": 37,
     "metadata": {},
     "output_type": "execute_result"
    }
   ],
   "source": [
    "m = [i ** 2 for i in range(5)]\n",
    "m"
   ]
  },
  {
   "cell_type": "code",
   "execution_count": 38,
   "id": "a7298285",
   "metadata": {
    "ExecuteTime": {
     "end_time": "2022-09-15T14:47:52.607337Z",
     "start_time": "2022-09-15T14:47:52.599673Z"
    }
   },
   "outputs": [
    {
     "data": {
      "text/plain": [
       "49"
      ]
     },
     "execution_count": 38,
     "metadata": {},
     "output_type": "execute_result"
    }
   ],
   "source": [
    "def f(x):\n",
    "    return x ** 2\n",
    "f(7)"
   ]
  },
  {
   "cell_type": "code",
   "execution_count": 39,
   "id": "337c50cf",
   "metadata": {
    "ExecuteTime": {
     "end_time": "2022-09-15T14:48:18.187586Z",
     "start_time": "2022-09-15T14:48:18.181187Z"
    }
   },
   "outputs": [
    {
     "data": {
      "text/plain": [
       "False"
      ]
     },
     "execution_count": 39,
     "metadata": {},
     "output_type": "execute_result"
    }
   ],
   "source": [
    "def even(x):\n",
    "    return x % 2 == 0\n",
    "even(3)"
   ]
  },
  {
   "cell_type": "code",
   "execution_count": 41,
   "id": "5262eecd",
   "metadata": {
    "ExecuteTime": {
     "end_time": "2022-09-15T14:48:47.799414Z",
     "start_time": "2022-09-15T14:48:47.784211Z"
    }
   },
   "outputs": [
    {
     "data": {
      "text/plain": [
       "[True, False, True, False, True, False, True, False, True, False]"
      ]
     },
     "execution_count": 41,
     "metadata": {},
     "output_type": "execute_result"
    }
   ],
   "source": [
    "list(map(even, range(10)))"
   ]
  },
  {
   "cell_type": "code",
   "execution_count": 42,
   "id": "d4158db6",
   "metadata": {
    "ExecuteTime": {
     "end_time": "2022-09-15T14:49:23.053466Z",
     "start_time": "2022-09-15T14:49:23.038755Z"
    }
   },
   "outputs": [
    {
     "data": {
      "text/plain": [
       "[0, 1, 4, 9, 16, 25, 36, 49, 64, 81]"
      ]
     },
     "execution_count": 42,
     "metadata": {},
     "output_type": "execute_result"
    }
   ],
   "source": [
    "list(map(lambda x: x ** 2, range(10)))"
   ]
  },
  {
   "cell_type": "code",
   "execution_count": 43,
   "id": "626055ad",
   "metadata": {
    "ExecuteTime": {
     "end_time": "2022-09-15T14:49:50.978240Z",
     "start_time": "2022-09-15T14:49:50.961484Z"
    }
   },
   "outputs": [
    {
     "data": {
      "text/plain": [
       "[0, 2, 4, 6, 8, 10, 12, 14]"
      ]
     },
     "execution_count": 43,
     "metadata": {},
     "output_type": "execute_result"
    }
   ],
   "source": [
    "list(filter(even, range(15)))"
   ]
  },
  {
   "cell_type": "code",
   "execution_count": 47,
   "id": "aa3c79b8",
   "metadata": {
    "ExecuteTime": {
     "end_time": "2022-09-15T15:09:53.930085Z",
     "start_time": "2022-09-15T15:09:53.914249Z"
    }
   },
   "outputs": [
    {
     "data": {
      "text/plain": [
       "dict"
      ]
     },
     "execution_count": 47,
     "metadata": {},
     "output_type": "execute_result"
    }
   ],
   "source": [
    "d = {\n",
    "    'Name': 'Angela Merker',\n",
    "    'Country': 'Germany',\n",
    "    'Profession': 'Chancellor',\n",
    "    'Age': 64\n",
    "}\n",
    "type(d)"
   ]
  },
  {
   "cell_type": "code",
   "execution_count": 48,
   "id": "75cc1a14",
   "metadata": {
    "ExecuteTime": {
     "end_time": "2022-09-15T15:09:54.410920Z",
     "start_time": "2022-09-15T15:09:54.398174Z"
    }
   },
   "outputs": [
    {
     "name": "stdout",
     "output_type": "stream",
     "text": [
      "Angela Merker 64\n"
     ]
    }
   ],
   "source": [
    "print(d['Name'], d['Age'])"
   ]
  },
  {
   "cell_type": "code",
   "execution_count": 49,
   "id": "69445365",
   "metadata": {
    "ExecuteTime": {
     "end_time": "2022-09-15T15:10:15.128450Z",
     "start_time": "2022-09-15T15:10:15.114563Z"
    }
   },
   "outputs": [
    {
     "data": {
      "text/plain": [
       "dict_keys(['Name', 'Country', 'Profession', 'Age'])"
      ]
     },
     "execution_count": 49,
     "metadata": {},
     "output_type": "execute_result"
    }
   ],
   "source": [
    "d.keys()"
   ]
  },
  {
   "cell_type": "code",
   "execution_count": 50,
   "id": "88a5891b",
   "metadata": {
    "ExecuteTime": {
     "end_time": "2022-09-15T15:10:21.815121Z",
     "start_time": "2022-09-15T15:10:21.787290Z"
    }
   },
   "outputs": [
    {
     "data": {
      "text/plain": [
       "dict_values(['Angela Merker', 'Germany', 'Chancellor', 64])"
      ]
     },
     "execution_count": 50,
     "metadata": {},
     "output_type": "execute_result"
    }
   ],
   "source": [
    "d.values()"
   ]
  },
  {
   "cell_type": "code",
   "execution_count": 51,
   "id": "4a6eb47f",
   "metadata": {
    "ExecuteTime": {
     "end_time": "2022-09-15T15:10:26.853299Z",
     "start_time": "2022-09-15T15:10:26.848316Z"
    }
   },
   "outputs": [
    {
     "data": {
      "text/plain": [
       "dict_items([('Name', 'Angela Merker'), ('Country', 'Germany'), ('Profession', 'Chancellor'), ('Age', 64)])"
      ]
     },
     "execution_count": 51,
     "metadata": {},
     "output_type": "execute_result"
    }
   ],
   "source": [
    "d.items()"
   ]
  },
  {
   "cell_type": "code",
   "execution_count": 53,
   "id": "dc8bb067",
   "metadata": {
    "ExecuteTime": {
     "end_time": "2022-09-15T15:11:12.916315Z",
     "start_time": "2022-09-15T15:11:12.912342Z"
    }
   },
   "outputs": [
    {
     "name": "stdout",
     "output_type": "stream",
     "text": [
      "65\n"
     ]
    }
   ],
   "source": [
    "birthday = True\n",
    "if birthday:\n",
    "    d['Age'] += 1\n",
    "print(d['Age'])"
   ]
  },
  {
   "cell_type": "code",
   "execution_count": 54,
   "id": "ea888eb4",
   "metadata": {
    "ExecuteTime": {
     "end_time": "2022-09-15T15:11:42.804559Z",
     "start_time": "2022-09-15T15:11:42.798482Z"
    }
   },
   "outputs": [
    {
     "name": "stdout",
     "output_type": "stream",
     "text": [
      "('Name', 'Angela Merker')\n",
      "('Country', 'Germany')\n",
      "('Profession', 'Chancellor')\n",
      "('Age', 65)\n"
     ]
    }
   ],
   "source": [
    "for item in d.items():\n",
    "    print(item)"
   ]
  },
  {
   "cell_type": "code",
   "execution_count": 56,
   "id": "ba330a0f",
   "metadata": {
    "ExecuteTime": {
     "end_time": "2022-09-15T15:12:17.350719Z",
     "start_time": "2022-09-15T15:12:17.334959Z"
    }
   },
   "outputs": [
    {
     "name": "stdout",
     "output_type": "stream",
     "text": [
      "Angela Merker <class 'str'>\n",
      "Germany <class 'str'>\n",
      "Chancellor <class 'str'>\n",
      "65 <class 'int'>\n"
     ]
    }
   ],
   "source": [
    "for value in d.values():\n",
    "    print(value, type(value))"
   ]
  },
  {
   "cell_type": "code",
   "execution_count": 57,
   "id": "e1d4cd89",
   "metadata": {
    "ExecuteTime": {
     "end_time": "2022-09-15T15:13:49.911302Z",
     "start_time": "2022-09-15T15:13:49.884535Z"
    }
   },
   "outputs": [
    {
     "data": {
      "text/plain": [
       "{'d', 'du', 'u', 'ud'}"
      ]
     },
     "execution_count": 57,
     "metadata": {},
     "output_type": "execute_result"
    }
   ],
   "source": [
    "s = set(['u', 'd', 'ud', 'du', 'd', 'du'])\n",
    "s"
   ]
  },
  {
   "cell_type": "code",
   "execution_count": 58,
   "id": "aa6c2b41",
   "metadata": {
    "ExecuteTime": {
     "end_time": "2022-09-15T15:14:17.535791Z",
     "start_time": "2022-09-15T15:14:17.525024Z"
    }
   },
   "outputs": [],
   "source": [
    "t = set(['d', 'dd', 'uu', 'u'])"
   ]
  },
  {
   "cell_type": "code",
   "execution_count": 59,
   "id": "5b82a5a3",
   "metadata": {
    "ExecuteTime": {
     "end_time": "2022-09-15T15:14:22.300252Z",
     "start_time": "2022-09-15T15:14:22.280455Z"
    }
   },
   "outputs": [
    {
     "data": {
      "text/plain": [
       "{'d', 'dd', 'du', 'u', 'ud', 'uu'}"
      ]
     },
     "execution_count": 59,
     "metadata": {},
     "output_type": "execute_result"
    }
   ],
   "source": [
    "s.union(t)"
   ]
  },
  {
   "cell_type": "code",
   "execution_count": 60,
   "id": "3088bdf2",
   "metadata": {
    "ExecuteTime": {
     "end_time": "2022-09-15T15:14:30.724667Z",
     "start_time": "2022-09-15T15:14:30.705802Z"
    }
   },
   "outputs": [
    {
     "data": {
      "text/plain": [
       "{'d', 'u'}"
      ]
     },
     "execution_count": 60,
     "metadata": {},
     "output_type": "execute_result"
    }
   ],
   "source": [
    "s.intersection(t)"
   ]
  },
  {
   "cell_type": "code",
   "execution_count": 61,
   "id": "8364fadb",
   "metadata": {
    "ExecuteTime": {
     "end_time": "2022-09-15T15:14:38.050775Z",
     "start_time": "2022-09-15T15:14:38.037751Z"
    }
   },
   "outputs": [
    {
     "data": {
      "text/plain": [
       "{'du', 'ud'}"
      ]
     },
     "execution_count": 61,
     "metadata": {},
     "output_type": "execute_result"
    }
   ],
   "source": [
    "s.difference(t)"
   ]
  },
  {
   "cell_type": "code",
   "execution_count": 62,
   "id": "ce24f9aa",
   "metadata": {
    "ExecuteTime": {
     "end_time": "2022-09-15T15:14:42.072226Z",
     "start_time": "2022-09-15T15:14:42.056242Z"
    }
   },
   "outputs": [
    {
     "data": {
      "text/plain": [
       "{'dd', 'uu'}"
      ]
     },
     "execution_count": 62,
     "metadata": {},
     "output_type": "execute_result"
    }
   ],
   "source": [
    "t.difference(s)"
   ]
  },
  {
   "cell_type": "code",
   "execution_count": 63,
   "id": "a6fc8d4c",
   "metadata": {
    "ExecuteTime": {
     "end_time": "2022-09-15T15:14:53.268431Z",
     "start_time": "2022-09-15T15:14:53.254684Z"
    }
   },
   "outputs": [
    {
     "data": {
      "text/plain": [
       "{'dd', 'du', 'ud', 'uu'}"
      ]
     },
     "execution_count": 63,
     "metadata": {},
     "output_type": "execute_result"
    }
   ],
   "source": [
    "s.symmetric_difference(t)"
   ]
  },
  {
   "cell_type": "code",
   "execution_count": 64,
   "id": "7e2198b9",
   "metadata": {
    "ExecuteTime": {
     "end_time": "2022-09-15T15:15:48.085012Z",
     "start_time": "2022-09-15T15:15:48.074345Z"
    }
   },
   "outputs": [],
   "source": [
    "from random import randint"
   ]
  },
  {
   "cell_type": "code",
   "execution_count": 65,
   "id": "76330869",
   "metadata": {
    "ExecuteTime": {
     "end_time": "2022-09-15T15:16:09.477272Z",
     "start_time": "2022-09-15T15:16:09.469233Z"
    }
   },
   "outputs": [
    {
     "data": {
      "text/plain": [
       "1000"
      ]
     },
     "execution_count": 65,
     "metadata": {},
     "output_type": "execute_result"
    }
   ],
   "source": [
    "l = [randint(0, 10) for i in range(1000)]\n",
    "len(l)"
   ]
  },
  {
   "cell_type": "code",
   "execution_count": 66,
   "id": "76fddb07",
   "metadata": {
    "ExecuteTime": {
     "end_time": "2022-09-15T15:16:14.290529Z",
     "start_time": "2022-09-15T15:16:14.272035Z"
    }
   },
   "outputs": [
    {
     "data": {
      "text/plain": [
       "[0, 10, 3, 5, 8, 2, 2, 9, 1, 3, 10, 2, 2, 4, 5, 2, 3, 6, 5, 5]"
      ]
     },
     "execution_count": 66,
     "metadata": {},
     "output_type": "execute_result"
    }
   ],
   "source": [
    "l[: 20]"
   ]
  },
  {
   "cell_type": "code",
   "execution_count": 68,
   "id": "56462edf",
   "metadata": {
    "ExecuteTime": {
     "end_time": "2022-09-15T15:16:24.822050Z",
     "start_time": "2022-09-15T15:16:24.794683Z"
    }
   },
   "outputs": [
    {
     "data": {
      "text/plain": [
       "{0, 1, 2, 3, 4, 5, 6, 7, 8, 9, 10}"
      ]
     },
     "execution_count": 68,
     "metadata": {},
     "output_type": "execute_result"
    }
   ],
   "source": [
    "s = set(l)\n",
    "s"
   ]
  },
  {
   "cell_type": "code",
   "execution_count": null,
   "id": "1bf77b5d",
   "metadata": {},
   "outputs": [],
   "source": []
  }
 ],
 "metadata": {
  "kernelspec": {
   "display_name": "Python 3 (ipykernel)",
   "language": "python",
   "name": "python3"
  },
  "language_info": {
   "codemirror_mode": {
    "name": "ipython",
    "version": 3
   },
   "file_extension": ".py",
   "mimetype": "text/x-python",
   "name": "python",
   "nbconvert_exporter": "python",
   "pygments_lexer": "ipython3",
   "version": "3.9.12"
  },
  "latex_envs": {
   "LaTeX_envs_menu_present": true,
   "autoclose": false,
   "autocomplete": true,
   "bibliofile": "biblio.bib",
   "cite_by": "apalike",
   "current_citInitial": 1,
   "eqLabelWithNumbers": true,
   "eqNumInitial": 1,
   "hotkeys": {
    "equation": "Ctrl-E",
    "itemize": "Ctrl-I"
   },
   "labels_anchors": false,
   "latex_user_defs": false,
   "report_style_numbering": false,
   "user_envs_cfg": false
  },
  "toc": {
   "base_numbering": 1,
   "nav_menu": {},
   "number_sections": true,
   "sideBar": true,
   "skip_h1_title": false,
   "title_cell": "Table of Contents",
   "title_sidebar": "Contents",
   "toc_cell": false,
   "toc_position": {},
   "toc_section_display": true,
   "toc_window_display": false
  },
  "varInspector": {
   "cols": {
    "lenName": 16,
    "lenType": 16,
    "lenVar": 40
   },
   "kernels_config": {
    "python": {
     "delete_cmd_postfix": "",
     "delete_cmd_prefix": "del ",
     "library": "var_list.py",
     "varRefreshCmd": "print(var_dic_list())"
    },
    "r": {
     "delete_cmd_postfix": ") ",
     "delete_cmd_prefix": "rm(",
     "library": "var_list.r",
     "varRefreshCmd": "cat(var_dic_list()) "
    }
   },
   "types_to_exclude": [
    "module",
    "function",
    "builtin_function_or_method",
    "instance",
    "_Feature"
   ],
   "window_display": false
  },
  "vp": {
   "vp_config_version": "1.0.0",
   "vp_menu_width": 273,
   "vp_note_display": false,
   "vp_note_width": 0,
   "vp_position": {
    "width": 278
   },
   "vp_section_display": false,
   "vp_signature": "VisualPython"
  }
 },
 "nbformat": 4,
 "nbformat_minor": 5
}
